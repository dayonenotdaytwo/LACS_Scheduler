{
 "cells": [
  {
   "cell_type": "code",
   "execution_count": 20,
   "metadata": {},
   "outputs": [
    {
     "name": "stdout",
     "output_type": "stream",
     "text": [
      "Optimize a model with 2 rows, 3 columns and 5 nonzeros\n",
      "Variable types: 0 continuous, 3 integer (3 binary)\n",
      "Coefficient statistics:\n",
      "  Matrix range     [1e+00, 3e+00]\n",
      "  Objective range  [1e+00, 2e+00]\n",
      "  Bounds range     [1e+00, 1e+00]\n",
      "  RHS range        [1e+00, 4e+00]\n",
      "Found heuristic solution: objective 2.0000000\n",
      "Presolve removed 2 rows and 3 columns\n",
      "Presolve time: 0.10s\n",
      "Presolve: All rows and columns removed\n",
      "\n",
      "Explored 0 nodes (0 simplex iterations) in 0.28 seconds\n",
      "Thread count was 1 (of 4 available processors)\n",
      "\n",
      "Solution count 2: 3 2 \n",
      "\n",
      "Optimal solution found (tolerance 1.00e-04)\n",
      "Best objective 3.000000000000e+00, best bound 3.000000000000e+00, gap 0.0000%\n",
      "x 1.0\n",
      "y 0.0\n",
      "z 1.0\n",
      "Obj: 3.0\n"
     ]
    }
   ],
   "source": [
    "# Toy example given by gurobi\n",
    "\n",
    "from gurobipy import *\n",
    "\n",
    "try:\n",
    "    # create a new model\n",
    "    m = Model(\"mip1\")\n",
    "\n",
    "    # create variables\n",
    "    x = m.addVar(vtype=GRB.BINARY, name=\"x\")\n",
    "    y = m.addVar(vtype=GRB.BINARY, name=\"y\")\n",
    "    z = m.addVar(vtype=GRB.BINARY, name=\"z\")\n",
    "\n",
    "    # Establish objective\n",
    "\n",
    "    m.setObjective(x+y+2*z, GRB.MAXIMIZE)\n",
    "\n",
    "    # Add constraint 1\n",
    "    m.addConstr(x+2*y+3*z<=4,\"c0\")\n",
    "    # Add constraint 2\n",
    "    m.addConstr(x+y>=1,\"c1\")\n",
    "    m.optimize()\n",
    "    for v in m.getVars():\n",
    "        print(v.varName,v.x)\n",
    "    print('Obj:', m.objVal)\n",
    "except GurobiError:\n",
    "    print('Error reported')"
   ]
  },
  {
   "cell_type": "code",
   "execution_count": 14,
   "metadata": {},
   "outputs": [],
   "source": [
    "import pandas as pd\n",
    "import numpy as np\n",
    "from gurobipy import *\n",
    "\n",
    "################################################################################\n",
    "############################### New formulation ################################\n",
    "################################################################################\n",
    "\n",
    "### The second formulation works by constraining the max class sizes, \n",
    "### rather than constrain them. This is to analyze the different effects of \n",
    "### formulating similar, but different problems\n",
    "\n",
    "\n",
    "### Read in the data (first choice, second choice, third choice)\n",
    "\n",
    "first_choice = pd.read_csv(\"../Resources/FirstChoiceBinary.csv\")\n",
    "second_choice = pd.read_csv(\"../Resources/SecondChoiceBinary.csv\")\n",
    "third_choice = pd.read_csv(\"../Resources/ThirdChoiceBinary.csv\")\n",
    "\n",
    "\n",
    "# Make COURSES dictionary\n",
    "COURSES = {}\n",
    "i = 1\n",
    "for course in first_choice.columns[1:]:\n",
    "    COURSES[i] = course\n",
    "    i += 1\n",
    "    \n",
    "# Make STUDENTS dictionary\n",
    "STUDENTS = {}\n",
    "i = 1\n",
    "for student in first_choice.iloc[:,0]:\n",
    "    STUDENTS[i] = student\n",
    "    i += 1\n",
    "\n",
    "Schedule1 = np.zeros([first_choice.shape[0], first_choice.shape[1]-1])\n",
    "for i in range(first_choice.shape[0]):\n",
    "    Schedule1[i] = first_choice.iloc[i,1:].tolist()\n",
    "    \n",
    "Schedule2 = np.zeros([second_choice.shape[0], second_choice.shape[1]-1])\n",
    "for i in range(second_choice.shape[0]):\n",
    "    Schedule2[i] = second_choice.iloc[i,1:].tolist()\n",
    "    \n",
    "Schedule3 = np.zeros([third_choice.shape[0], third_choice.shape[1]-1])\n",
    "for i in range(third_choice.shape[0]):\n",
    "    Schedule3[i] = third_choice.iloc[i,1:].tolist()\n",
    "\n"
   ]
  },
  {
   "cell_type": "code",
   "execution_count": 11,
   "metadata": {},
   "outputs": [
    {
     "name": "stdout",
     "output_type": "stream",
     "text": [
      "Same number of columns\n"
     ]
    }
   ],
   "source": [
    "# Verify everything is the same:\n",
    "if (len(first_choice.columns) == len(second_choice.columns)) and len(second_choice.columns) == len(third_choice.columns):\n",
    "    print(\"Same number of columns\")\n",
    "    \n",
    "### course size information\n",
    "course_sizes = pd.read_csv(\"Resources/CourseSize.csv\")"
   ]
  },
  {
   "cell_type": "code",
   "execution_count": 28,
   "metadata": {},
   "outputs": [
    {
     "ename": "NotImplementedError",
     "evalue": "",
     "output_type": "error",
     "traceback": [
      "\u001b[0;31m---------------------------------------------------------------------------\u001b[0m",
      "\u001b[0;31mNotImplementedError\u001b[0m                       Traceback (most recent call last)",
      "\u001b[0;32m<ipython-input-28-bb854d390405>\u001b[0m in \u001b[0;36m<module>\u001b[0;34m()\u001b[0m\n\u001b[1;32m     34\u001b[0m \u001b[0;34m\u001b[0m\u001b[0m\n\u001b[1;32m     35\u001b[0m \u001b[0;31m### Constraint on the number of 1st choices vs 2nd choices vs 3rd choices\u001b[0m\u001b[0;34m\u001b[0m\u001b[0;34m\u001b[0m\u001b[0m\n\u001b[0;32m---> 36\u001b[0;31m \u001b[0mm\u001b[0m\u001b[0;34m.\u001b[0m\u001b[0maddConstr\u001b[0m\u001b[0;34m(\u001b[0m\u001b[0mquicksum\u001b[0m\u001b[0;34m(\u001b[0m\u001b[0mX\u001b[0m\u001b[0;34m[\u001b[0m\u001b[0ms\u001b[0m\u001b[0;34m,\u001b[0m\u001b[0;36m1\u001b[0m\u001b[0;34m]\u001b[0m \u001b[0;32mfor\u001b[0m \u001b[0ms\u001b[0m \u001b[0;32min\u001b[0m \u001b[0mSTUDENTS\u001b[0m\u001b[0;34m)\u001b[0m \u001b[0;34m-\u001b[0m \u001b[0mquicksum\u001b[0m\u001b[0;34m(\u001b[0m\u001b[0mX\u001b[0m\u001b[0;34m[\u001b[0m\u001b[0ms\u001b[0m\u001b[0;34m,\u001b[0m\u001b[0;36m2\u001b[0m\u001b[0;34m]\u001b[0m \u001b[0;32mfor\u001b[0m \u001b[0ms\u001b[0m \u001b[0;32min\u001b[0m \u001b[0mSTUDENTS\u001b[0m\u001b[0;34m)\u001b[0m \u001b[0;34m>\u001b[0m \u001b[0;36m0\u001b[0m\u001b[0;34m)\u001b[0m\u001b[0;34m\u001b[0m\u001b[0m\n\u001b[0m\u001b[1;32m     37\u001b[0m \u001b[0mm\u001b[0m\u001b[0;34m.\u001b[0m\u001b[0maddConstr\u001b[0m\u001b[0;34m(\u001b[0m\u001b[0mquicksum\u001b[0m\u001b[0;34m(\u001b[0m\u001b[0mX\u001b[0m\u001b[0;34m[\u001b[0m\u001b[0ms\u001b[0m\u001b[0;34m,\u001b[0m\u001b[0;36m2\u001b[0m\u001b[0;34m]\u001b[0m \u001b[0;32mfor\u001b[0m \u001b[0ms\u001b[0m \u001b[0;32min\u001b[0m \u001b[0mSTUDENTS\u001b[0m\u001b[0;34m)\u001b[0m \u001b[0;34m-\u001b[0m \u001b[0mquicksum\u001b[0m\u001b[0;34m(\u001b[0m\u001b[0mX\u001b[0m\u001b[0;34m[\u001b[0m\u001b[0ms\u001b[0m\u001b[0;34m,\u001b[0m\u001b[0;36m3\u001b[0m\u001b[0;34m]\u001b[0m \u001b[0;32mfor\u001b[0m \u001b[0ms\u001b[0m \u001b[0;32min\u001b[0m \u001b[0mSTUDENTS\u001b[0m\u001b[0;34m)\u001b[0m \u001b[0;34m>\u001b[0m \u001b[0;36m0\u001b[0m\u001b[0;34m)\u001b[0m\u001b[0;34m\u001b[0m\u001b[0m\n\u001b[1;32m     38\u001b[0m \u001b[0;34m\u001b[0m\u001b[0m\n",
      "\u001b[0;32mlinexpr.pxi\u001b[0m in \u001b[0;36mgurobipy.LinExpr.__richcmp__ (../../src/python/gurobipy.c:31820)\u001b[0;34m()\u001b[0m\n",
      "\u001b[0;31mNotImplementedError\u001b[0m: "
     ]
    }
   ],
   "source": [
    "# construct the model \n",
    "\n",
    "m = Model(\"second formulation\")\n",
    "\n",
    "### binary variables for whether a student gets a schedule\n",
    "X = {} # variable dictioary\n",
    "for i in range(1, len(STUDENTS)+1):\n",
    "    \n",
    "    for j in [1,2,3]:\n",
    "        \n",
    "        name = str(STUDENTS[i]) + \" pref\" + str(j)\n",
    "        \n",
    "        # why is this being assigned here\n",
    "        \n",
    "        X[i,j] = m.addVar(name=name, vtype=GRB.BINARY)\n",
    "\n",
    "        \n",
    "### add the max_course variable \n",
    "\n",
    "max_courses = m.addVar(vtype=GRB.INTEGER,name=\"max_courses\")\n",
    "\n",
    "\n",
    "### objective is the max class size\n",
    "\n",
    "m.setObjective(max_courses, GRB.MINIMIZE)\n",
    "\n",
    "\n",
    "# Assignment Constraint\n",
    "\n",
    "for s in range(len(STUDENTS)):\n",
    "    \n",
    "    m.addConstr(X[s+1,1] + X[s+1,2] + X[s+1,3] == 1)\n",
    "    \n",
    "    \n",
    "### Constraint on the number of 1st choices vs 2nd choices vs 3rd choices\n",
    "m.addConstr(quicksum(X[s,1] for s in STUDENTS) - quicksum(X[s,2] for s in STUDENTS) > 0)\n",
    "m.addConstr(quicksum(X[s,2] for s in STUDENTS) - quicksum(X[s,3] for s in STUDENTS) > 0)\n",
    "\n",
    "# max_course must be greater than the actual assigned number of students Constraint\n",
    "\n",
    "for c in range(len(COURSES)):\n",
    "    m.addConstr(quicksum(X[s,1]*Schedule1[s-1,c] + X[s,2]*Schedule2[s-1,c] + X[s,3]*Schedule3[s-1,c]\n",
    "                       for s in range(1, len(STUDENTS)+1)) <= max_courses)\n",
    "    \n",
    "\n",
    "# optimize\n",
    "m.optimize()"
   ]
  }
 ],
 "metadata": {
  "kernelspec": {
   "display_name": "Python 3",
   "language": "python",
   "name": "python3"
  },
  "language_info": {
   "codemirror_mode": {
    "name": "ipython",
    "version": 3
   },
   "file_extension": ".py",
   "mimetype": "text/x-python",
   "name": "python",
   "nbconvert_exporter": "python",
   "pygments_lexer": "ipython3",
   "version": "3.6.2"
  }
 },
 "nbformat": 4,
 "nbformat_minor": 2
}
