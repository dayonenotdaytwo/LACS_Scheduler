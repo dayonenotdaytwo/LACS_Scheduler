{
 "cells": [
  {
   "cell_type": "markdown",
   "metadata": {},
   "source": [
    "# Schedule Model 1/11/18"
   ]
  },
  {
   "cell_type": "code",
   "execution_count": 32,
   "metadata": {
    "collapsed": true
   },
   "outputs": [],
   "source": [
    "# SCIP Model Interface\n",
    "from pyscipopt import Model, quicksum\n",
    "import numpy as np"
   ]
  },
  {
   "cell_type": "markdown",
   "metadata": {},
   "source": [
    "At the heart of every model is a \"Model\" instance. It has methods to add variables (which we can specify as binary), add constraints, specify an objective, and, finally, optimize."
   ]
  },
  {
   "cell_type": "code",
   "execution_count": 33,
   "metadata": {
    "collapsed": true
   },
   "outputs": [],
   "source": [
    "m = Model(\"Schedule\") # Model name is optional"
   ]
  },
  {
   "cell_type": "markdown",
   "metadata": {},
   "source": [
    "Now lets focus on using our data. We have sets of Students and courses; parameters for the first, second, and third choice schedules; and a one dimensional parameter for the max enrollment of each course. Lets consider some fake test data:"
   ]
  },
  {
   "cell_type": "code",
   "execution_count": 34,
   "metadata": {
    "collapsed": true
   },
   "outputs": [],
   "source": [
    "# use dictionary to map students to a number\n",
    "STUDENTS = {}\n",
    "for i in range(1, 6):\n",
    "    student = \"s\" + str(i)\n",
    "    STUDENTS[i] = student"
   ]
  },
  {
   "cell_type": "code",
   "execution_count": 35,
   "metadata": {
    "collapsed": true
   },
   "outputs": [],
   "source": [
    "# use dictionary to map courses to a number\n",
    "COURSES = {}\n",
    "for i in range(1, 13):\n",
    "    course = \"c\" + str(i)\n",
    "    COURSES[i] = course"
   ]
  },
  {
   "cell_type": "markdown",
   "metadata": {},
   "source": [
    "In this example, we have 12 courses, which we will say is divided into three periods, so there are 4 courses per period."
   ]
  },
  {
   "cell_type": "code",
   "execution_count": 36,
   "metadata": {
    "collapsed": true
   },
   "outputs": [],
   "source": [
    "# function to generate fake preferences for a student\n",
    "def gen_pref(num_courses, num_periods):\n",
    "    \"\"\"returns a 1xnum_courses array with num_courses/num_peridos 1's\n",
    "    assumes that courses are ordered by periods, e.g., the first 3 courses\n",
    "    are in the first, period, next three in the second period, etc. \"\"\"\n",
    "    \n",
    "    if num_courses % num_periods != 0:\n",
    "        raise Exception(\"Must have correct divisibility\")\n",
    "    \n",
    "    num_coureses = int(num_courses)\n",
    "    num_periods = int(num_periods) # ensure all ints\n",
    "    per_period = int(num_courses/num_periods)\n",
    "    \n",
    "    p = []\n",
    "    for i in range(num_periods):\n",
    "        x = np.zeros(per_period)\n",
    "        x[np.random.randint(per_period)] = 1\n",
    "        x = x.tolist()\n",
    "        p.append(x)\n",
    "    \n",
    "    p = np.array(p).flatten().tolist()\n",
    "    p = [int(i) for i in p]\n",
    "    return p\n",
    "            "
   ]
  },
  {
   "cell_type": "code",
   "execution_count": 37,
   "metadata": {
    "collapsed": true
   },
   "outputs": [],
   "source": [
    "# Schedule1 parameter is indexed over students (rows) and courses (columns)\n",
    "np.random.seed(1)\n",
    "\n",
    "NUM_PERIODS = 3\n",
    "Schedule1 = np.zeros([len(STUDENTS), len(COURSES)])\n",
    "for i in range(len(STUDENTS)):\n",
    "    Schedule1[i] = gen_pref(len(COURSES), NUM_PERIODS)\n",
    "    \n",
    "Schedule2 = np.zeros([len(STUDENTS), len(COURSES)])\n",
    "for i in range(len(STUDENTS)):\n",
    "    Schedule2[i] = gen_pref(len(COURSES), NUM_PERIODS)\n",
    "    \n",
    "Schedule3 = np.zeros([len(STUDENTS), len(COURSES)])\n",
    "for i in range(len(STUDENTS)):\n",
    "    Schedule3[i] = gen_pref(len(COURSES), NUM_PERIODS)"
   ]
  },
  {
   "cell_type": "markdown",
   "metadata": {},
   "source": [
    "# Re-Do With Justina's Real Data"
   ]
  },
  {
   "cell_type": "code",
   "execution_count": 38,
   "metadata": {
    "collapsed": true
   },
   "outputs": [],
   "source": [
    "import pandas as pd"
   ]
  },
  {
   "cell_type": "code",
   "execution_count": 39,
   "metadata": {},
   "outputs": [
    {
     "data": {
      "text/html": [
       "<div>\n",
       "<style>\n",
       "    .dataframe thead tr:only-child th {\n",
       "        text-align: right;\n",
       "    }\n",
       "\n",
       "    .dataframe thead th {\n",
       "        text-align: left;\n",
       "    }\n",
       "\n",
       "    .dataframe tbody tr th {\n",
       "        vertical-align: top;\n",
       "    }\n",
       "</style>\n",
       "<table border=\"1\" class=\"dataframe\">\n",
       "  <thead>\n",
       "    <tr style=\"text-align: right;\">\n",
       "      <th></th>\n",
       "      <th>Unnamed: 0</th>\n",
       "      <th>P1_7th-8th Grade Art</th>\n",
       "      <th>P1_Advanced Algebra &amp; Trigonometry</th>\n",
       "      <th>P1_Algebra A</th>\n",
       "      <th>P1_Constitutional Law/Government</th>\n",
       "      <th>P1_Evolutionary Biology</th>\n",
       "      <th>P1_Facing History</th>\n",
       "      <th>P1_French B</th>\n",
       "      <th>P1_HS English (TBA)</th>\n",
       "      <th>P1_HS PE</th>\n",
       "      <th>...</th>\n",
       "      <th>P8_HS PE</th>\n",
       "      <th>P8_In-Depth Spanish</th>\n",
       "      <th>P8_Latin American Studies</th>\n",
       "      <th>P8_MS Chemistry</th>\n",
       "      <th>P8_MS English &amp; Social Studies</th>\n",
       "      <th>P8_MS PE</th>\n",
       "      <th>P8_Other</th>\n",
       "      <th>P8_PE</th>\n",
       "      <th>P8_Probability &amp; Statistics</th>\n",
       "      <th>P8_US History &amp; Lit: The 20th Century</th>\n",
       "    </tr>\n",
       "  </thead>\n",
       "  <tbody>\n",
       "    <tr>\n",
       "      <th>0</th>\n",
       "      <td>0</td>\n",
       "      <td>0</td>\n",
       "      <td>0</td>\n",
       "      <td>0.0</td>\n",
       "      <td>0</td>\n",
       "      <td>1</td>\n",
       "      <td>0</td>\n",
       "      <td>0</td>\n",
       "      <td>0</td>\n",
       "      <td>0</td>\n",
       "      <td>...</td>\n",
       "      <td>0</td>\n",
       "      <td>0</td>\n",
       "      <td>0</td>\n",
       "      <td>0</td>\n",
       "      <td>0</td>\n",
       "      <td>0</td>\n",
       "      <td>0</td>\n",
       "      <td>0.0</td>\n",
       "      <td>0</td>\n",
       "      <td>1</td>\n",
       "    </tr>\n",
       "    <tr>\n",
       "      <th>1</th>\n",
       "      <td>1</td>\n",
       "      <td>0</td>\n",
       "      <td>0</td>\n",
       "      <td>0.0</td>\n",
       "      <td>0</td>\n",
       "      <td>0</td>\n",
       "      <td>0</td>\n",
       "      <td>0</td>\n",
       "      <td>0</td>\n",
       "      <td>1</td>\n",
       "      <td>...</td>\n",
       "      <td>0</td>\n",
       "      <td>0</td>\n",
       "      <td>1</td>\n",
       "      <td>0</td>\n",
       "      <td>0</td>\n",
       "      <td>0</td>\n",
       "      <td>0</td>\n",
       "      <td>0.0</td>\n",
       "      <td>0</td>\n",
       "      <td>0</td>\n",
       "    </tr>\n",
       "    <tr>\n",
       "      <th>2</th>\n",
       "      <td>2</td>\n",
       "      <td>1</td>\n",
       "      <td>0</td>\n",
       "      <td>0.0</td>\n",
       "      <td>0</td>\n",
       "      <td>0</td>\n",
       "      <td>0</td>\n",
       "      <td>0</td>\n",
       "      <td>0</td>\n",
       "      <td>0</td>\n",
       "      <td>...</td>\n",
       "      <td>0</td>\n",
       "      <td>0</td>\n",
       "      <td>0</td>\n",
       "      <td>0</td>\n",
       "      <td>0</td>\n",
       "      <td>0</td>\n",
       "      <td>0</td>\n",
       "      <td>0.0</td>\n",
       "      <td>0</td>\n",
       "      <td>0</td>\n",
       "    </tr>\n",
       "    <tr>\n",
       "      <th>3</th>\n",
       "      <td>4</td>\n",
       "      <td>0</td>\n",
       "      <td>0</td>\n",
       "      <td>0.0</td>\n",
       "      <td>0</td>\n",
       "      <td>0</td>\n",
       "      <td>0</td>\n",
       "      <td>0</td>\n",
       "      <td>0</td>\n",
       "      <td>0</td>\n",
       "      <td>...</td>\n",
       "      <td>0</td>\n",
       "      <td>0</td>\n",
       "      <td>0</td>\n",
       "      <td>0</td>\n",
       "      <td>0</td>\n",
       "      <td>0</td>\n",
       "      <td>0</td>\n",
       "      <td>0.0</td>\n",
       "      <td>0</td>\n",
       "      <td>0</td>\n",
       "    </tr>\n",
       "    <tr>\n",
       "      <th>4</th>\n",
       "      <td>5</td>\n",
       "      <td>0</td>\n",
       "      <td>0</td>\n",
       "      <td>0.0</td>\n",
       "      <td>0</td>\n",
       "      <td>0</td>\n",
       "      <td>0</td>\n",
       "      <td>1</td>\n",
       "      <td>0</td>\n",
       "      <td>0</td>\n",
       "      <td>...</td>\n",
       "      <td>0</td>\n",
       "      <td>0</td>\n",
       "      <td>0</td>\n",
       "      <td>1</td>\n",
       "      <td>0</td>\n",
       "      <td>0</td>\n",
       "      <td>0</td>\n",
       "      <td>0.0</td>\n",
       "      <td>0</td>\n",
       "      <td>0</td>\n",
       "    </tr>\n",
       "  </tbody>\n",
       "</table>\n",
       "<p>5 rows × 92 columns</p>\n",
       "</div>"
      ],
      "text/plain": [
       "   Unnamed: 0  P1_7th-8th Grade Art  P1_Advanced Algebra & Trigonometry  \\\n",
       "0           0                     0                                   0   \n",
       "1           1                     0                                   0   \n",
       "2           2                     1                                   0   \n",
       "3           4                     0                                   0   \n",
       "4           5                     0                                   0   \n",
       "\n",
       "   P1_Algebra A  P1_Constitutional Law/Government  P1_Evolutionary Biology  \\\n",
       "0           0.0                                 0                        1   \n",
       "1           0.0                                 0                        0   \n",
       "2           0.0                                 0                        0   \n",
       "3           0.0                                 0                        0   \n",
       "4           0.0                                 0                        0   \n",
       "\n",
       "   P1_Facing History  P1_French B  P1_HS English (TBA)  P1_HS PE  \\\n",
       "0                  0            0                    0         0   \n",
       "1                  0            0                    0         1   \n",
       "2                  0            0                    0         0   \n",
       "3                  0            0                    0         0   \n",
       "4                  0            1                    0         0   \n",
       "\n",
       "                   ...                    P8_HS PE  P8_In-Depth Spanish  \\\n",
       "0                  ...                           0                    0   \n",
       "1                  ...                           0                    0   \n",
       "2                  ...                           0                    0   \n",
       "3                  ...                           0                    0   \n",
       "4                  ...                           0                    0   \n",
       "\n",
       "   P8_Latin American Studies  P8_MS Chemistry  P8_MS English & Social Studies  \\\n",
       "0                          0                0                               0   \n",
       "1                          1                0                               0   \n",
       "2                          0                0                               0   \n",
       "3                          0                0                               0   \n",
       "4                          0                1                               0   \n",
       "\n",
       "   P8_MS PE  P8_Other  P8_PE  P8_Probability & Statistics  \\\n",
       "0         0         0    0.0                            0   \n",
       "1         0         0    0.0                            0   \n",
       "2         0         0    0.0                            0   \n",
       "3         0         0    0.0                            0   \n",
       "4         0         0    0.0                            0   \n",
       "\n",
       "   P8_US History & Lit: The 20th Century  \n",
       "0                                      1  \n",
       "1                                      0  \n",
       "2                                      0  \n",
       "3                                      0  \n",
       "4                                      0  \n",
       "\n",
       "[5 rows x 92 columns]"
      ]
     },
     "execution_count": 39,
     "metadata": {},
     "output_type": "execute_result"
    }
   ],
   "source": [
    "s1 = pd.read_csv(\"Resources/FirstChoiceBinary.csv\")\n",
    "s1.head()"
   ]
  },
  {
   "cell_type": "code",
   "execution_count": 40,
   "metadata": {
    "collapsed": true
   },
   "outputs": [],
   "source": [
    "# Make COURSES dictionary\n",
    "COURSES = {}\n",
    "i = 1\n",
    "for course in s1.columns[1:]:\n",
    "    COURSES[i] = course\n",
    "    i += 1"
   ]
  },
  {
   "cell_type": "markdown",
   "metadata": {},
   "source": [
    "Notice, that here students are only identified by a number, which is part of a simple sequence, so the dicionary is not especially usefull here"
   ]
  },
  {
   "cell_type": "code",
   "execution_count": 41,
   "metadata": {
    "collapsed": true
   },
   "outputs": [],
   "source": [
    "# Make STUDENTS dictionary\n",
    "STUDENTS = {}\n",
    "i = 1\n",
    "for student in s1.iloc[:,0]:\n",
    "    STUDENTS[i] = student\n",
    "    i += 1"
   ]
  },
  {
   "cell_type": "markdown",
   "metadata": {},
   "source": [
    "Now we can use the meat of the matrix to fill in the schedule parameters"
   ]
  },
  {
   "cell_type": "code",
   "execution_count": 42,
   "metadata": {
    "collapsed": true
   },
   "outputs": [],
   "source": [
    "Schedule1 = np.zeros([s1.shape[0], s1.shape[1]-1])\n",
    "for i in range(s1.shape[0]):\n",
    "    Schedule1[i] = s1.iloc[i,1:].tolist()"
   ]
  },
  {
   "cell_type": "markdown",
   "metadata": {},
   "source": [
    "# Lets look at the other files"
   ]
  },
  {
   "cell_type": "code",
   "execution_count": 43,
   "metadata": {
    "collapsed": true
   },
   "outputs": [],
   "source": [
    "s2 = pd.read_csv(\"Resources/SecondChoiceBinary.csv\")\n",
    "s3 = pd.read_csv(\"Resources/ThirdChoiceBinary.csv\")"
   ]
  },
  {
   "cell_type": "code",
   "execution_count": 44,
   "metadata": {},
   "outputs": [
    {
     "name": "stdout",
     "output_type": "stream",
     "text": [
      "Same number of columns\n"
     ]
    }
   ],
   "source": [
    "# Verify everything is the same:\n",
    "if (len(s1.columns) == len(s2.columns)) and len(s2.columns) == len(s3.columns):\n",
    "    print(\"Same number of columns\")\n"
   ]
  },
  {
   "cell_type": "code",
   "execution_count": 45,
   "metadata": {},
   "outputs": [
    {
     "name": "stdout",
     "output_type": "stream",
     "text": [
      "[ True  True  True  True  True  True  True  True  True  True  True  True\n",
      "  True  True  True  True  True  True  True  True  True  True  True  True\n",
      "  True  True  True  True  True  True  True  True  True  True  True  True\n",
      "  True  True  True  True  True  True  True  True  True  True  True  True\n",
      "  True  True  True  True  True  True  True  True  True  True  True  True\n",
      "  True  True  True  True  True  True  True  True  True  True  True  True\n",
      "  True  True  True  True  True  True  True  True  True  True  True  True\n",
      "  True  True  True  True  True  True  True  True]\n"
     ]
    }
   ],
   "source": [
    "s3.shape\n",
    "print(s2.columns == s3.columns)"
   ]
  },
  {
   "cell_type": "code",
   "execution_count": 46,
   "metadata": {},
   "outputs": [
    {
     "name": "stdout",
     "output_type": "stream",
     "text": [
      "Columns Match\n"
     ]
    }
   ],
   "source": [
    "not_matching = []\n",
    "for i in range(len(s1.columns)):\n",
    "    if s1.columns[i] != s2.columns[i] or s2.columns[i] != s3.columns[i] or s1.columns[i] != s3.columns[i]:\n",
    "        not_matching.append(i)\n",
    "if len(not_matching) == 0:\n",
    "    print(\"Columns Match\")\n",
    "else:\n",
    "    print(\"The following indicies do not match\")\n",
    "    print(not_matching)"
   ]
  },
  {
   "cell_type": "code",
   "execution_count": 47,
   "metadata": {
    "collapsed": true
   },
   "outputs": [],
   "source": [
    "Schedule2 = np.zeros([s2.shape[0], s2.shape[1]-1])\n",
    "for i in range(s2.shape[0]):\n",
    "    Schedule2[i] = s2.iloc[i,1:].tolist()\n",
    "    \n",
    "Schedule3 = np.zeros([s3.shape[0], s3.shape[1]-1])\n",
    "for i in range(s3.shape[0]):\n",
    "    Schedule3[i] = s3.iloc[i,1:].tolist()"
   ]
  },
  {
   "cell_type": "code",
   "execution_count": 48,
   "metadata": {
    "collapsed": true
   },
   "outputs": [],
   "source": [
    "# Max class size\n",
    "#MAX_SIZE = [1, 1, 1, 2, 1, 1, 1, 2, 1, 1, 1, 2]\n",
    "#MAX_SIZE = [2, 2, 2, 2, 2, 2, 2, 2, 2, 2, 2, 2]\n",
    "#MAX_SIZE = 24\n",
    "course_sizes = pd.read_csv(\"Resources/CourseSize.csv\")"
   ]
  },
  {
   "cell_type": "code",
   "execution_count": 49,
   "metadata": {
    "collapsed": true
   },
   "outputs": [],
   "source": [
    "course_names = course_sizes['0']\n",
    "sizes = course_sizes['Size']"
   ]
  },
  {
   "cell_type": "code",
   "execution_count": 50,
   "metadata": {
    "collapsed": true
   },
   "outputs": [],
   "source": [
    "MAX_SIZES = {}\n",
    "for i in range(len(course_names)):\n",
    "    MAX_SIZES[course_names[i]] = sizes[i]"
   ]
  },
  {
   "cell_type": "code",
   "execution_count": 51,
   "metadata": {},
   "outputs": [
    {
     "data": {
      "text/plain": [
       "91"
      ]
     },
     "execution_count": 51,
     "metadata": {},
     "output_type": "execute_result"
    }
   ],
   "source": [
    "len(MAX_SIZES) #len(COURSES)"
   ]
  },
  {
   "cell_type": "code",
   "execution_count": 52,
   "metadata": {},
   "outputs": [],
   "source": [
    "# Change max sizes\n",
    "for c in MAX_SIZES:\n",
    "    if \"Other\" in c:\n",
    "        MAX_SIZES[c] = 100\n",
    "    else:\n",
    "        MAX_SIZES[c] = 21"
   ]
  },
  {
   "cell_type": "markdown",
   "metadata": {},
   "source": [
    "The above is all the data we need, now lets specify the variables in the model. We can keep track of the variables using a dictionary. Using the model instance, we can add variables with \"m.addVar()\". This returns a pointer to the variable, which we will add to the dictionary. We require the variable to be binary by includingt he option \"vtype='B'\".\n",
    "\n",
    "Our variables is indexed over student and \"preference\" so each student has three variables, one for each schedule, indicating the schedule to which they are assigned."
   ]
  },
  {
   "cell_type": "code",
   "execution_count": 53,
   "metadata": {
    "collapsed": true
   },
   "outputs": [],
   "source": [
    "X = {} # variable dictionary\n",
    "for i in range(1, len(STUDENTS)+1):\n",
    "    for j in [1,2,3]:\n",
    "        name = str(STUDENTS[i]) + \" pref\" + str(j)\n",
    "        X[i,j] = m.addVar(name, vtype='B')"
   ]
  },
  {
   "cell_type": "markdown",
   "metadata": {},
   "source": [
    "Now we can focus on adding the constraints:\n",
    "$$ \\sum_{s \\in S} x_{s,1}S1_{i, c} + x_{s,2}S2_{i,c} + x_{s,3}S3[i,c] <= max_c\\qquad \\forall c \\in C$$\n",
    "which enforces that the capcity for each class is not exceed. To do this sum we can use the pyscipopt function \"quicksum\".\n",
    "\n",
    "Lastly, we need to ensure that a student is only assigned to one schedule:\n",
    "$$ x_{s, 1} + x_{s,2} + x_{s, 3} = 1 \\qquad \\forall s \\in S $$\n"
   ]
  },
  {
   "cell_type": "code",
   "execution_count": 54,
   "metadata": {},
   "outputs": [
    {
     "ename": "NotImplementedError",
     "evalue": "",
     "output_type": "error",
     "traceback": [
      "\u001b[0;31m---------------------------------------------------------------------------\u001b[0m",
      "\u001b[0;31mNotImplementedError\u001b[0m                       Traceback (most recent call last)",
      "\u001b[0;32m<ipython-input-54-1a0b7a22b4d9>\u001b[0m in \u001b[0;36m<module>\u001b[0;34m()\u001b[0m\n\u001b[1;32m      2\u001b[0m \u001b[0;32mfor\u001b[0m \u001b[0mc\u001b[0m \u001b[0;32min\u001b[0m \u001b[0mrange\u001b[0m\u001b[0;34m(\u001b[0m\u001b[0mlen\u001b[0m\u001b[0;34m(\u001b[0m\u001b[0mCOURSES\u001b[0m\u001b[0;34m)\u001b[0m\u001b[0;34m)\u001b[0m\u001b[0;34m:\u001b[0m\u001b[0;34m\u001b[0m\u001b[0m\n\u001b[1;32m      3\u001b[0m     m.addCons(quicksum(X[s,1]*Schedule1[s-1,c] + X[s,2]*Schedule2[s-1,c] + X[s,3]*Schedule3[s-1,c]\n\u001b[0;32m----> 4\u001b[0;31m                        for s in range(1, len(STUDENTS)+1)) <= MAX_SIZES)\n\u001b[0m",
      "\u001b[0;32msrc/pyscipopt/expr.pxi\u001b[0m in \u001b[0;36mpyscipopt.scip.Expr.__richcmp__\u001b[0;34m()\u001b[0m\n",
      "\u001b[0;32msrc/pyscipopt/expr.pxi\u001b[0m in \u001b[0;36mpyscipopt.scip._expr_richcmp\u001b[0;34m()\u001b[0m\n",
      "\u001b[0;31mNotImplementedError\u001b[0m: "
     ]
    }
   ],
   "source": [
    "# Capacity Constraint\n",
    "for c in range(len(COURSES)):\n",
    "    m.addCons(quicksum(X[s,1]*Schedule1[s-1,c] + X[s,2]*Schedule2[s-1,c] + X[s,3]*Schedule3[s-1,c]\n",
    "                       for s in range(1, len(STUDENTS)+1)) <= MAX_SIZES)"
   ]
  },
  {
   "cell_type": "code",
   "execution_count": 55,
   "metadata": {
    "collapsed": true
   },
   "outputs": [],
   "source": [
    "# Capacity Constraint with Different Max sizes\n",
    "for c in range(len(COURSES)):\n",
    "    m.addCons(quicksum(X[s,1]*Schedule1[s-1,c] + X[s,2]*Schedule2[s-1,c] + X[s,3]*Schedule3[s-1,c]\n",
    "                       for s in range(1, len(STUDENTS)+1)) <= MAX_SIZES[COURSES[c+1]])"
   ]
  },
  {
   "cell_type": "markdown",
   "metadata": {},
   "source": [
    "## NOTE in the above, differenent from the test model, we are using a constant max class size."
   ]
  },
  {
   "cell_type": "code",
   "execution_count": 56,
   "metadata": {
    "collapsed": true
   },
   "outputs": [],
   "source": [
    "# Assignment Constraint\n",
    "for s in range(len(STUDENTS)):\n",
    "    m.addCons(X[s+1,1] + X[s+1,2] + X[s+1,3] == 1)"
   ]
  },
  {
   "cell_type": "markdown",
   "metadata": {},
   "source": [
    "Lastly, we can add the objective to the model:\n",
    "$$ \\text{max}_x \\sum_{s \\in S} 3x_{s,1} + 2x_{s,2} + x_{s,3} $$"
   ]
  },
  {
   "cell_type": "code",
   "execution_count": 57,
   "metadata": {
    "collapsed": true
   },
   "outputs": [],
   "source": [
    "# Objective\n",
    "m.setObjective(quicksum(3*X[s,1] + 2*X[s,2] + X[s,1] for s in STUDENTS), \"maximize\")"
   ]
  },
  {
   "cell_type": "markdown",
   "metadata": {},
   "source": [
    "Now that we have fully set up the model, we can solve it, and attempt to extract the results."
   ]
  },
  {
   "cell_type": "code",
   "execution_count": 58,
   "metadata": {
    "collapsed": true
   },
   "outputs": [],
   "source": [
    "# Solve/Optimize\n",
    "m.optimize()"
   ]
  },
  {
   "cell_type": "code",
   "execution_count": 59,
   "metadata": {},
   "outputs": [
    {
     "name": "stdout",
     "output_type": "stream",
     "text": [
      "We have not found an optimal solution\n",
      " the problem is infeasible\n"
     ]
    }
   ],
   "source": [
    "# Take a look at solution\n",
    "if m.getStatus() == \"optimal\":\n",
    "    for i in range(1, len(STUDENTS) +1):\n",
    "        for j in [1,2,3]:\n",
    "            v = m.getVal(X[i,j])\n",
    "            if v == 1:\n",
    "                print(\"Student\", str(i), \"is assigned to schedule\", str(j))\n",
    "else:\n",
    "    print(\"We have not found an optimal solution\\n the problem is\", m.getStatus())"
   ]
  },
  {
   "cell_type": "code",
   "execution_count": null,
   "metadata": {
    "collapsed": true
   },
   "outputs": [],
   "source": []
  }
 ],
 "metadata": {
  "kernelspec": {
   "display_name": "Python 3",
   "language": "python",
   "name": "python3"
  },
  "language_info": {
   "codemirror_mode": {
    "name": "ipython",
    "version": 3
   },
   "file_extension": ".py",
   "mimetype": "text/x-python",
   "name": "python",
   "nbconvert_exporter": "python",
   "pygments_lexer": "ipython3",
   "version": "3.6.3"
  }
 },
 "nbformat": 4,
 "nbformat_minor": 2
}
