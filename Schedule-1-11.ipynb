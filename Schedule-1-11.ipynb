{
 "cells": [
  {
   "cell_type": "markdown",
   "metadata": {},
   "source": [
    "# Schedule Model 1/11/18"
   ]
  },
  {
   "cell_type": "code",
   "execution_count": 152,
   "metadata": {
    "collapsed": true
   },
   "outputs": [],
   "source": [
    "# SCIP Model Interface\n",
    "from pyscipopt import Model, quicksum\n",
    "import numpy as np"
   ]
  },
  {
   "cell_type": "markdown",
   "metadata": {},
   "source": [
    "At the heart of every model is a \"Model\" instance. It has methods to add variables (which we can specify as binary), add constraints, specify an objective, and, finally, optimize."
   ]
  },
  {
   "cell_type": "code",
   "execution_count": 153,
   "metadata": {
    "collapsed": true
   },
   "outputs": [],
   "source": [
    "m = Model(\"Schedule\") # Model name is optional"
   ]
  },
  {
   "cell_type": "markdown",
   "metadata": {},
   "source": [
    "Now lets focus on using our data. We have sets of Students and courses; parameters for the first, second, and third choice schedules; and a one dimensional parameter for the max enrollment of each course. Lets consider some fake test data:"
   ]
  },
  {
   "cell_type": "code",
   "execution_count": 154,
   "metadata": {
    "collapsed": true
   },
   "outputs": [],
   "source": [
    "# use dictionary to map students to a number\n",
    "STUDENTS = {}\n",
    "for i in range(1, 6):\n",
    "    student = \"s\" + str(i)\n",
    "    STUDENTS[i] = student"
   ]
  },
  {
   "cell_type": "code",
   "execution_count": 155,
   "metadata": {
    "collapsed": true
   },
   "outputs": [],
   "source": [
    "# use dictionary to map courses to a number\n",
    "COURSES = {}\n",
    "for i in range(1, 13):\n",
    "    course = \"c\" + str(i)\n",
    "    COURSES[i] = course"
   ]
  },
  {
   "cell_type": "markdown",
   "metadata": {},
   "source": [
    "In this example, we have 12 courses, which we will say is divided into three periods, so there are 4 courses per period."
   ]
  },
  {
   "cell_type": "code",
   "execution_count": 156,
   "metadata": {
    "collapsed": true
   },
   "outputs": [],
   "source": [
    "# function to generate fake preferences for a student\n",
    "def gen_pref(num_courses, num_periods):\n",
    "    \"\"\"returns a 1xnum_courses array with num_courses/num_peridos 1's\n",
    "    assumes that courses are ordered by periods, e.g., the first 3 courses\n",
    "    are in the first, period, next three in the second period, etc. \"\"\"\n",
    "    \n",
    "    if num_courses % num_periods != 0:\n",
    "        raise Exception(\"Must have correct divisibility\")\n",
    "    \n",
    "    num_coureses = int(num_courses)\n",
    "    num_periods = int(num_periods) # ensure all ints\n",
    "    per_period = int(num_courses/num_periods)\n",
    "    \n",
    "    p = []\n",
    "    for i in range(num_periods):\n",
    "        x = np.zeros(per_period)\n",
    "        x[np.random.randint(per_period)] = 1\n",
    "        x = x.tolist()\n",
    "        p.append(x)\n",
    "    \n",
    "    p = np.array(p).flatten().tolist()\n",
    "    p = [int(i) for i in p]\n",
    "    return p\n",
    "            "
   ]
  },
  {
   "cell_type": "code",
   "execution_count": 157,
   "metadata": {
    "collapsed": true
   },
   "outputs": [],
   "source": [
    "# Schedule1 parameter is indexed over students (rows) and courses (columns)\n",
    "np.random.seed(1)\n",
    "\n",
    "NUM_PERIODS = 3\n",
    "Schedule1 = np.zeros([len(STUDENTS), len(COURSES)])\n",
    "for i in range(len(STUDENTS)):\n",
    "    Schedule1[i] = gen_pref(len(COURSES), NUM_PERIODS)\n",
    "    \n",
    "Schedule2 = np.zeros([len(STUDENTS), len(COURSES)])\n",
    "for i in range(len(STUDENTS)):\n",
    "    Schedule2[i] = gen_pref(len(COURSES), NUM_PERIODS)\n",
    "    \n",
    "Schedule3 = np.zeros([len(STUDENTS), len(COURSES)])\n",
    "for i in range(len(STUDENTS)):\n",
    "    Schedule3[i] = gen_pref(len(COURSES), NUM_PERIODS)"
   ]
  },
  {
   "cell_type": "markdown",
   "metadata": {},
   "source": [
    "# Re-Do With Justina's Real Data"
   ]
  },
  {
   "cell_type": "code",
   "execution_count": 158,
   "metadata": {
    "collapsed": true
   },
   "outputs": [],
   "source": [
    "import pandas as pd"
   ]
  },
  {
   "cell_type": "code",
   "execution_count": 159,
   "metadata": {},
   "outputs": [
    {
     "data": {
      "text/html": [
       "<div>\n",
       "<style>\n",
       "    .dataframe thead tr:only-child th {\n",
       "        text-align: right;\n",
       "    }\n",
       "\n",
       "    .dataframe thead th {\n",
       "        text-align: left;\n",
       "    }\n",
       "\n",
       "    .dataframe tbody tr th {\n",
       "        vertical-align: top;\n",
       "    }\n",
       "</style>\n",
       "<table border=\"1\" class=\"dataframe\">\n",
       "  <thead>\n",
       "    <tr style=\"text-align: right;\">\n",
       "      <th></th>\n",
       "      <th>Unnamed: 0</th>\n",
       "      <th>P1_7th-8th Grade Art</th>\n",
       "      <th>P1_Advanced Algebra &amp; Trigonometry</th>\n",
       "      <th>P1_Algebra A</th>\n",
       "      <th>P1_Constitutional Law/Government</th>\n",
       "      <th>P1_Evolutionary Biology</th>\n",
       "      <th>P1_Facing History</th>\n",
       "      <th>P1_French B</th>\n",
       "      <th>P1_HS English (TBA)</th>\n",
       "      <th>P1_HS PE</th>\n",
       "      <th>...</th>\n",
       "      <th>P8_HS PE</th>\n",
       "      <th>P8_In-Depth Spanish</th>\n",
       "      <th>P8_Latin American Studies</th>\n",
       "      <th>P8_MS Chemistry</th>\n",
       "      <th>P8_MS English &amp; Social Studies</th>\n",
       "      <th>P8_MS PE</th>\n",
       "      <th>P8_Other</th>\n",
       "      <th>P8_PE</th>\n",
       "      <th>P8_Probability &amp; Statistics</th>\n",
       "      <th>P8_US History &amp; Lit: The 20th Century</th>\n",
       "    </tr>\n",
       "  </thead>\n",
       "  <tbody>\n",
       "    <tr>\n",
       "      <th>0</th>\n",
       "      <td>0</td>\n",
       "      <td>0</td>\n",
       "      <td>0</td>\n",
       "      <td>0.0</td>\n",
       "      <td>0</td>\n",
       "      <td>1</td>\n",
       "      <td>0</td>\n",
       "      <td>0</td>\n",
       "      <td>0</td>\n",
       "      <td>0</td>\n",
       "      <td>...</td>\n",
       "      <td>0</td>\n",
       "      <td>0</td>\n",
       "      <td>0</td>\n",
       "      <td>0</td>\n",
       "      <td>0</td>\n",
       "      <td>0</td>\n",
       "      <td>0</td>\n",
       "      <td>0.0</td>\n",
       "      <td>0</td>\n",
       "      <td>1</td>\n",
       "    </tr>\n",
       "    <tr>\n",
       "      <th>1</th>\n",
       "      <td>1</td>\n",
       "      <td>0</td>\n",
       "      <td>0</td>\n",
       "      <td>0.0</td>\n",
       "      <td>0</td>\n",
       "      <td>0</td>\n",
       "      <td>0</td>\n",
       "      <td>0</td>\n",
       "      <td>0</td>\n",
       "      <td>1</td>\n",
       "      <td>...</td>\n",
       "      <td>0</td>\n",
       "      <td>0</td>\n",
       "      <td>1</td>\n",
       "      <td>0</td>\n",
       "      <td>0</td>\n",
       "      <td>0</td>\n",
       "      <td>0</td>\n",
       "      <td>0.0</td>\n",
       "      <td>0</td>\n",
       "      <td>0</td>\n",
       "    </tr>\n",
       "    <tr>\n",
       "      <th>2</th>\n",
       "      <td>2</td>\n",
       "      <td>1</td>\n",
       "      <td>0</td>\n",
       "      <td>0.0</td>\n",
       "      <td>0</td>\n",
       "      <td>0</td>\n",
       "      <td>0</td>\n",
       "      <td>0</td>\n",
       "      <td>0</td>\n",
       "      <td>0</td>\n",
       "      <td>...</td>\n",
       "      <td>0</td>\n",
       "      <td>0</td>\n",
       "      <td>0</td>\n",
       "      <td>0</td>\n",
       "      <td>0</td>\n",
       "      <td>0</td>\n",
       "      <td>0</td>\n",
       "      <td>0.0</td>\n",
       "      <td>0</td>\n",
       "      <td>0</td>\n",
       "    </tr>\n",
       "    <tr>\n",
       "      <th>3</th>\n",
       "      <td>4</td>\n",
       "      <td>0</td>\n",
       "      <td>0</td>\n",
       "      <td>0.0</td>\n",
       "      <td>0</td>\n",
       "      <td>0</td>\n",
       "      <td>0</td>\n",
       "      <td>0</td>\n",
       "      <td>0</td>\n",
       "      <td>0</td>\n",
       "      <td>...</td>\n",
       "      <td>0</td>\n",
       "      <td>0</td>\n",
       "      <td>0</td>\n",
       "      <td>0</td>\n",
       "      <td>0</td>\n",
       "      <td>0</td>\n",
       "      <td>0</td>\n",
       "      <td>0.0</td>\n",
       "      <td>0</td>\n",
       "      <td>0</td>\n",
       "    </tr>\n",
       "    <tr>\n",
       "      <th>4</th>\n",
       "      <td>5</td>\n",
       "      <td>0</td>\n",
       "      <td>0</td>\n",
       "      <td>0.0</td>\n",
       "      <td>0</td>\n",
       "      <td>0</td>\n",
       "      <td>0</td>\n",
       "      <td>1</td>\n",
       "      <td>0</td>\n",
       "      <td>0</td>\n",
       "      <td>...</td>\n",
       "      <td>0</td>\n",
       "      <td>0</td>\n",
       "      <td>0</td>\n",
       "      <td>1</td>\n",
       "      <td>0</td>\n",
       "      <td>0</td>\n",
       "      <td>0</td>\n",
       "      <td>0.0</td>\n",
       "      <td>0</td>\n",
       "      <td>0</td>\n",
       "    </tr>\n",
       "  </tbody>\n",
       "</table>\n",
       "<p>5 rows × 92 columns</p>\n",
       "</div>"
      ],
      "text/plain": [
       "   Unnamed: 0  P1_7th-8th Grade Art  P1_Advanced Algebra & Trigonometry  \\\n",
       "0           0                     0                                   0   \n",
       "1           1                     0                                   0   \n",
       "2           2                     1                                   0   \n",
       "3           4                     0                                   0   \n",
       "4           5                     0                                   0   \n",
       "\n",
       "   P1_Algebra A  P1_Constitutional Law/Government  P1_Evolutionary Biology  \\\n",
       "0           0.0                                 0                        1   \n",
       "1           0.0                                 0                        0   \n",
       "2           0.0                                 0                        0   \n",
       "3           0.0                                 0                        0   \n",
       "4           0.0                                 0                        0   \n",
       "\n",
       "   P1_Facing History  P1_French B  P1_HS English (TBA)  P1_HS PE  \\\n",
       "0                  0            0                    0         0   \n",
       "1                  0            0                    0         1   \n",
       "2                  0            0                    0         0   \n",
       "3                  0            0                    0         0   \n",
       "4                  0            1                    0         0   \n",
       "\n",
       "                   ...                    P8_HS PE  P8_In-Depth Spanish  \\\n",
       "0                  ...                           0                    0   \n",
       "1                  ...                           0                    0   \n",
       "2                  ...                           0                    0   \n",
       "3                  ...                           0                    0   \n",
       "4                  ...                           0                    0   \n",
       "\n",
       "   P8_Latin American Studies  P8_MS Chemistry  P8_MS English & Social Studies  \\\n",
       "0                          0                0                               0   \n",
       "1                          1                0                               0   \n",
       "2                          0                0                               0   \n",
       "3                          0                0                               0   \n",
       "4                          0                1                               0   \n",
       "\n",
       "   P8_MS PE  P8_Other  P8_PE  P8_Probability & Statistics  \\\n",
       "0         0         0    0.0                            0   \n",
       "1         0         0    0.0                            0   \n",
       "2         0         0    0.0                            0   \n",
       "3         0         0    0.0                            0   \n",
       "4         0         0    0.0                            0   \n",
       "\n",
       "   P8_US History & Lit: The 20th Century  \n",
       "0                                      1  \n",
       "1                                      0  \n",
       "2                                      0  \n",
       "3                                      0  \n",
       "4                                      0  \n",
       "\n",
       "[5 rows x 92 columns]"
      ]
     },
     "execution_count": 159,
     "metadata": {},
     "output_type": "execute_result"
    }
   ],
   "source": [
    "s1 = pd.read_csv(\"Resources/FirstChoiceBinary.csv\")\n",
    "s1.head()"
   ]
  },
  {
   "cell_type": "code",
   "execution_count": 160,
   "metadata": {
    "collapsed": true
   },
   "outputs": [],
   "source": [
    "# Make COURSES dictionary\n",
    "COURSES = {}\n",
    "for course in s1.columns[1:]:\n",
    "    COURSES[course] = course"
   ]
  },
  {
   "cell_type": "markdown",
   "metadata": {},
   "source": [
    "Notice, that here students are only identified by a number, which is part of a simple sequence, so the dicionary is not especially usefull here"
   ]
  },
  {
   "cell_type": "code",
   "execution_count": 161,
   "metadata": {
    "collapsed": true
   },
   "outputs": [],
   "source": [
    "# Make STUDENTS dictionary\n",
    "STUDENTS = {}\n",
    "for student in s1.iloc[:,0]:\n",
    "    STUDENTS[student] = student"
   ]
  },
  {
   "cell_type": "markdown",
   "metadata": {},
   "source": [
    "Now we can use the meat of the matrix to fill in the schedule parameters"
   ]
  },
  {
   "cell_type": "code",
   "execution_count": 162,
   "metadata": {
    "collapsed": true
   },
   "outputs": [],
   "source": [
    "Schedule1 = np.zeros([s1.shape[0], s1.shape[1]-1])\n",
    "for i in range(s1.shape[0]):\n",
    "    Schedule1[i] = s1.iloc[i,1:].tolist()"
   ]
  },
  {
   "cell_type": "markdown",
   "metadata": {},
   "source": [
    "# Lets look at the other files"
   ]
  },
  {
   "cell_type": "code",
   "execution_count": 163,
   "metadata": {
    "collapsed": true
   },
   "outputs": [],
   "source": [
    "s2 = pd.read_csv(\"Resources/SecondChoiceBinary.csv\")\n",
    "s3 = pd.read_csv(\"Resources/ThirdChoiceBinary.csv\")"
   ]
  },
  {
   "cell_type": "code",
   "execution_count": 164,
   "metadata": {},
   "outputs": [
    {
     "name": "stdout",
     "output_type": "stream",
     "text": [
      "Same number of columns\n"
     ]
    }
   ],
   "source": [
    "# Verify everything is the same:\n",
    "if (len(s1.columns) == len(s2.columns)) and len(s2.columns) == len(s3.columns):\n",
    "    print(\"Same number of columns\")\n"
   ]
  },
  {
   "cell_type": "code",
   "execution_count": 165,
   "metadata": {},
   "outputs": [
    {
     "name": "stdout",
     "output_type": "stream",
     "text": [
      "[ True  True  True  True  True  True  True  True  True  True  True  True\n",
      "  True  True  True  True  True  True  True  True  True  True  True  True\n",
      "  True  True  True  True  True  True  True  True  True  True  True  True\n",
      "  True  True  True  True  True  True  True  True  True  True  True  True\n",
      "  True  True  True  True  True  True  True  True  True  True  True  True\n",
      "  True  True  True  True  True  True  True  True  True  True  True  True\n",
      "  True  True  True  True  True  True  True  True  True  True  True  True\n",
      "  True  True  True  True  True  True  True  True]\n"
     ]
    }
   ],
   "source": [
    "s3.shape\n",
    "print(s2.columns == s3.columns)"
   ]
  },
  {
   "cell_type": "code",
   "execution_count": 166,
   "metadata": {},
   "outputs": [
    {
     "name": "stdout",
     "output_type": "stream",
     "text": [
      "Columns Match\n"
     ]
    }
   ],
   "source": [
    "not_matching = []\n",
    "for i in range(len(s1.columns)):\n",
    "    if s1.columns[i] != s2.columns[i] or s2.columns[i] != s3.columns[i] or s1.columns[i] != s3.columns[i]:\n",
    "        not_matching.append(i)\n",
    "if len(not_matching) == 0:\n",
    "    print(\"Columns Match\")\n",
    "else:\n",
    "    print(\"The following indicies do not match\")\n",
    "    print(not_matching)"
   ]
  },
  {
   "cell_type": "code",
   "execution_count": 167,
   "metadata": {
    "collapsed": true
   },
   "outputs": [],
   "source": [
    "Schedule2 = np.zeros([s2.shape[0], s2.shape[1]-1])\n",
    "for i in range(s2.shape[0]):\n",
    "    Schedule2[i] = s2.iloc[i,1:].tolist()\n",
    "    \n",
    "Schedule3 = np.zeros([s3.shape[0], s3.shape[1]-1])\n",
    "for i in range(s3.shape[0]):\n",
    "    Schedule3[i] = s3.iloc[i,1:].tolist()"
   ]
  },
  {
   "cell_type": "code",
   "execution_count": 168,
   "metadata": {
    "collapsed": true
   },
   "outputs": [],
   "source": [
    "# Max class size\n",
    "#MAX_SIZE = [1, 1, 1, 2, 1, 1, 1, 2, 1, 1, 1, 2]\n",
    "#MAX_SIZE = [2, 2, 2, 2, 2, 2, 2, 2, 2, 2, 2, 2]\n",
    "#MAX_SIZE = 24\n",
    "course_sizes = pd.read_csv(\"Resources/CourseSize.csv\")"
   ]
  },
  {
   "cell_type": "code",
   "execution_count": 169,
   "metadata": {
    "collapsed": true
   },
   "outputs": [],
   "source": [
    "course_names = course_sizes['0']\n",
    "sizes = course_sizes['Size']"
   ]
  },
  {
   "cell_type": "code",
   "execution_count": 170,
   "metadata": {
    "collapsed": true
   },
   "outputs": [],
   "source": [
    "MAX_SIZES = {}\n",
    "for i in range(len(course_names)):\n",
    "    MAX_SIZES[course_names[i]] = sizes[i]"
   ]
  },
  {
   "cell_type": "code",
   "execution_count": 171,
   "metadata": {},
   "outputs": [
    {
     "data": {
      "text/plain": [
       "91"
      ]
     },
     "execution_count": 171,
     "metadata": {},
     "output_type": "execute_result"
    }
   ],
   "source": [
    "len(MAX_SIZES) #len(COURSES)"
   ]
  },
  {
   "cell_type": "code",
   "execution_count": 172,
   "metadata": {
    "collapsed": true
   },
   "outputs": [],
   "source": [
    "# Change max sizes\n",
    "for c in MAX_SIZES:\n",
    "    if \"Other\" in c:\n",
    "        MAX_SIZES[c] = 100\n",
    "    else:\n",
    "        MAX_SIZES[c] = 25"
   ]
  },
  {
   "cell_type": "markdown",
   "metadata": {},
   "source": [
    "The above is all the data we need, now lets specify the variables in the model. We can keep track of the variables using a dictionary. Using the model instance, we can add variables with \"m.addVar()\". This returns a pointer to the variable, which we will add to the dictionary. We require the variable to be binary by includingt he option \"vtype='B'\".\n",
    "\n",
    "Our variables is indexed over student and \"preference\" so each student has three variables, one for each schedule, indicating the schedule to which they are assigned."
   ]
  },
  {
   "cell_type": "code",
   "execution_count": 173,
   "metadata": {
    "collapsed": true
   },
   "outputs": [],
   "source": [
    "X = {} # variable dictionary\n",
    "for i in range(1, len(STUDENTS)+1):\n",
    "    for j in [1,2,3]:\n",
    "        name = str(STUDENTS[i]) + \" pref\" + str(j)\n",
    "        X[i,j] = m.addVar(name, vtype='B')"
   ]
  },
  {
   "cell_type": "markdown",
   "metadata": {},
   "source": [
    "Now we can focus on adding the constraints:\n",
    "$$ \\sum_{s \\in S} x_{s,1}S1_{i, c} + x_{s,2}S2_{i,c} + x_{s,3}S3[i,c] <= max_c\\qquad \\forall c \\in C$$\n",
    "which enforces that the capcity for each class is not exceed. To do this sum we can use the pyscipopt function \"quicksum\".\n",
    "\n",
    "Lastly, we need to ensure that a student is only assigned to one schedule:\n",
    "$$ x_{s, 1} + x_{s,2} + x_{s, 3} = 1 \\qquad \\forall s \\in S $$\n"
   ]
  },
  {
   "cell_type": "code",
   "execution_count": 174,
   "metadata": {},
   "outputs": [
    {
     "ename": "NotImplementedError",
     "evalue": "",
     "output_type": "error",
     "traceback": [
      "\u001b[0;31m---------------------------------------------------------------------------\u001b[0m",
      "\u001b[0;31mNotImplementedError\u001b[0m                       Traceback (most recent call last)",
      "\u001b[0;32m<ipython-input-174-1a0b7a22b4d9>\u001b[0m in \u001b[0;36m<module>\u001b[0;34m()\u001b[0m\n\u001b[1;32m      2\u001b[0m \u001b[0;32mfor\u001b[0m \u001b[0mc\u001b[0m \u001b[0;32min\u001b[0m \u001b[0mrange\u001b[0m\u001b[0;34m(\u001b[0m\u001b[0mlen\u001b[0m\u001b[0;34m(\u001b[0m\u001b[0mCOURSES\u001b[0m\u001b[0;34m)\u001b[0m\u001b[0;34m)\u001b[0m\u001b[0;34m:\u001b[0m\u001b[0;34m\u001b[0m\u001b[0m\n\u001b[1;32m      3\u001b[0m     m.addCons(quicksum(X[s,1]*Schedule1[s-1,c] + X[s,2]*Schedule2[s-1,c] + X[s,3]*Schedule3[s-1,c]\n\u001b[0;32m----> 4\u001b[0;31m                        for s in range(1, len(STUDENTS)+1)) <= MAX_SIZES)\n\u001b[0m",
      "\u001b[0;32msrc/pyscipopt/expr.pxi\u001b[0m in \u001b[0;36mpyscipopt.scip.Expr.__richcmp__\u001b[0;34m()\u001b[0m\n",
      "\u001b[0;32msrc/pyscipopt/expr.pxi\u001b[0m in \u001b[0;36mpyscipopt.scip._expr_richcmp\u001b[0;34m()\u001b[0m\n",
      "\u001b[0;31mNotImplementedError\u001b[0m: "
     ]
    }
   ],
   "source": [
    "# Capacity Constraint\n",
    "for c in range(len(COURSES)):\n",
    "    m.addCons(quicksum(X[s,1]*Schedule1[s-1,c] + X[s,2]*Schedule2[s-1,c] + X[s,3]*Schedule3[s-1,c]\n",
    "                       for s in range(1, len(STUDENTS)+1)) <= MAX_SIZES)"
   ]
  },
  {
   "cell_type": "code",
   "execution_count": 175,
   "metadata": {
    "collapsed": true
   },
   "outputs": [],
   "source": [
    "# Capacity Constraint with Different Max sizes\n",
    "for c in range(len(COURSES)):\n",
    "    m.addCons(quicksum(X[s,1]*Schedule1[s-1,c] + X[s,2]*Schedule2[s-1,c] + X[s,3]*Schedule3[s-1,c]\n",
    "                       for s in range(1, len(STUDENTS)+1)) <= MAX_SIZES[COURSES[c+1]])"
   ]
  },
  {
   "cell_type": "markdown",
   "metadata": {},
   "source": [
    "## NOTE in the above, differenent from the test model, we are using a constant max class size."
   ]
  },
  {
   "cell_type": "code",
   "execution_count": 176,
   "metadata": {
    "collapsed": true
   },
   "outputs": [],
   "source": [
    "# Assignment Constraint\n",
    "for s in range(len(STUDENTS)):\n",
    "    m.addCons(X[s+1,1] + X[s+1,2] + X[s+1,3] == 1)"
   ]
  },
  {
   "cell_type": "markdown",
   "metadata": {},
   "source": [
    "Lastly, we can add the objective to the model:\n",
    "$$ \\text{max}_x \\sum_{s \\in S} 3x_{s,1} + 2x_{s,2} + x_{s,3} $$"
   ]
  },
  {
   "cell_type": "markdown",
   "metadata": {},
   "source": [
    "# Add Grades"
   ]
  },
  {
   "cell_type": "code",
   "execution_count": 189,
   "metadata": {},
   "outputs": [],
   "source": [
    "gdf = pd.read_csv(\"Resources/Grades.csv\", header=None)"
   ]
  },
  {
   "cell_type": "code",
   "execution_count": 190,
   "metadata": {},
   "outputs": [],
   "source": [
    "key = gdf[gdf.columns[0]]\n",
    "grades = gdf[gdf.columns[1]]\n",
    "GRADES = {}\n",
    "i = 0\n",
    "for s in STUDENTS:\n",
    "    GRADES[s] = grades[i] # doing this key so that it matches with STUDENTS\n",
    "    i += 1"
   ]
  },
  {
   "cell_type": "code",
   "execution_count": 192,
   "metadata": {},
   "outputs": [
    {
     "data": {
      "text/plain": [
       "246"
      ]
     },
     "execution_count": 192,
     "metadata": {},
     "output_type": "execute_result"
    }
   ],
   "source": [
    "len(key)"
   ]
  },
  {
   "cell_type": "code",
   "execution_count": 193,
   "metadata": {
    "collapsed": true
   },
   "outputs": [],
   "source": [
    "# Make another dictionary, that maps seniors and eigth graders to 2 and all else to zero\n",
    "GRADE_MAP = {}\n",
    "for s in GRADES:\n",
    "    if GRADES[s] == 8 or GRADES[s] == 12:\n",
    "        GRADE_MAP[s] = 2\n",
    "    else:\n",
    "        GRADE_MAP[s] = 0"
   ]
  },
  {
   "cell_type": "code",
   "execution_count": 194,
   "metadata": {},
   "outputs": [],
   "source": [
    "# Objective\n",
    "m.setObjective(quicksum(3*X[s,1] + 2*X[s,2] + X[s,3] for s in STUDENTS) +\n",
    "                   quicksum(GRADE_MAP[s]*X[s,1] for s in STUDENTS), \"maximize\")"
   ]
  },
  {
   "cell_type": "markdown",
   "metadata": {},
   "source": [
    "Now that we have fully set up the model, we can solve it, and attempt to extract the results."
   ]
  },
  {
   "cell_type": "code",
   "execution_count": 195,
   "metadata": {
    "collapsed": true
   },
   "outputs": [],
   "source": [
    "# Solve/Optimize\n",
    "m.optimize()"
   ]
  },
  {
   "cell_type": "code",
   "execution_count": 196,
   "metadata": {},
   "outputs": [
    {
     "name": "stdout",
     "output_type": "stream",
     "text": [
      "Student 1 is assigned to schedule 2\n",
      "Student 2 is assigned to schedule 1\n",
      "Student 3 is assigned to schedule 3\n",
      "Student 4 is assigned to schedule 1\n",
      "Student 5 is assigned to schedule 1\n",
      "Student 6 is assigned to schedule 1\n",
      "Student 7 is assigned to schedule 1\n",
      "Student 8 is assigned to schedule 1\n",
      "Student 9 is assigned to schedule 1\n",
      "Student 10 is assigned to schedule 1\n",
      "Student 11 is assigned to schedule 1\n",
      "Student 12 is assigned to schedule 2\n",
      "Student 13 is assigned to schedule 1\n",
      "Student 14 is assigned to schedule 1\n",
      "Student 15 is assigned to schedule 1\n",
      "Student 16 is assigned to schedule 1\n",
      "Student 17 is assigned to schedule 1\n",
      "Student 18 is assigned to schedule 2\n",
      "Student 19 is assigned to schedule 1\n",
      "Student 20 is assigned to schedule 1\n",
      "Student 21 is assigned to schedule 1\n",
      "Student 22 is assigned to schedule 1\n",
      "Student 23 is assigned to schedule 1\n",
      "Student 24 is assigned to schedule 1\n",
      "Student 25 is assigned to schedule 1\n",
      "Student 26 is assigned to schedule 1\n",
      "Student 27 is assigned to schedule 1\n",
      "Student 28 is assigned to schedule 1\n",
      "Student 29 is assigned to schedule 1\n",
      "Student 30 is assigned to schedule 1\n",
      "Student 31 is assigned to schedule 1\n",
      "Student 32 is assigned to schedule 3\n",
      "Student 33 is assigned to schedule 1\n",
      "Student 34 is assigned to schedule 1\n",
      "Student 35 is assigned to schedule 1\n",
      "Student 36 is assigned to schedule 1\n",
      "Student 37 is assigned to schedule 1\n",
      "Student 38 is assigned to schedule 1\n",
      "Student 39 is assigned to schedule 1\n",
      "Student 40 is assigned to schedule 1\n",
      "Student 41 is assigned to schedule 1\n",
      "Student 42 is assigned to schedule 1\n",
      "Student 43 is assigned to schedule 1\n",
      "Student 44 is assigned to schedule 1\n",
      "Student 45 is assigned to schedule 1\n",
      "Student 46 is assigned to schedule 2\n",
      "Student 47 is assigned to schedule 1\n",
      "Student 48 is assigned to schedule 1\n",
      "Student 49 is assigned to schedule 1\n",
      "Student 50 is assigned to schedule 1\n",
      "Student 51 is assigned to schedule 1\n",
      "Student 52 is assigned to schedule 1\n",
      "Student 53 is assigned to schedule 1\n",
      "Student 54 is assigned to schedule 2\n",
      "Student 55 is assigned to schedule 1\n",
      "Student 56 is assigned to schedule 1\n",
      "Student 57 is assigned to schedule 1\n",
      "Student 58 is assigned to schedule 1\n",
      "Student 59 is assigned to schedule 1\n",
      "Student 60 is assigned to schedule 1\n",
      "Student 61 is assigned to schedule 1\n",
      "Student 62 is assigned to schedule 1\n",
      "Student 63 is assigned to schedule 1\n",
      "Student 64 is assigned to schedule 1\n",
      "Student 65 is assigned to schedule 1\n",
      "Student 66 is assigned to schedule 1\n",
      "Student 67 is assigned to schedule 1\n",
      "Student 68 is assigned to schedule 1\n",
      "Student 69 is assigned to schedule 1\n",
      "Student 70 is assigned to schedule 1\n",
      "Student 71 is assigned to schedule 1\n",
      "Student 72 is assigned to schedule 2\n",
      "Student 73 is assigned to schedule 1\n",
      "Student 74 is assigned to schedule 1\n",
      "Student 75 is assigned to schedule 1\n",
      "Student 76 is assigned to schedule 1\n",
      "Student 77 is assigned to schedule 1\n",
      "Student 78 is assigned to schedule 3\n",
      "Student 79 is assigned to schedule 1\n",
      "Student 80 is assigned to schedule 1\n",
      "Student 81 is assigned to schedule 1\n",
      "Student 82 is assigned to schedule 1\n",
      "Student 83 is assigned to schedule 1\n",
      "Student 84 is assigned to schedule 1\n",
      "Student 85 is assigned to schedule 1\n",
      "Student 86 is assigned to schedule 1\n",
      "Student 87 is assigned to schedule 1\n",
      "Student 88 is assigned to schedule 1\n",
      "Student 89 is assigned to schedule 2\n",
      "Student 90 is assigned to schedule 1\n",
      "Student 91 is assigned to schedule 1\n",
      "Student 92 is assigned to schedule 1\n",
      "Student 93 is assigned to schedule 1\n",
      "Student 94 is assigned to schedule 2\n",
      "Student 95 is assigned to schedule 1\n",
      "Student 96 is assigned to schedule 1\n",
      "Student 97 is assigned to schedule 1\n",
      "Student 98 is assigned to schedule 1\n",
      "Student 99 is assigned to schedule 1\n",
      "Student 100 is assigned to schedule 1\n",
      "Student 101 is assigned to schedule 3\n",
      "Student 102 is assigned to schedule 1\n",
      "Student 103 is assigned to schedule 1\n",
      "Student 104 is assigned to schedule 1\n",
      "Student 105 is assigned to schedule 2\n",
      "Student 106 is assigned to schedule 1\n",
      "Student 107 is assigned to schedule 1\n",
      "Student 108 is assigned to schedule 1\n",
      "Student 109 is assigned to schedule 1\n",
      "Student 110 is assigned to schedule 1\n",
      "Student 111 is assigned to schedule 1\n",
      "Student 112 is assigned to schedule 1\n",
      "Student 113 is assigned to schedule 1\n",
      "Student 114 is assigned to schedule 1\n",
      "Student 115 is assigned to schedule 1\n",
      "Student 116 is assigned to schedule 1\n",
      "Student 117 is assigned to schedule 1\n",
      "Student 118 is assigned to schedule 1\n",
      "Student 119 is assigned to schedule 1\n",
      "Student 120 is assigned to schedule 1\n",
      "Student 121 is assigned to schedule 1\n",
      "Student 122 is assigned to schedule 2\n",
      "Student 123 is assigned to schedule 1\n",
      "Student 124 is assigned to schedule 1\n",
      "Student 125 is assigned to schedule 1\n",
      "Student 126 is assigned to schedule 1\n",
      "Student 127 is assigned to schedule 1\n",
      "Student 128 is assigned to schedule 2\n",
      "Student 129 is assigned to schedule 1\n",
      "Student 130 is assigned to schedule 1\n",
      "Student 131 is assigned to schedule 1\n",
      "Student 132 is assigned to schedule 1\n",
      "Student 133 is assigned to schedule 1\n",
      "Student 134 is assigned to schedule 1\n",
      "Student 135 is assigned to schedule 1\n",
      "Student 136 is assigned to schedule 1\n",
      "Student 137 is assigned to schedule 1\n",
      "Student 138 is assigned to schedule 1\n",
      "Student 139 is assigned to schedule 1\n",
      "Student 140 is assigned to schedule 1\n",
      "Student 141 is assigned to schedule 1\n",
      "Student 142 is assigned to schedule 1\n",
      "Student 143 is assigned to schedule 1\n",
      "Student 144 is assigned to schedule 1\n",
      "Student 145 is assigned to schedule 1\n",
      "Student 146 is assigned to schedule 1\n",
      "Student 147 is assigned to schedule 1\n",
      "Student 148 is assigned to schedule 1\n",
      "Student 149 is assigned to schedule 1\n",
      "Student 150 is assigned to schedule 1\n",
      "Student 151 is assigned to schedule 2\n",
      "Student 152 is assigned to schedule 1\n",
      "Student 153 is assigned to schedule 1\n",
      "Student 154 is assigned to schedule 1\n",
      "Student 155 is assigned to schedule 1\n",
      "Student 156 is assigned to schedule 1\n",
      "Student 157 is assigned to schedule 1\n",
      "Student 158 is assigned to schedule 1\n",
      "Student 159 is assigned to schedule 1\n",
      "Student 160 is assigned to schedule 1\n",
      "Student 161 is assigned to schedule 1\n",
      "Student 162 is assigned to schedule 1\n",
      "Student 163 is assigned to schedule 1\n",
      "Student 164 is assigned to schedule 1\n",
      "Student 165 is assigned to schedule 1\n",
      "Student 166 is assigned to schedule 1\n",
      "Student 167 is assigned to schedule 1\n",
      "Student 168 is assigned to schedule 1\n",
      "Student 169 is assigned to schedule 1\n",
      "Student 170 is assigned to schedule 1\n",
      "Student 171 is assigned to schedule 1\n",
      "Student 172 is assigned to schedule 1\n",
      "Student 173 is assigned to schedule 1\n",
      "Student 174 is assigned to schedule 2\n",
      "Student 175 is assigned to schedule 1\n",
      "Student 176 is assigned to schedule 1\n",
      "Student 177 is assigned to schedule 1\n",
      "Student 178 is assigned to schedule 1\n",
      "Student 179 is assigned to schedule 1\n",
      "Student 180 is assigned to schedule 1\n",
      "Student 181 is assigned to schedule 1\n",
      "Student 182 is assigned to schedule 1\n",
      "Student 183 is assigned to schedule 2\n",
      "Student 184 is assigned to schedule 1\n",
      "Student 185 is assigned to schedule 1\n",
      "Student 186 is assigned to schedule 2\n",
      "Student 187 is assigned to schedule 1\n",
      "Student 188 is assigned to schedule 1\n",
      "Student 189 is assigned to schedule 1\n",
      "Student 190 is assigned to schedule 2\n",
      "Student 191 is assigned to schedule 1\n",
      "Student 192 is assigned to schedule 1\n",
      "Student 193 is assigned to schedule 2\n",
      "Student 194 is assigned to schedule 1\n",
      "Student 195 is assigned to schedule 1\n",
      "Student 196 is assigned to schedule 1\n",
      "Student 197 is assigned to schedule 1\n",
      "Student 198 is assigned to schedule 2\n",
      "Student 199 is assigned to schedule 1\n",
      "Student 200 is assigned to schedule 2\n",
      "Student 201 is assigned to schedule 1\n",
      "Student 202 is assigned to schedule 1\n",
      "Student 203 is assigned to schedule 1\n",
      "Student 204 is assigned to schedule 1\n",
      "Student 205 is assigned to schedule 1\n",
      "Student 206 is assigned to schedule 1\n",
      "Student 207 is assigned to schedule 1\n",
      "Student 208 is assigned to schedule 2\n",
      "Student 209 is assigned to schedule 2\n",
      "Student 210 is assigned to schedule 1\n",
      "Student 211 is assigned to schedule 1\n",
      "Student 212 is assigned to schedule 1\n",
      "Student 213 is assigned to schedule 1\n",
      "Student 214 is assigned to schedule 1\n",
      "Student 215 is assigned to schedule 1\n",
      "Student 216 is assigned to schedule 1\n",
      "Student 217 is assigned to schedule 1\n",
      "Student 218 is assigned to schedule 2\n",
      "Student 219 is assigned to schedule 2\n",
      "Student 220 is assigned to schedule 1\n",
      "Student 221 is assigned to schedule 1\n",
      "Student 222 is assigned to schedule 1\n",
      "Student 223 is assigned to schedule 1\n",
      "Student 224 is assigned to schedule 1\n",
      "Student 225 is assigned to schedule 1\n",
      "Student 226 is assigned to schedule 1\n",
      "Student 227 is assigned to schedule 1\n",
      "Student 228 is assigned to schedule 1\n",
      "Student 229 is assigned to schedule 1\n",
      "Student 230 is assigned to schedule 1\n",
      "Student 231 is assigned to schedule 1\n",
      "Student 232 is assigned to schedule 1\n",
      "Student 233 is assigned to schedule 2\n",
      "Student 234 is assigned to schedule 1\n",
      "Student 235 is assigned to schedule 1\n",
      "Student 236 is assigned to schedule 1\n",
      "Student 237 is assigned to schedule 1\n",
      "Student 238 is assigned to schedule 1\n",
      "Student 239 is assigned to schedule 1\n",
      "Student 240 is assigned to schedule 3\n",
      "Student 241 is assigned to schedule 2\n",
      "Student 242 is assigned to schedule 1\n",
      "Student 243 is assigned to schedule 1\n",
      "Student 244 is assigned to schedule 1\n",
      "Student 245 is assigned to schedule 1\n",
      "Student 246 is assigned to schedule 1\n"
     ]
    }
   ],
   "source": [
    "# Take a look at solution\n",
    "if m.getStatus() == \"optimal\":\n",
    "    for i in range(1, len(STUDENTS) +1):\n",
    "        for j in [1,2,3]:\n",
    "            v = m.getVal(X[i,j])\n",
    "            if v == 1:\n",
    "                print(\"Student\", str(i), \"is assigned to schedule\", str(j))\n",
    "else:\n",
    "    print(\"We have not found an optimal solution\\n the problem is\", m.getStatus())"
   ]
  },
  {
   "cell_type": "code",
   "execution_count": null,
   "metadata": {
    "collapsed": true
   },
   "outputs": [],
   "source": []
  }
 ],
 "metadata": {
  "kernelspec": {
   "display_name": "Python 3",
   "language": "python",
   "name": "python3"
  },
  "language_info": {
   "codemirror_mode": {
    "name": "ipython",
    "version": 3
   },
   "file_extension": ".py",
   "mimetype": "text/x-python",
   "name": "python",
   "nbconvert_exporter": "python",
   "pygments_lexer": "ipython3",
   "version": "3.6.3"
  }
 },
 "nbformat": 4,
 "nbformat_minor": 2
}
