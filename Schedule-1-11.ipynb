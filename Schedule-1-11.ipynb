{
 "cells": [
  {
   "cell_type": "markdown",
   "metadata": {},
   "source": [
    "# Schedule Model 1/11/18"
   ]
  },
  {
   "cell_type": "code",
   "execution_count": 10,
   "metadata": {
    "collapsed": true
   },
   "outputs": [],
   "source": [
    "# SCIP Model Interface\n",
    "from pyscipopt import Model, quicksum\n",
    "import numpy as np"
   ]
  },
  {
   "cell_type": "markdown",
   "metadata": {},
   "source": [
    "At the heart of every model is a \"Model\" instance. It has methods to add variables (which we can specify as binary), add constraints, specify an objective, and, finally, optimize."
   ]
  },
  {
   "cell_type": "code",
   "execution_count": 11,
   "metadata": {
    "collapsed": true
   },
   "outputs": [],
   "source": [
    "m = Model(\"Schedule\") # Model name is optional"
   ]
  },
  {
   "cell_type": "markdown",
   "metadata": {},
   "source": [
    "Now lets focus on using our data. We have sets of Students and courses; parameters for the first, second, and third choice schedules; and a one dimensional parameter for the max enrollment of each course. Lets consider some fake test data:"
   ]
  },
  {
   "cell_type": "code",
   "execution_count": 12,
   "metadata": {
    "collapsed": true
   },
   "outputs": [],
   "source": [
    "# use dictionary to map students to a number\n",
    "STUDENTS = {}\n",
    "for i in range(1, 6):\n",
    "    student = \"s\" + str(i)\n",
    "    STUDENTS[i] = student"
   ]
  },
  {
   "cell_type": "code",
   "execution_count": 13,
   "metadata": {
    "collapsed": true
   },
   "outputs": [],
   "source": [
    "# use dictionary to map courses to a number\n",
    "COURSES = {}\n",
    "for i in range(1, 13):\n",
    "    course = \"c\" + str(i)\n",
    "    COURSES[i] = course"
   ]
  },
  {
   "cell_type": "markdown",
   "metadata": {},
   "source": [
    "In this example, we have 12 courses, which we will say is divided into three periods, so there are 4 courses per period."
   ]
  },
  {
   "cell_type": "code",
   "execution_count": 14,
   "metadata": {
    "collapsed": true
   },
   "outputs": [],
   "source": [
    "# function to generate fake preferences for a student\n",
    "def gen_pref(num_courses, num_periods):\n",
    "    \"\"\"returns a 1xnum_courses array with num_courses/num_peridos 1's\n",
    "    assumes that courses are ordered by periods, e.g., the first 3 courses\n",
    "    are in the first, period, next three in the second period, etc. \"\"\"\n",
    "    \n",
    "    if num_courses % num_periods != 0:\n",
    "        raise Exception(\"Must have correct divisibility\")\n",
    "    \n",
    "    num_coureses = int(num_courses)\n",
    "    num_periods = int(num_periods) # ensure all ints\n",
    "    per_period = int(num_courses/num_periods)\n",
    "    \n",
    "    p = []\n",
    "    for i in range(num_periods):\n",
    "        x = np.zeros(per_period)\n",
    "        x[np.random.randint(per_period)] = 1\n",
    "        x = x.tolist()\n",
    "        p.append(x)\n",
    "    \n",
    "    p = np.array(p).flatten().tolist()\n",
    "    p = [int(i) for i in p]\n",
    "    return p\n",
    "            "
   ]
  },
  {
   "cell_type": "code",
   "execution_count": 15,
   "metadata": {
    "collapsed": true
   },
   "outputs": [],
   "source": [
    "# Schedule1 parameter is indexed over students (rows) and courses (columns)\n",
    "np.random.seed(1)\n",
    "\n",
    "NUM_PERIODS = 3\n",
    "Schedule1 = np.zeros([len(STUDENTS), len(COURSES)])\n",
    "for i in range(len(STUDENTS)):\n",
    "    Schedule1[i] = gen_pref(len(COURSES), NUM_PERIODS)\n",
    "    \n",
    "Schedule2 = np.zeros([len(STUDENTS), len(COURSES)])\n",
    "for i in range(len(STUDENTS)):\n",
    "    Schedule2[i] = gen_pref(len(COURSES), NUM_PERIODS)\n",
    "    \n",
    "Schedule3 = np.zeros([len(STUDENTS), len(COURSES)])\n",
    "for i in range(len(STUDENTS)):\n",
    "    Schedule3[i] = gen_pref(len(COURSES), NUM_PERIODS)"
   ]
  },
  {
   "cell_type": "markdown",
   "metadata": {},
   "source": [
    "# Re-Do With Justina's Real Data"
   ]
  },
  {
   "cell_type": "code",
   "execution_count": 16,
   "metadata": {
    "collapsed": true
   },
   "outputs": [],
   "source": [
    "import pandas as pd"
   ]
  },
  {
   "cell_type": "code",
   "execution_count": 46,
   "metadata": {},
   "outputs": [
    {
     "data": {
      "text/html": [
       "<div>\n",
       "<style>\n",
       "    .dataframe thead tr:only-child th {\n",
       "        text-align: right;\n",
       "    }\n",
       "\n",
       "    .dataframe thead th {\n",
       "        text-align: left;\n",
       "    }\n",
       "\n",
       "    .dataframe tbody tr th {\n",
       "        vertical-align: top;\n",
       "    }\n",
       "</style>\n",
       "<table border=\"1\" class=\"dataframe\">\n",
       "  <thead>\n",
       "    <tr style=\"text-align: right;\">\n",
       "      <th></th>\n",
       "      <th>Unnamed: 0</th>\n",
       "      <th>P17th-8th Grade Art</th>\n",
       "      <th>P1Advanced Algebra &amp; Trigonometry</th>\n",
       "      <th>P1Constitutional Law/Government</th>\n",
       "      <th>P1Evolutionary Biology</th>\n",
       "      <th>P1Facing History</th>\n",
       "      <th>P1French B</th>\n",
       "      <th>P1HS English</th>\n",
       "      <th>P1HS English (TBA)</th>\n",
       "      <th>P1HS PE</th>\n",
       "      <th>...</th>\n",
       "      <th>Period 8 (First Choice)_French A</th>\n",
       "      <th>Period 8 (First Choice)_HS PE</th>\n",
       "      <th>Period 8 (First Choice)_In-Depth Spanish</th>\n",
       "      <th>Period 8 (First Choice)_Latin American Studies</th>\n",
       "      <th>Period 8 (First Choice)_MS Chemistry</th>\n",
       "      <th>Period 8 (First Choice)_MS English &amp; Social Studies</th>\n",
       "      <th>Period 8 (First Choice)_MS PE</th>\n",
       "      <th>Period 8 (First Choice)_Other</th>\n",
       "      <th>Period 8 (First Choice)_Probability &amp; Statistics</th>\n",
       "      <th>Period 8 (First Choice)_US History &amp; Lit: The 20th Century</th>\n",
       "    </tr>\n",
       "  </thead>\n",
       "  <tbody>\n",
       "    <tr>\n",
       "      <th>0</th>\n",
       "      <td>0</td>\n",
       "      <td>0</td>\n",
       "      <td>0</td>\n",
       "      <td>0</td>\n",
       "      <td>1</td>\n",
       "      <td>0</td>\n",
       "      <td>0</td>\n",
       "      <td>0</td>\n",
       "      <td>0</td>\n",
       "      <td>0</td>\n",
       "      <td>...</td>\n",
       "      <td>0</td>\n",
       "      <td>0</td>\n",
       "      <td>0</td>\n",
       "      <td>0</td>\n",
       "      <td>0</td>\n",
       "      <td>0</td>\n",
       "      <td>0</td>\n",
       "      <td>0</td>\n",
       "      <td>0</td>\n",
       "      <td>1</td>\n",
       "    </tr>\n",
       "    <tr>\n",
       "      <th>1</th>\n",
       "      <td>1</td>\n",
       "      <td>0</td>\n",
       "      <td>0</td>\n",
       "      <td>0</td>\n",
       "      <td>0</td>\n",
       "      <td>0</td>\n",
       "      <td>0</td>\n",
       "      <td>0</td>\n",
       "      <td>0</td>\n",
       "      <td>1</td>\n",
       "      <td>...</td>\n",
       "      <td>0</td>\n",
       "      <td>0</td>\n",
       "      <td>0</td>\n",
       "      <td>1</td>\n",
       "      <td>0</td>\n",
       "      <td>0</td>\n",
       "      <td>0</td>\n",
       "      <td>0</td>\n",
       "      <td>0</td>\n",
       "      <td>0</td>\n",
       "    </tr>\n",
       "    <tr>\n",
       "      <th>2</th>\n",
       "      <td>2</td>\n",
       "      <td>1</td>\n",
       "      <td>0</td>\n",
       "      <td>0</td>\n",
       "      <td>0</td>\n",
       "      <td>0</td>\n",
       "      <td>0</td>\n",
       "      <td>0</td>\n",
       "      <td>0</td>\n",
       "      <td>0</td>\n",
       "      <td>...</td>\n",
       "      <td>0</td>\n",
       "      <td>0</td>\n",
       "      <td>0</td>\n",
       "      <td>0</td>\n",
       "      <td>0</td>\n",
       "      <td>0</td>\n",
       "      <td>0</td>\n",
       "      <td>0</td>\n",
       "      <td>0</td>\n",
       "      <td>0</td>\n",
       "    </tr>\n",
       "    <tr>\n",
       "      <th>3</th>\n",
       "      <td>4</td>\n",
       "      <td>0</td>\n",
       "      <td>0</td>\n",
       "      <td>0</td>\n",
       "      <td>0</td>\n",
       "      <td>0</td>\n",
       "      <td>0</td>\n",
       "      <td>0</td>\n",
       "      <td>0</td>\n",
       "      <td>0</td>\n",
       "      <td>...</td>\n",
       "      <td>0</td>\n",
       "      <td>0</td>\n",
       "      <td>0</td>\n",
       "      <td>0</td>\n",
       "      <td>0</td>\n",
       "      <td>0</td>\n",
       "      <td>0</td>\n",
       "      <td>0</td>\n",
       "      <td>0</td>\n",
       "      <td>0</td>\n",
       "    </tr>\n",
       "    <tr>\n",
       "      <th>4</th>\n",
       "      <td>5</td>\n",
       "      <td>0</td>\n",
       "      <td>0</td>\n",
       "      <td>0</td>\n",
       "      <td>0</td>\n",
       "      <td>0</td>\n",
       "      <td>1</td>\n",
       "      <td>0</td>\n",
       "      <td>0</td>\n",
       "      <td>0</td>\n",
       "      <td>...</td>\n",
       "      <td>0</td>\n",
       "      <td>0</td>\n",
       "      <td>0</td>\n",
       "      <td>0</td>\n",
       "      <td>1</td>\n",
       "      <td>0</td>\n",
       "      <td>0</td>\n",
       "      <td>0</td>\n",
       "      <td>0</td>\n",
       "      <td>0</td>\n",
       "    </tr>\n",
       "  </tbody>\n",
       "</table>\n",
       "<p>5 rows × 93 columns</p>\n",
       "</div>"
      ],
      "text/plain": [
       "   Unnamed: 0  P17th-8th Grade Art  P1Advanced Algebra & Trigonometry  \\\n",
       "0           0                    0                                  0   \n",
       "1           1                    0                                  0   \n",
       "2           2                    1                                  0   \n",
       "3           4                    0                                  0   \n",
       "4           5                    0                                  0   \n",
       "\n",
       "   P1Constitutional Law/Government  P1Evolutionary Biology  P1Facing History  \\\n",
       "0                                0                       1                 0   \n",
       "1                                0                       0                 0   \n",
       "2                                0                       0                 0   \n",
       "3                                0                       0                 0   \n",
       "4                                0                       0                 0   \n",
       "\n",
       "   P1French B  P1HS English  P1HS English (TBA)  P1HS PE  \\\n",
       "0           0             0                   0        0   \n",
       "1           0             0                   0        1   \n",
       "2           0             0                   0        0   \n",
       "3           0             0                   0        0   \n",
       "4           1             0                   0        0   \n",
       "\n",
       "                              ...                              \\\n",
       "0                             ...                               \n",
       "1                             ...                               \n",
       "2                             ...                               \n",
       "3                             ...                               \n",
       "4                             ...                               \n",
       "\n",
       "   Period 8 (First Choice)_French A  Period 8 (First Choice)_HS PE  \\\n",
       "0                                 0                              0   \n",
       "1                                 0                              0   \n",
       "2                                 0                              0   \n",
       "3                                 0                              0   \n",
       "4                                 0                              0   \n",
       "\n",
       "   Period 8 (First Choice)_In-Depth Spanish  \\\n",
       "0                                         0   \n",
       "1                                         0   \n",
       "2                                         0   \n",
       "3                                         0   \n",
       "4                                         0   \n",
       "\n",
       "   Period 8 (First Choice)_Latin American Studies  \\\n",
       "0                                               0   \n",
       "1                                               1   \n",
       "2                                               0   \n",
       "3                                               0   \n",
       "4                                               0   \n",
       "\n",
       "   Period 8 (First Choice)_MS Chemistry  \\\n",
       "0                                     0   \n",
       "1                                     0   \n",
       "2                                     0   \n",
       "3                                     0   \n",
       "4                                     1   \n",
       "\n",
       "   Period 8 (First Choice)_MS English & Social Studies  \\\n",
       "0                                                  0     \n",
       "1                                                  0     \n",
       "2                                                  0     \n",
       "3                                                  0     \n",
       "4                                                  0     \n",
       "\n",
       "   Period 8 (First Choice)_MS PE  Period 8 (First Choice)_Other  \\\n",
       "0                              0                              0   \n",
       "1                              0                              0   \n",
       "2                              0                              0   \n",
       "3                              0                              0   \n",
       "4                              0                              0   \n",
       "\n",
       "   Period 8 (First Choice)_Probability & Statistics  \\\n",
       "0                                                 0   \n",
       "1                                                 0   \n",
       "2                                                 0   \n",
       "3                                                 0   \n",
       "4                                                 0   \n",
       "\n",
       "   Period 8 (First Choice)_US History & Lit: The 20th Century  \n",
       "0                                                  1           \n",
       "1                                                  0           \n",
       "2                                                  0           \n",
       "3                                                  0           \n",
       "4                                                  0           \n",
       "\n",
       "[5 rows x 93 columns]"
      ]
     },
     "execution_count": 46,
     "metadata": {},
     "output_type": "execute_result"
    }
   ],
   "source": [
    "s1 = pd.read_csv(\"FirstChoiceBinary.csv\")\n",
    "s1.head()"
   ]
  },
  {
   "cell_type": "code",
   "execution_count": 18,
   "metadata": {},
   "outputs": [],
   "source": [
    "# Make COURSES dictionary\n",
    "COURSES = {}\n",
    "i = 1\n",
    "for course in s1.columns[1:]:\n",
    "    COURSES[i] = course\n",
    "    i += 1"
   ]
  },
  {
   "cell_type": "markdown",
   "metadata": {},
   "source": [
    "Notice, that here students are only identified by a number, which is part of a simple sequence, so the dicionary is not especially usefull here"
   ]
  },
  {
   "cell_type": "code",
   "execution_count": 26,
   "metadata": {},
   "outputs": [],
   "source": [
    "# Make STUDENTS dictionary\n",
    "STUDENTS = {}\n",
    "i = 1\n",
    "for student in s1.iloc[:,0]:\n",
    "    STUDENTS[i] = student\n",
    "    i += 1"
   ]
  },
  {
   "cell_type": "markdown",
   "metadata": {},
   "source": [
    "Now we can use the meat of the matrix to fill in the schedule parameters"
   ]
  },
  {
   "cell_type": "code",
   "execution_count": 52,
   "metadata": {},
   "outputs": [],
   "source": [
    "Schedule1 = np.zeros([s1.shape[0], s1.shape[1]-1])\n",
    "for i in range(s1.shape[0]):\n",
    "    Schedule1[i] = s1.iloc[i,1:].tolist()"
   ]
  },
  {
   "cell_type": "markdown",
   "metadata": {},
   "source": [
    "# Lets look at the other files"
   ]
  },
  {
   "cell_type": "code",
   "execution_count": 57,
   "metadata": {
    "collapsed": true
   },
   "outputs": [],
   "source": [
    "s2 = pd.read_csv(\"SecondChoiceBinary.csv\")\n",
    "s3 = pd.read_csv(\"ThirdChoiceBinary.csv\")"
   ]
  },
  {
   "cell_type": "code",
   "execution_count": 60,
   "metadata": {},
   "outputs": [
    {
     "data": {
      "text/plain": [
       "94"
      ]
     },
     "execution_count": 60,
     "metadata": {},
     "output_type": "execute_result"
    }
   ],
   "source": [
    "# Verify everything is the same:\n",
    "if len(s1.columns) == len(s2.columns) == len(s3.columns):\n",
    "    print(\"Same number of columns\")\n",
    "\n",
    "if s1.columns == s2.columns == s3.columns:\n",
    "    print(\"The columns are in the same order\")"
   ]
  },
  {
   "cell_type": "code",
   "execution_count": null,
   "metadata": {
    "collapsed": true
   },
   "outputs": [],
   "source": [
    "Schedule2 = np.zeros([s2.shape[0], s2.shape[1]-1])\n",
    "for i in range(s2.shape[0]):\n",
    "    Schedule2[i] = s2.iloc[i,1:].tolist()\n",
    "    \n",
    "Schedule3 = np.zeros([s3.shape[0], s3.shape[1]-1])\n",
    "for i in range(s3.shape[0]):\n",
    "    Schedule3[i] = s3.iloc[i,1:].tolist()"
   ]
  },
  {
   "cell_type": "code",
   "execution_count": 11,
   "metadata": {
    "collapsed": true
   },
   "outputs": [],
   "source": [
    "# Max class size\n",
    "#MAX_SIZE = [1, 1, 1, 2, 1, 1, 1, 2, 1, 1, 1, 2]\n",
    "#MAX_SIZE = [2, 2, 2, 2, 2, 2, 2, 2, 2, 2, 2, 2]\n",
    "MAX_SIZE = 30"
   ]
  },
  {
   "cell_type": "markdown",
   "metadata": {},
   "source": [
    "The above is all the data we need, now lets specify the variables in the model. We can keep track of the variables using a dictionary. Using the model instance, we can add variables with \"m.addVar()\". This returns a pointer to the variable, which we will add to the dictionary. We require the variable to be binary by includingt he option \"vtype='B'\".\n",
    "\n",
    "Our variables is indexed over student and \"preference\" so each student has three variables, one for each schedule, indicating the schedule to which they are assigned."
   ]
  },
  {
   "cell_type": "code",
   "execution_count": 8,
   "metadata": {
    "collapsed": true
   },
   "outputs": [],
   "source": [
    "X = {} # variable dictionary\n",
    "for i in range(1, len(STUDENTS)+1):\n",
    "    for j in [1,2,3]:\n",
    "        name = STUDENTS[i] + \" pref\" + str(j)\n",
    "        X[i,j] = m.addVar(name, vtype='B')"
   ]
  },
  {
   "cell_type": "markdown",
   "metadata": {},
   "source": [
    "Now we can focus on adding the constraints:\n",
    "$$ \\sum_{s \\in S} x_{s,1}S1_{i, c} + x_{s,2}S2_{i,c} + x_{s,3}S3[i,c] <= max_c\\qquad \\forall c \\in C$$\n",
    "which enforces that the capcity for each class is not exceed. To do this sum we can use the pyscipopt function \"quicksum\".\n",
    "\n",
    "Lastly, we need to ensure that a student is only assigned to one schedule:\n",
    "$$ x_{s, 1} + x_{s,2} + x_{s, 3} = 1 \\qquad \\forall s \\in S $$\n"
   ]
  },
  {
   "cell_type": "code",
   "execution_count": 12,
   "metadata": {
    "collapsed": true
   },
   "outputs": [],
   "source": [
    "# Capacity Constraint\n",
    "for c in range(len(COURSES)):\n",
    "    m.addCons(quicksum(X[s,1]*Schedule1[s-1,c] + X[s,2]*Schedule2[s-1,c] + X[s,3]*Schedule3[s-1,c]\n",
    "                       for s in range(1, len(STUDENTS)+1)) <= MAX_SIZE)"
   ]
  },
  {
   "cell_type": "markdown",
   "metadata": {},
   "source": [
    "## NOTE in the above, differenent from the test model, we are using a constant max class size."
   ]
  },
  {
   "cell_type": "code",
   "execution_count": 13,
   "metadata": {
    "collapsed": true
   },
   "outputs": [],
   "source": [
    "# Assignment Constraint\n",
    "for s in range(len(STUDENTS)):\n",
    "    m.addCons(X[s+1,1] + X[s+1,2] + X[s+1,3] == 1)"
   ]
  },
  {
   "cell_type": "markdown",
   "metadata": {},
   "source": [
    "Lastly, we can add the objective to the model:\n",
    "$$ \\text{max}_x \\sum_{s \\in S} 3x_{s,1} + 2x_{s,2} + x_{s,3} $$"
   ]
  },
  {
   "cell_type": "code",
   "execution_count": 14,
   "metadata": {
    "collapsed": true
   },
   "outputs": [],
   "source": [
    "# Objective\n",
    "m.setObjective(quicksum(3*X[s,1] + 2*X[s,2] + X[s,1] for s in STUDENTS), \"maximize\")"
   ]
  },
  {
   "cell_type": "markdown",
   "metadata": {},
   "source": [
    "Now that we have fully set up the model, we can solve it, and attempt to extract the results."
   ]
  },
  {
   "cell_type": "code",
   "execution_count": 15,
   "metadata": {
    "collapsed": true
   },
   "outputs": [],
   "source": [
    "# Solve/Optimize\n",
    "m.optimize()"
   ]
  },
  {
   "cell_type": "code",
   "execution_count": 18,
   "metadata": {},
   "outputs": [
    {
     "name": "stdout",
     "output_type": "stream",
     "text": [
      "Student 1 is assigned to schedule 1\n",
      "Student 2 is assigned to schedule 2\n",
      "Student 3 is assigned to schedule 1\n",
      "Student 4 is assigned to schedule 1\n",
      "Student 5 is assigned to schedule 1\n"
     ]
    }
   ],
   "source": [
    "# Take a look at solution\n",
    "if m.getStatus() == \"optimal\":\n",
    "    for i in range(1, len(STUDENTS) +1):\n",
    "        for j in [1,2,3]:\n",
    "            v = m.getVal(X[i,j])\n",
    "            if v == 1:\n",
    "                print(\"Student\", str(i), \"is assigned to schedule\", str(j))\n",
    "else:\n",
    "    print(\"We have not found an optimal solution\\n the problem is\", m.getStatus())"
   ]
  }
 ],
 "metadata": {
  "kernelspec": {
   "display_name": "Python 3",
   "language": "python",
   "name": "python3"
  },
  "language_info": {
   "codemirror_mode": {
    "name": "ipython",
    "version": 3
   },
   "file_extension": ".py",
   "mimetype": "text/x-python",
   "name": "python",
   "nbconvert_exporter": "python",
   "pygments_lexer": "ipython3",
   "version": "3.6.3"
  }
 },
 "nbformat": 4,
 "nbformat_minor": 2
}
