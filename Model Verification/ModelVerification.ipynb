{
 "cells": [
  {
   "cell_type": "markdown",
   "metadata": {},
   "source": [
    "# Model Verification (1/12)\n",
    "Check that our base model is working with test data"
   ]
  },
  {
   "cell_type": "code",
   "execution_count": 23,
   "metadata": {
    "collapsed": true
   },
   "outputs": [],
   "source": [
    "from pyscipopt import Model, quicksum\n",
    "import numpy as np\n",
    "import pandas as pd"
   ]
  },
  {
   "cell_type": "code",
   "execution_count": 24,
   "metadata": {
    "collapsed": true
   },
   "outputs": [],
   "source": [
    "m = Model(\"Verification\")"
   ]
  },
  {
   "cell_type": "code",
   "execution_count": 25,
   "metadata": {
    "collapsed": true
   },
   "outputs": [],
   "source": [
    "# Read in data\n",
    "first = pd.read_csv(\"TestFirstChoice.csv\")\n",
    "second = pd.read_csv(\"TestSecondChoice.csv\")\n",
    "third = pd.read_csv(\"TestThirdChoice.csv\")"
   ]
  },
  {
   "cell_type": "code",
   "execution_count": 26,
   "metadata": {},
   "outputs": [],
   "source": [
    "# Get set of students\n",
    "students = first[\"Student\"]\n",
    "STUDENTS = {}\n",
    "for i in range(len(students)):\n",
    "    STUDENTS[i] = students[i]"
   ]
  },
  {
   "cell_type": "code",
   "execution_count": 49,
   "metadata": {
    "collapsed": true
   },
   "outputs": [],
   "source": [
    "# Get set of courses\n",
    "courses = first.columns\n",
    "COURSES = {}\n",
    "for i in range(1,len(courses)):\n",
    "    COURSES[i] = courses[i]"
   ]
  },
  {
   "cell_type": "code",
   "execution_count": 31,
   "metadata": {},
   "outputs": [],
   "source": [
    "# Extract preferences\n",
    "num_students = len(STUDENTS)\n",
    "num_courses = len(COURSES)\n",
    "schedule1 = np.zeros([num_students, num_courses])\n",
    "for i in range(num_students):\n",
    "    schedule1[i] = first.iloc[i,1:].tolist()\n",
    "    \n",
    "schedule2 = np.zeros([num_students, num_courses])\n",
    "for i in range(num_students):\n",
    "    schedule2[i] = second.iloc[i,1:].tolist()\n",
    "    \n",
    "schedule3 = np.zeros([num_students, num_courses])\n",
    "for i in range(num_students):\n",
    "    schedule3[i] = third.iloc[i,1:].tolist()"
   ]
  },
  {
   "cell_type": "code",
   "execution_count": 37,
   "metadata": {
    "collapsed": true
   },
   "outputs": [],
   "source": [
    "# Create Variables\n",
    "X = {}\n",
    "for i in range(len(STUDENTS)):\n",
    "    for j in [1,2,3]:\n",
    "        name = STUDENTS[i] + \" pref \" + str(j)\n",
    "        X[i,j] = m.addVar(name, vtype='B')"
   ]
  },
  {
   "cell_type": "code",
   "execution_count": 41,
   "metadata": {},
   "outputs": [],
   "source": [
    "# Objective\n",
    "m.setObjective(quicksum(3*X[s,1] + 2*X[s,2] + X[s,1] for s in STUDENTS), \"maximize\")"
   ]
  },
  {
   "cell_type": "code",
   "execution_count": 43,
   "metadata": {},
   "outputs": [],
   "source": [
    "# Assignment Constraint (only assigned to one schedule)\n",
    "for s in range(len(STUDENTS)):\n",
    "    m.addCons(X[s,1] + X[s,2] + X[s,3] == 1)"
   ]
  },
  {
   "cell_type": "code",
   "execution_count": 54,
   "metadata": {},
   "outputs": [],
   "source": [
    "# Set Max Course Sizes and add constraint\n",
    "MAX = [2,2,2,2,2,2]\n",
    "for c in range(len(COURSES)):\n",
    "    m.addCons(quicksum(X[s,1]*schedule1[s,c] + X[s,2]*schedule2[s,c] + X[s,3]*schedule3[s,c]\n",
    "                       for s in range(len(STUDENTS))) <= MAX[c])"
   ]
  },
  {
   "cell_type": "code",
   "execution_count": 55,
   "metadata": {},
   "outputs": [],
   "source": [
    "m.optimize()"
   ]
  },
  {
   "cell_type": "code",
   "execution_count": 63,
   "metadata": {},
   "outputs": [
    {
     "name": "stdout",
     "output_type": "stream",
     "text": [
      "Found Optimal Solution:\n",
      "Student 1 assigned to choice 1\n",
      "Student 2 assigned to choice 1\n",
      "Student 3 assigned to choice 2\n",
      "Student 4 assigned to choice 1\n",
      "{'Student 1': 1, 'Student 2': 1, 'Student 3': 2, 'Student 4': 1}\n"
     ]
    }
   ],
   "source": [
    "Results = {}\n",
    "if m.getStatus() == \"optimal\":\n",
    "    print(\"Found Optimal Solution:\")\n",
    "    for i in range(len(STUDENTS)):\n",
    "        for j in [1,2,3]:\n",
    "            v = m.getVal(X[i,j])\n",
    "            if v == 1:\n",
    "                print(STUDENTS[i], \"assigned to choice\", str(j))\n",
    "                Results[STUDENTS[i]] = j\n",
    "    print(Results)\n",
    "\n",
    "else:\n",
    "    print(\"Did not find optimal solution\")\n",
    "    print(\"Problem is\", m.getStatus())"
   ]
  },
  {
   "cell_type": "code",
   "execution_count": 60,
   "metadata": {},
   "outputs": [
    {
     "data": {
      "text/plain": [
       "{'Student 1': 1, 'Student 2': 1, 'Student 3': 2, 'Student 4': 1}"
      ]
     },
     "execution_count": 60,
     "metadata": {},
     "output_type": "execute_result"
    }
   ],
   "source": [
    "Results"
   ]
  },
  {
   "cell_type": "code",
   "execution_count": 73,
   "metadata": {},
   "outputs": [],
   "source": [
    "assignment_dict = {1:schedule1, 2:schedule2, 3:schedule3}\n",
    "enrollments = [0,0,0,0,0,0]\n",
    "for s in Results:\n",
    "    snum = int(s[-1]) -1# row number in schedule table\n",
    "    assignment = Results[s] # points to which schedule \n",
    "    enrollments = np.add(enrollments, assignment_dict[assignment][snum])\n",
    "    "
   ]
  },
  {
   "cell_type": "code",
   "execution_count": 71,
   "metadata": {},
   "outputs": [
    {
     "data": {
      "text/plain": [
       "array([ 2.,  1.,  1.,  2.,  2.,  0.])"
      ]
     },
     "execution_count": 71,
     "metadata": {},
     "output_type": "execute_result"
    }
   ],
   "source": [
    "enrollments"
   ]
  },
  {
   "cell_type": "code",
   "execution_count": null,
   "metadata": {
    "collapsed": true
   },
   "outputs": [],
   "source": []
  }
 ],
 "metadata": {
  "kernelspec": {
   "display_name": "Python 3",
   "language": "python",
   "name": "python3"
  },
  "language_info": {
   "codemirror_mode": {
    "name": "ipython",
    "version": 3
   },
   "file_extension": ".py",
   "mimetype": "text/x-python",
   "name": "python",
   "nbconvert_exporter": "python",
   "pygments_lexer": "ipython3",
   "version": "3.6.2"
  }
 },
 "nbformat": 4,
 "nbformat_minor": 2
}
