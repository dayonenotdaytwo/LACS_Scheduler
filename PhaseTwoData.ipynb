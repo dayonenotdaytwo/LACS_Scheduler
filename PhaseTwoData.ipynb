{
 "cells": [
  {
   "cell_type": "markdown",
   "metadata": {},
   "source": [
    "# Phase II Model With Real Data\n",
    "First attempt at a Phase II model, one which creases the master schedule and assigns students to courses simultaneously."
   ]
  },
  {
   "cell_type": "markdown",
   "metadata": {},
   "source": [
    "$S$ -- Set of all students\n",
    "\n",
    "$C$ -- Set of all courses\n",
    "\n",
    "$T$ -- Set of all periods {1,2,3,4,7,8} \n",
    "\n",
    "$I$ -- Set of all instructors\n",
    "\n",
    "$R$ -- set of all rooms \n",
    "\n",
    "**Variables:**\n",
    "\n",
    "$x_{i,j}$ for  $i \\in S, j \\in C$ -- Binary, 1 if student $i$ assigned to course $j$ \n",
    "\n",
    "$c_{j,t}$ for $j \\in C, t \\in T$ -- Binary, 1 if course $j$ to be offered in period $t$\n",
    "\n",
    "$r_{j,s,t}$ for $j \\in C$, $s \\in R$ and $t \\in T$ -- binary, describes if course $j$ to be held in room $s$ durring period $t$.\n",
    "\n",
    "$u_{i,j,t}$ for $i \\in S$, $j \\in C$, $t \\in T$ -- binary, used for constraint, no practical meaning.\n",
    "\n",
    "** Parameters:**\n",
    "\n",
    "$P_{i,j}$ -- Preference for student $i$ on course $j$\n",
    "\n",
    "$S_i$ -- Seniority constant, e.g., higher for seniors\n",
    "\n",
    "$D_{i,j}$ -- Binary, 1 if course $i$ and $j$ are in the same department, i.e., if they meet the same requirement, e.g., highschool math\n",
    "\n",
    "$Ta_{i,j}$ -- Binary, 1 if teacher $i$ is teaching course $j$\n",
    "\n",
    "$Cap_j$ -- Capacity of course $j$\n",
    "\n",
    "$Min_j$ -- Minimum number of students needed for course $j$\n",
    "\n",
    "$Db_j$ -- Indicates if course $j$ is a double period (1 or 0)\n",
    "\n",
    "\n",
    "** Constraints: **\n",
    "\n",
    "$\\sum_{j} x_{i,j} =6 \\quad \\forall i \\in S$ -- Says students can be assigned to six courses (full course load).\n",
    "\n",
    "$ x_{i,j} \\leq P_{i,j} \\; \\forall i \\in S, j \\in C$ -- Says students not assigned to courses they didn't preference. \n",
    "\n",
    "\n",
    "$x_{i,j} =\\sum_{t} u_{i,j,t} \\; \\forall i \\in S, j \\in C$ -- Used to ensure $u$ takes correct value of $x$ and $c$\n",
    "\n",
    "$c_{j,t} \\geq u_{i,j,t} \\; \\forall i \\in S, j \\in C, t \\in T$ -- This, in conjunction with the above are sufficient to say that no student is enrolled in more than one course per period. \n",
    "\n",
    "$ \\text{lower bound}_{i,j} \\leq \\sum_{i \\in C} D_{i,j}x_{k,i} \\leq \\text{upper bound}_{i,j} \\; \\forall k \\in S, j \\in C$ -- Says tha students take within a certain number of courses in the department, where the department is defined by the course $j$. ** new, but still likely unworkable department constraint--not in code **\n",
    "\n",
    "$\\sum_{t \\in T} c_{j,t} = 1 \\quad \\forall j \\in C$ -- Says that each course taught only once\n",
    "\n",
    "$\\sum_{i \\in S} x_{i,j} \\leq Cap_j \\quad \\forall j \\in C$ -- Course capacity constraint\n",
    "\n",
    "$\\sum_{j \\in C} c_{j,t} Ta_{k,j} \\leq 1  \\quad \\forall k \\in I, \\forall t \\in T$ -- Teacher constraint (a teacher can teach at most one course per period), where $Ta_{k,j}$ is a parameter, not a variable\n",
    "\n",
    "*Double Period Constraints*---In terms of courses, we only add constraints if the parameter value $Db_j=1$, note, this *is* linear, as the parameter is not a variable: \n",
    "$c_{j,t} \\leq c_{j+1, t+1} \\; \\forall j:Db_j =1$ -- cannot schedule the first half without also doing the second  \n",
    "$c_{j,8} = 0, c_{j,4} = 0 \\; \\forall j:Db_j = 1$ -- cannot schedule the first half in the pre-lunch of last periods.  \n",
    "$x_{i,j+1} \\geq x_{i,j} \\; \\forall i \\in S, j:Db_j = 1$ -- students must be enrolled in both parts of double. \n",
    "\n",
    "\n",
    "$ \\sum_{s \\in R} r_{j,s,t} = c_{j,t} $ -- if a course is offered, it is given exactly one room\n",
    "    \n",
    "$\\sum_{j \\in C} r_{j,s,t} \\leq 1 $ for $s \\in R$ and $t \\in T$ -- Each room can have at most one class in it at a time (we should make the gym two different rooms).\n",
    "\n",
    "TODO: Formulate room constraint for departnemnts, i.e., at most 3 science courses per period.\n",
    "\n",
    "** Objective: **\n",
    "\n",
    "$ \\text{max }\\sum_{i \\in S} \\sum_{j \\in C} x_{i,j} P_{i,j} $ -- Assuming preferences take a higher value if they are a student's preferred choice, this will give a higher weight to higher assignments (at this point, I am leaving out the seniority multiplier)."
   ]
  },
  {
   "cell_type": "code",
   "execution_count": 1,
   "metadata": {
    "collapsed": true
   },
   "outputs": [],
   "source": [
    "from pyscipopt import Model, quicksum\n",
    "import numpy as np\n",
    "import pandas as pd\n",
    "from os import system"
   ]
  },
  {
   "cell_type": "code",
   "execution_count": 25,
   "metadata": {},
   "outputs": [],
   "source": [
    "# read in data\n",
    "prefs = pd.read_csv(\"Resources/FlatChoicesBinary.csv\")\n",
    "courses = pd.read_csv(\"Resources/FlatCourseSize.csv\")\n",
    "#prox = pd.read_csv(\"Resources/Proximity.csv\")\n",
    "prox = pd.read_csv(\"Resources/Proximity.csv\")\n",
    "teacher = pd.read_csv(\"Resources/Teacher_Info.csv\", header=None)\n",
    "\n",
    "# clean it up\n",
    "prefs.rename(columns={\"Unnamed: 0\": \"Student\"}, inplace=True)\n",
    "courses.rename(columns={\"0\":\"Class\"}, inplace=True)\n",
    "courses.drop(\"Unnamed: 0\", axis=1, inplace=True)"
   ]
  },
  {
   "cell_type": "code",
   "execution_count": 26,
   "metadata": {},
   "outputs": [],
   "source": [
    "# Extract sets\n",
    "S = prefs[\"Student\"].tolist() # list of all students (once we get ID make dictionary)\n",
    "\n",
    "Cd = {} # Course dictionary\n",
    "for i in courses.index:\n",
    "    Cd[i] = courses[\"Class\"].iloc[i]\n",
    "C = range(len(Cd))\n",
    "    \n",
    "T = [1,2,3,4,7,8] # Periods\n",
    "\n",
    "## Instructors and corerspondence\n",
    "I = list(set(teacher[0]))\n",
    "DW_courses = list(set(teacher[1]))\n",
    "\n",
    "# Need matrix with instructors as rows, all courses as columns, and 1 if teaching that course\n",
    "I_C_dict = {}\n",
    "for i in I:\n",
    "    I_C_dict[i] = []\n",
    "    for index in range(teacher.shape[0]):\n",
    "        if teacher.iloc[index][0] == i:\n",
    "            l = I_C_dict[i]\n",
    "            l.append(teacher.iloc[index][1])\n",
    "            I_C_dict[i] = l"
   ]
  },
  {
   "cell_type": "code",
   "execution_count": 27,
   "metadata": {},
   "outputs": [],
   "source": [
    "# Teacher_Course_Matrix \n",
    "courses_list = list(Cd.values())\n",
    "Teacher_Course_Matrix = np.zeros(len(courses_list))\n",
    "for i in I:\n",
    "    t = np.zeros(len(courses_list))\n",
    "    for j in Cd:\n",
    "        if Cd[j] in I_C_dict[i]:\n",
    "            # print(i, \"is teaching:\", (40-len(i)-12)*\".\", Cd[j])\n",
    "            t[j] =1\n",
    "    Teacher_Course_Matrix = np.vstack([Teacher_Course_Matrix, np.matrix(t)])\n",
    "\n",
    "Ta = np.array(Teacher_Course_Matrix[1:]) # matrix tying teachers to courses they teach"
   ]
  },
  {
   "cell_type": "code",
   "execution_count": 28,
   "metadata": {
    "collapsed": true
   },
   "outputs": [],
   "source": [
    "# Room Data (we will eventually need to tie this to subject, i.e. for science?)\n",
    "R = [\"U1\", \"Steve\", \"U2\", \"U3\", \"U4/5\", \"U7\", \"U7\", \"L2\", \"L3\", \"Library\", \"Art\", \"L4\", \n",
    "        \"L6\", \"Sci A\", \"Sci B\", \"Sci C\", \"Music Room\", \"Gym\", \"Gym2\", \"OtherRoom\", \"EmptyRoom\"]"
   ]
  },
  {
   "cell_type": "code",
   "execution_count": 29,
   "metadata": {
    "collapsed": true
   },
   "outputs": [],
   "source": [
    "# Extract Preferences\n",
    "P = prefs.drop(\"Student\", axis=1).as_matrix()\n",
    "#P = np.ones([len(S),len(C)]) # all 1's as test (student will take any course)"
   ]
  },
  {
   "cell_type": "code",
   "execution_count": 30,
   "metadata": {},
   "outputs": [],
   "source": [
    "# Double periods\n",
    "Db = courses[\"Double\"].fillna(0).astype(int)"
   ]
  },
  {
   "cell_type": "code",
   "execution_count": 31,
   "metadata": {
    "collapsed": true
   },
   "outputs": [],
   "source": [
    "# Proximity Matrix\n",
    "D = prox.drop(\"0\", axis=1).as_matrix()"
   ]
  },
  {
   "cell_type": "code",
   "execution_count": 32,
   "metadata": {
    "collapsed": true
   },
   "outputs": [],
   "source": [
    "# Create Proximity dictionary {subject:proximity vector}\n",
    "prox_dict = {}\n",
    "Subjects = list(prox.columns)[1:]\n",
    "for subj in list(prox.columns)[1:]:\n",
    "    prox_dict[subj] = prox[subj]"
   ]
  },
  {
   "cell_type": "code",
   "execution_count": 33,
   "metadata": {
    "collapsed": true
   },
   "outputs": [],
   "source": [
    "# Course Sizes (min and max)\n",
    "MIN = courses[\"Min\"]\n",
    "MAX = courses[\"Max\"]\n",
    "\n",
    "# To check feasibility:\n",
    "MIN = [0]*len(C)\n",
    "MAX = [100]*len(C)"
   ]
  },
  {
   "cell_type": "code",
   "execution_count": 34,
   "metadata": {
    "collapsed": true
   },
   "outputs": [],
   "source": [
    "# Setup model\n",
    "m = Model(\"PhaseTwo\")"
   ]
  },
  {
   "cell_type": "code",
   "execution_count": 20,
   "metadata": {
    "scrolled": true
   },
   "outputs": [
    {
     "data": {
      "text/plain": [
       "{0: '6th Grade Art',\n",
       " 1: '7th-8th Grade Art',\n",
       " 2: '8th Grade Science',\n",
       " 3: 'Adaptive PE',\n",
       " 4: 'Advanced Algebra and Trigonometry',\n",
       " 5: 'Advanced Algebra and Trigonometry 2',\n",
       " 6: 'Advanced Spanish',\n",
       " 7: 'Advanced/In-Depth French',\n",
       " 8: 'African Studies',\n",
       " 9: 'African Studies 2',\n",
       " 10: 'Algebra A',\n",
       " 11: 'Algebra A 2',\n",
       " 12: 'Algebra B',\n",
       " 13: 'Algebra B 2',\n",
       " 14: 'American Studies/Global Perspective',\n",
       " 15: 'American Studies/Global Perspective 2',\n",
       " 16: 'Animal Bio',\n",
       " 17: 'Asia Studies',\n",
       " 18: 'Banned Books',\n",
       " 19: 'Beginning Algebra and Geometry',\n",
       " 20: 'Beginning Algebra and Geometry 2',\n",
       " 21: 'Celtic Band',\n",
       " 22: 'Chemistry',\n",
       " 23: 'Childhood in Conflict',\n",
       " 24: 'Childhood in Conflict 2',\n",
       " 25: 'Choir',\n",
       " 26: 'Community Service Class',\n",
       " 27: 'Computer Literacy',\n",
       " 28: 'Constitutional Law/Government',\n",
       " 29: 'Dark Fiction',\n",
       " 30: 'Drawing and Painting',\n",
       " 31: 'Ecology',\n",
       " 32: 'Economics',\n",
       " 33: 'Empty',\n",
       " 34: 'English Seminar',\n",
       " 35: 'Evolutionary Biology',\n",
       " 36: 'Facing History',\n",
       " 37: 'Facing History 2',\n",
       " 38: 'Fiber Tech',\n",
       " 39: 'French A',\n",
       " 40: 'French B',\n",
       " 41: 'Geography and Borders',\n",
       " 42: 'Geology',\n",
       " 43: 'Global History of Commodities',\n",
       " 44: 'HS Health',\n",
       " 45: 'HS PE',\n",
       " 46: 'HS PE 2',\n",
       " 47: 'HS PE 3',\n",
       " 48: 'I Know Some Things',\n",
       " 49: 'Immigration and Migration',\n",
       " 50: 'In-Depth Spanish',\n",
       " 51: 'Inquiry and Tools',\n",
       " 52: 'Inquiry and Tools 2',\n",
       " 53: 'Inquiry and Tools Alternate',\n",
       " 54: 'Inquiry and Tools Alternate 2',\n",
       " 55: 'Intermediate Algebra and Geometry',\n",
       " 56: 'Intermediate Algebra and Geometry 2',\n",
       " 57: 'Intermediate French',\n",
       " 58: 'Intermediate Spanish',\n",
       " 59: 'Intro to Engineering',\n",
       " 60: 'Intro to Physics and Chemistry',\n",
       " 61: 'Latin American Studies',\n",
       " 62: 'Latin American Studies 2',\n",
       " 63: 'Literature of Civil Rights Movement',\n",
       " 64: 'MS Chemistry',\n",
       " 65: 'MS Health',\n",
       " 66: 'MS PE',\n",
       " 67: 'MS/HS PE',\n",
       " 68: 'MS/HS PE 2',\n",
       " 69: 'MS/HS PE 3',\n",
       " 70: 'Music Design',\n",
       " 71: 'Music, Myth, and Ritual',\n",
       " 72: 'Other',\n",
       " 73: 'Other 2',\n",
       " 74: 'Other 3',\n",
       " 75: 'Other 4',\n",
       " 76: 'Other 5',\n",
       " 77: 'Other 6',\n",
       " 78: 'People and Literature',\n",
       " 79: 'People and Literature 2',\n",
       " 80: 'People and Literature Alternate',\n",
       " 81: 'People and Literature Alternate 2',\n",
       " 82: 'Physics',\n",
       " 83: \"Poet's Society\",\n",
       " 84: 'Portfolio Art',\n",
       " 85: 'Portfolio Photo',\n",
       " 86: 'Pre-Calculus',\n",
       " 87: 'Probability and Statistics',\n",
       " 88: 'Researchers',\n",
       " 89: 'Resource Room',\n",
       " 90: 'Spanish A',\n",
       " 91: 'Spanish A 2',\n",
       " 92: 'Spanish B',\n",
       " 93: 'Spanish B 2',\n",
       " 94: 'Story of Life',\n",
       " 95: 'Studio Art',\n",
       " 96: 'US History and Lit: The 20th Century',\n",
       " 97: 'US History and Lit: The 20th Century 2',\n",
       " 98: 'Video Production'}"
      ]
     },
     "execution_count": 20,
     "metadata": {},
     "output_type": "execute_result"
    }
   ],
   "source": [
    "Cd"
   ]
  },
  {
   "cell_type": "code",
   "execution_count": null,
   "metadata": {},
   "outputs": [],
   "source": []
  },
  {
   "cell_type": "code",
   "execution_count": null,
   "metadata": {
    "collapsed": true
   },
   "outputs": [],
   "source": []
  },
  {
   "cell_type": "code",
   "execution_count": null,
   "metadata": {
    "collapsed": true
   },
   "outputs": [],
   "source": []
  },
  {
   "cell_type": "code",
   "execution_count": null,
   "metadata": {
    "collapsed": true
   },
   "outputs": [],
   "source": []
  },
  {
   "cell_type": "code",
   "execution_count": null,
   "metadata": {
    "collapsed": true
   },
   "outputs": [],
   "source": []
  },
  {
   "cell_type": "code",
   "execution_count": null,
   "metadata": {
    "collapsed": true
   },
   "outputs": [],
   "source": []
  },
  {
   "cell_type": "code",
   "execution_count": null,
   "metadata": {
    "collapsed": true
   },
   "outputs": [],
   "source": []
  },
  {
   "cell_type": "code",
   "execution_count": null,
   "metadata": {
    "collapsed": true
   },
   "outputs": [],
   "source": []
  },
  {
   "cell_type": "code",
   "execution_count": 35,
   "metadata": {
    "collapsed": true
   },
   "outputs": [],
   "source": [
    "# Trackers--to verify what SCIP says\n",
    "num_vars = 0\n",
    "num_cons = 0"
   ]
  },
  {
   "cell_type": "code",
   "execution_count": 36,
   "metadata": {},
   "outputs": [],
   "source": [
    "# Add Student Variables (X)\n",
    "X = {}\n",
    "for i in S:\n",
    "    for j in range(len(C)):\n",
    "        name = \"Student \" + str(i) + \" in course \" + str(j)\n",
    "        X[i,j] = m.addVar(name, vtype='B')\n",
    "        num_vars += 1"
   ]
  },
  {
   "cell_type": "code",
   "execution_count": 37,
   "metadata": {},
   "outputs": [],
   "source": [
    "# Add Course Variable\n",
    "Course = {} # Variable dictionary\n",
    "for j in range(len(C)):\n",
    "    for t in T:\n",
    "        name = \"Course \" + str(j) + \" in period \" + str(t)\n",
    "        Course[j,t] = m.addVar(name, vtype='B')\n",
    "        num_vars += 1"
   ]
  },
  {
   "cell_type": "code",
   "execution_count": 38,
   "metadata": {},
   "outputs": [],
   "source": [
    "# Create the u variable\n",
    "U = {}\n",
    "for i in S:\n",
    "    for j in range(len(C)):\n",
    "        for t in T:\n",
    "            name = \"min \" + str(i) + \", \" + str(j) + \", \" + str(t)\n",
    "            U[i,j,t] = m.addVar(name, vtype='B')\n",
    "            num_vars += 1"
   ]
  },
  {
   "cell_type": "markdown",
   "metadata": {},
   "source": [
    "$\\sum_{j \\in C} u_{i,j,t} = 1 \\; \\forall i\\in S, j \\in T$ -- Student is in exactly one course per period."
   ]
  },
  {
   "cell_type": "code",
   "execution_count": 40,
   "metadata": {},
   "outputs": [],
   "source": [
    "# Force student in one course per period\n",
    "for i in S:\n",
    "    for t in T:\n",
    "        m.addCons(quicksum(U[i,j,t] for j in C) == 1) # one course per period\n",
    "        num_cons += 1"
   ]
  },
  {
   "cell_type": "markdown",
   "metadata": {},
   "source": [
    "It should be either the constraint above, or the one below, but we shouldn't need both. That being said, neither work. *Hopefully now they do*"
   ]
  },
  {
   "cell_type": "code",
   "execution_count": 41,
   "metadata": {
    "collapsed": true
   },
   "outputs": [],
   "source": [
    "# Add Student assignment constraint (must have two classes)\n",
    "## WE CAN ELIMINATE THIS, IF WE FORCE A STUDENT IN ONE COURSE PER PERIOD\n",
    "# for i in S:\n",
    "#         m.addCons(quicksum(X[i,j] for j in C) == 6) # one per period\n",
    "#         num_cons += 1"
   ]
  },
  {
   "cell_type": "markdown",
   "metadata": {},
   "source": [
    "$x_{i,j} \\leq P{i,j} \\; \\forall i \\in S, j \\in C$ -- Students only given courses they have put a preference over."
   ]
  },
  {
   "cell_type": "code",
   "execution_count": 42,
   "metadata": {
    "collapsed": true
   },
   "outputs": [],
   "source": [
    "# Students only given courses they preferenced\n",
    "for i in S:\n",
    "    for j in C:\n",
    "        #m.addCons((1 - X[i,j]) + P[i][j] >= 1)\n",
    "        m.addCons(X[i,j] <= P[i][j])\n",
    "        num_cons += 1"
   ]
  },
  {
   "cell_type": "markdown",
   "metadata": {},
   "source": [
    "$\\sum_{t \\in T} u_{i,j,t} = x_{i,j} \\; \\forall i \\in S, j \\in C$ -- Ties the $u$ varible to the $x$ variable for course and student. \n",
    "\n",
    "$u_{i,j,t} \\leq c_{j,t} \\; \\forall i \\in S, j \\in C, t \\in T$ -- Ties $u$ to $c$ ensuring a student is not signed up for a course in a period in which the course will not be offered."
   ]
  },
  {
   "cell_type": "code",
   "execution_count": 43,
   "metadata": {
    "collapsed": true
   },
   "outputs": [],
   "source": [
    "# \"AND\" Constraint--no more than one course per period for a student\n",
    "for i in S:\n",
    "    for j in C:\n",
    "        m.addCons(X[i,j] == quicksum(U[i,j,t] for t in T))\n",
    "        num_cons += 1\n",
    "        for t in T:\n",
    "            m.addCons(Course[j,t] >= U[i,j,t])\n",
    "            num_cons += 1"
   ]
  },
  {
   "cell_type": "code",
   "execution_count": 44,
   "metadata": {
    "collapsed": true
   },
   "outputs": [],
   "source": [
    "## This is the old way pre-frans, just left so we can keep track if we want to go back\n",
    "# for i in S:\n",
    "#     for j in C:\n",
    "#         for t in T:\n",
    "#             m.addCons(U[i,j,t] >= X[i,j] + Course[j,t] - 1)\n",
    "#             m.addCons(U[i,j,t] <= X[i,j])\n",
    "#             m.addCons(U[i,j,t] <= Course[j,t])\n",
    "#             num_cons += 3"
   ]
  },
  {
   "cell_type": "markdown",
   "metadata": {},
   "source": [
    "$\\text{min} \\geq \\sum_{i \\in S} x_{i,j} \\leq \\text{max} \\; \\forall j \\in C$ -- course size constraints."
   ]
  },
  {
   "cell_type": "code",
   "execution_count": 45,
   "metadata": {
    "collapsed": true
   },
   "outputs": [],
   "source": [
    "# Add capacity and minimum constraint\n",
    "for j in range(len(C)):\n",
    "    #m.addCons(quicksum(X[i,j] for i in S) <= MAX[j])\n",
    "    m.addCons(quicksum(X[i,j] for i in S) <= 100)\n",
    "    #m.addCons(quicksum(X[i,j] for i in S) >= 0)\n",
    "    num_cons += 2"
   ]
  },
  {
   "cell_type": "markdown",
   "metadata": {},
   "source": [
    "## Possible Proximity Fix"
   ]
  },
  {
   "cell_type": "markdown",
   "metadata": {},
   "source": [
    "The following outlines a possible fix for the proximity constraints:\n",
    "\n",
    "Firstly, we need to define proximity matricies **for each subject**. These will be a list of *every* course, and the entry for that course will have a 1 if it is in that subject/counts for the requirement. \n",
    "\n",
    "Next, we need minimum and maximums for eachs student, by subject. So we want a minimum list for each subject, with an entry for each student corresponding to either the minimum of maximum number of courses in that subject for the student. \n",
    "\n",
    "As far as the encoding. We only want to include the constraint for minimum if it is $>0$ for that student. Is there any similar shortcut for maximums?"
   ]
  },
  {
   "cell_type": "code",
   "execution_count": 46,
   "metadata": {},
   "outputs": [],
   "source": [
    "# Setup proximity min and max dicts (temp untill we generate more granular data)\n",
    "min_sub_dict = {}\n",
    "max_sub_dict = {}\n",
    "for subj in Subjects:\n",
    "    min_sub_dict[subj] = np.ones(len(S))*0\n",
    "    max_sub_dict[subj] = np.ones(len(S))*8"
   ]
  },
  {
   "cell_type": "markdown",
   "metadata": {},
   "source": [
    "$\\text{min}_{\\text{$i$, subject}}\\leq \\sum_{j \\in C} D_{\\text{subject}} x_{i,j} \\leq \\text{max}_{\\text{$i$, subject}} \\; \\forall i \\in S, \\text{subjects}$ -- Says student within max and min of number of courses they should be taking in a given subject."
   ]
  },
  {
   "cell_type": "code",
   "execution_count": 47,
   "metadata": {},
   "outputs": [],
   "source": [
    "# proximity by subject\n",
    "for subject in Subjects:\n",
    "    for i in S:\n",
    "        if min_sub_dict[subject][i] > 0:\n",
    "            m.addCons(quicksum(prox_dict[subject][j]*X[i,j] for j in range(len(C))) >= min_sub_dict[subject][i])\n",
    "        # do we always need a max?\n",
    "        m.addCons(quicksum(prox_dict[subject][j]*X[i,j] for j in range(len(C))) <= max_sub_dict[subject][i])"
   ]
  },
  {
   "cell_type": "markdown",
   "metadata": {},
   "source": [
    "$\\sum_{j \\in C} c_{j,t} Ta_{k,j} <= 1 \\; \\forall j \\in C, t \\in T, k \\in I$ -- Each teacher is teaching at most one course per period. "
   ]
  },
  {
   "cell_type": "code",
   "execution_count": 48,
   "metadata": {},
   "outputs": [],
   "source": [
    "# Teacher teaching at most one course per period\n",
    "for k in range(len(I)):\n",
    "    for t in T:\n",
    "        m.addCons(quicksum(Course[j,t]*Ta[k][j] for j in C) <= 1)\n",
    "        num_cons += 1"
   ]
  },
  {
   "cell_type": "markdown",
   "metadata": {},
   "source": [
    "$\\sum_{t \\in T} c_{j,t} = 1 \\; \\forall j \\in C$ -- Each course taugh only once"
   ]
  },
  {
   "cell_type": "code",
   "execution_count": 50,
   "metadata": {
    "collapsed": true
   },
   "outputs": [],
   "source": [
    "# Course Taught only once Constraint\n",
    "for j in range(len(C)):\n",
    "    m.addCons(quicksum(Course[j,t] for t in T) == 1)\n",
    "    num_cons += 1"
   ]
  },
  {
   "cell_type": "code",
   "execution_count": 51,
   "metadata": {
    "collapsed": true
   },
   "outputs": [],
   "source": [
    "# # THIS WAS THE OLD, PRE-FRANS WAY\n",
    "# # Double Period--Consecutive Constraint\n",
    "# for j in range(len(C))[:-1]:\n",
    "#     for t in T[:-1]: # need the :-1 to ensure don't go over bounds below\n",
    "#         if t != 4 and t != 8:\n",
    "#             m.addCons(2 - Db[j] - Course[j,t] + Course[j+1, t+1] >= 1)\n",
    "#             num_cons += 1"
   ]
  },
  {
   "cell_type": "markdown",
   "metadata": {},
   "source": [
    "$c_{j,t} = c_{j+1, t+1} \\; \\forall j \\in C : Db_j = 1$ -- if the first half of the double is taugh in period $t$ then the second half must be taugh in period $t + 1$."
   ]
  },
  {
   "cell_type": "code",
   "execution_count": 52,
   "metadata": {
    "collapsed": true
   },
   "outputs": [],
   "source": [
    "# Double period--consecutive constraints\n",
    "for j in range(len(C)):\n",
    "    if Db[j] == 1: # if double period\n",
    "        for t in T:\n",
    "            if t != 4 and t != 8:\n",
    "                m.addCons(Course[j,t] == Course[j+1, t+1]) # change to == from >= \n",
    "                num_cons += 1"
   ]
  },
  {
   "cell_type": "markdown",
   "metadata": {},
   "source": [
    "$c_{j,4} = 0, c_{j,8} = 0 \\; \\forall j \\in C : Db_j = 1$ -- If a course is a double, then the first half cannot be taught in period 4 or 8. "
   ]
  },
  {
   "cell_type": "code",
   "execution_count": 53,
   "metadata": {
    "collapsed": true
   },
   "outputs": [],
   "source": [
    "# Double Period--not 4th or 8th\n",
    "for j in range(len(C)):\n",
    "    if Db[j] == 1:\n",
    "        m.addCons(Course[j,4] == 0)\n",
    "        m.addCons(Course[j,8] == 0)\n",
    "        num_cons += 2"
   ]
  },
  {
   "cell_type": "markdown",
   "metadata": {},
   "source": [
    "$x_{i, j} = x_{i, j+1} \\; \\forall i \\in S, j \\in C:Db_{j} = 1$ -- If $j$ is a double, then student $i$ must either be in both $j$ and $j+1$ or in neither. "
   ]
  },
  {
   "cell_type": "code",
   "execution_count": 54,
   "metadata": {
    "collapsed": true
   },
   "outputs": [],
   "source": [
    "# Double Period--Student in both\n",
    "for i in S:\n",
    "    for j in range(len(C)):\n",
    "        if Db[j] == 1:\n",
    "            m.addCons(X[i,j+1] == X[i,j]) # this was >= but == is better?\n",
    "            num_cons += 1"
   ]
  },
  {
   "cell_type": "code",
   "execution_count": 34,
   "metadata": {
    "collapsed": true
   },
   "outputs": [],
   "source": [
    "# Define r  room variable (over course j in room r durring period t)\n",
    "R = {}\n",
    "for j in range(len(C)):\n",
    "    for s in R:\n",
    "        for t in T:\n",
    "            name = \"Course \" + str(j) + \" in room \" + str(r) + \" durring period \" + str(t)\n",
    "            R[j,s,t] = m.addVar(name, vtype='B')\n",
    "            num_vars += 1"
   ]
  },
  {
   "cell_type": "markdown",
   "metadata": {},
   "source": [
    "$\\sum_{s \\in R} r_{j,s,t} = c_{j,t} \\; \\forall j \\in C, t \\in T$ -- If a course is taught, i.e., $c_{j,t} = 1$, then it must get exactly one room."
   ]
  },
  {
   "cell_type": "code",
   "execution_count": 35,
   "metadata": {},
   "outputs": [],
   "source": [
    "# If course taught, gets one room\n",
    "for j in range(len(C)):\n",
    "    for t in T:\n",
    "        m.addCons(quicksum(R[j,s,t] for s in R) == Course[j,t])"
   ]
  },
  {
   "cell_type": "markdown",
   "metadata": {},
   "source": [
    "### Possible way of dealing with \"Other\" Room issue."
   ]
  },
  {
   "cell_type": "code",
   "execution_count": null,
   "metadata": {
    "collapsed": true
   },
   "outputs": [],
   "source": [
    "# find j's corresponding to \"Other\" and \"Empty\"\n",
    "other_indicies = [] # dictinoary with index for the \"other\" mapping to the number next to it\n",
    "empty_index = 0\n",
    "for j in Cb:\n",
    "    if \"Other\" in Cb[j]:\n",
    "        #period = Cb[j][-1]\n",
    "        #other_indicies{j} = period\n",
    "        other_indicies.append(j)\n",
    "    if \"Empty\" in Cb[j]:\n",
    "        empty_index = 0\n",
    " \n",
    "t = 1\n",
    "for j in other_indicies:\n",
    "    m.addCons(Course[j,t] == t) # other t taugh in period t\n",
    "    m.addCons(R[j, \"Other Room\", t] == 1) # in \"Other Room\" durring this period\n",
    "    if t == 4:\n",
    "        t += 2\n",
    "    else:\n",
    "        t += 1   \n",
    "        "
   ]
  },
  {
   "cell_type": "code",
   "execution_count": 36,
   "metadata": {
    "collapsed": true
   },
   "outputs": [],
   "source": [
    "### SHOULDN\"T NEED THIS IN LIGHT OF THE ABOVE\n",
    "## NEED ROOM DATA\n",
    "# Room Constraint--Each room gets at most one course\n",
    "# for s in R:\n",
    "#     for t in T:\n",
    "#         m.addCons(quicksum(r[j,s,t] for j in C) <= 1)"
   ]
  },
  {
   "cell_type": "code",
   "execution_count": 37,
   "metadata": {
    "collapsed": true
   },
   "outputs": [],
   "source": [
    "## TEMPORARY CONSTAINT\n",
    "## NO MORE THAN 8 CLASSES PER PERIOD\n",
    "# for t in T:\n",
    "#     m.addCons(quicksum(Course[j,t] for j in C) <= 20)"
   ]
  },
  {
   "cell_type": "code",
   "execution_count": 55,
   "metadata": {
    "collapsed": true
   },
   "outputs": [],
   "source": [
    "# Set objective\n",
    "#m.setObjective(quicksum(X[i,j]*P[i][j] for i in S for j in C), \"maximize\")\n",
    "m.setObjective(X[1,1]*0, \"maximize\") # just find a feasible solution"
   ]
  },
  {
   "cell_type": "code",
   "execution_count": 56,
   "metadata": {},
   "outputs": [
    {
     "name": "stdout",
     "output_type": "stream",
     "text": [
      "196713 Variables\n",
      "228003 Constraints\n"
     ]
    }
   ],
   "source": [
    "print(str(num_vars), \"Variables\")\n",
    "print(str(num_cons), \"Constraints\")"
   ]
  },
  {
   "cell_type": "code",
   "execution_count": null,
   "metadata": {
    "collapsed": true
   },
   "outputs": [],
   "source": [
    "# Solve model\n",
    "m.optimize() # NOTE: solver info printed to terminal"
   ]
  },
  {
   "cell_type": "code",
   "execution_count": null,
   "metadata": {
    "collapsed": true
   },
   "outputs": [],
   "source": [
    "# Print Information on Solve\n",
    "m.printStatistics() # NOTE: this will only print to terminal (note notebook)"
   ]
  },
  {
   "cell_type": "code",
   "execution_count": null,
   "metadata": {
    "collapsed": true
   },
   "outputs": [],
   "source": [
    "m.printBestSol() # prints the soltuion to terminal"
   ]
  },
  {
   "cell_type": "code",
   "execution_count": null,
   "metadata": {
    "collapsed": true
   },
   "outputs": [],
   "source": [
    "if m.getStatus() == \"optimal\":\n",
    "    print(\"We found an optimal solution!\")\n",
    "else:\n",
    "    print(\"The problem is\", m.getStatus())\n",
    "\n",
    "# determine which courses are offered in which period\n",
    "offered = {}\n",
    "for t in T:\n",
    "    class_list = []\n",
    "    for j in range(len(C)):\n",
    "        if m.getVal(Course[j,t]) == 1:\n",
    "            class_list.append(Cd[j])\n",
    "    offered[t] = class_list\n",
    "\n",
    "# How many courses per period is each student assigned\n",
    "for t in T:\n",
    "    max_courses = 0\n",
    "    min_courses = 1\n",
    "    for i in S:\n",
    "        num_courses = 0\n",
    "        for j in C:\n",
    "            if m.getVal(X[i,j]) == 1 and m.getVal(Course[j,t]) ==1:\n",
    "                num_courses += 1\n",
    "        if num_courses > max_courses:\n",
    "            max_courses = num_courses\n",
    "        elif num_courses < min_courses:\n",
    "            min_courses = num_courses\n",
    "    print(\"In period\", t, \"max courses for any student is\", max_courses, \"and min courses is\", min_courses)"
   ]
  },
  {
   "cell_type": "code",
   "execution_count": null,
   "metadata": {
    "collapsed": true
   },
   "outputs": [],
   "source": [
    "offered # lists periods, and the courses offered in each"
   ]
  },
  {
   "cell_type": "markdown",
   "metadata": {},
   "source": [
    "## Current issues:\n",
    "- I think it is the rooms that are creating feasbility issues\n",
    "    - Specifically, I think the fact that we have all these \"other\" courses that we are not deal with\n",
    "- How do we deal with empty? Ask justina how that works"
   ]
  },
  {
   "cell_type": "markdown",
   "metadata": {
    "collapsed": true
   },
   "source": [
    "# TODO\n",
    "- Make a new \"Other\" room \n",
    "- Force all the \"Other#\" courses to be in the \"Other\" Room, and to take place durring their numbered period\n",
    "- Fine out how to deal with subject course matchings"
   ]
  },
  {
   "cell_type": "markdown",
   "metadata": {},
   "source": [
    "The following block of code is meant to help better understand SCIP. It instantiates a Model instance, then parses through each of its public methods and fields, looking for, and printing, their docstrings."
   ]
  },
  {
   "cell_type": "code",
   "execution_count": null,
   "metadata": {
    "collapsed": true,
    "scrolled": false
   },
   "outputs": [],
   "source": [
    "# Figure out wtf SCIP is doing\n",
    "\n",
    "# initialize a Model instance\n",
    "mod = Model(\"what?\")\n",
    "\n",
    "# get methods for the model\n",
    "methods = dir(mod)\n",
    "i = 0\n",
    "for x in methods:\n",
    "    if x[0]==\"_\":\n",
    "        i = methods.index(x)\n",
    "methods = methods[i+1:] # only want the public methods\n",
    "\n",
    "# print out each method and its info\n",
    "for m in methods:\n",
    "    print(m + \":\")\n",
    "    print(getattr(mod, m).__doc__)\n",
    "    print(\"\\n\")"
   ]
  },
  {
   "cell_type": "code",
   "execution_count": null,
   "metadata": {
    "collapsed": true
   },
   "outputs": [],
   "source": [
    "import pyscipopt as scip"
   ]
  },
  {
   "cell_type": "code",
   "execution_count": null,
   "metadata": {
    "collapsed": true
   },
   "outputs": [],
   "source": [
    "dir(scip)"
   ]
  },
  {
   "cell_type": "code",
   "execution_count": null,
   "metadata": {
    "collapsed": true
   },
   "outputs": [],
   "source": []
  }
 ],
 "metadata": {
  "kernelspec": {
   "display_name": "Python 3",
   "language": "python",
   "name": "python3"
  },
  "language_info": {
   "codemirror_mode": {
    "name": "ipython",
    "version": 3
   },
   "file_extension": ".py",
   "mimetype": "text/x-python",
   "name": "python",
   "nbconvert_exporter": "python",
   "pygments_lexer": "ipython3",
   "version": "3.6.3"
  }
 },
 "nbformat": 4,
 "nbformat_minor": 2
}
