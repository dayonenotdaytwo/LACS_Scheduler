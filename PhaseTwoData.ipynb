{
 "cells": [
  {
   "cell_type": "markdown",
   "metadata": {},
   "source": [
    "# Phase II Model With Real Data\n",
    "First attempt at a Phase II model, one which creases the master schedule and assigns students to courses simultaneously."
   ]
  },
  {
   "cell_type": "markdown",
   "metadata": {},
   "source": [
    "$S$ -- Set of all students\n",
    "\n",
    "$C$ -- Set of all courses\n",
    "\n",
    "$T$ -- Set of all periods {1,2,3,4,7,8} \n",
    "\n",
    "$I$ -- Set of all instructors\n",
    "\n",
    "$R$ -- set of all rooms \n",
    "\n",
    "**Variables:**\n",
    "\n",
    "$x_{i,j}$ for  $i \\in S, j \\in C$ -- Binary, 1 if student $i$ assigned to course $j$ \n",
    "\n",
    "$c_{j,t}$ for $j \\in C, t \\in T$ -- Binary, 1 if course $j$ to be offered in period $t$\n",
    "\n",
    "$r_{j,s,t}$ for $j \\in C$, $s \\in R$ and $t \\in T$ -- binary, describes if course $j$ to be held in room $s$ durring period $t$.\n",
    "\n",
    "$u_{i,j,t}$ for $i \\in S$, $j \\in C$, $t \\in T$ -- binary, used for constraint, no practical meaning.\n",
    "\n",
    "** Parameters:**\n",
    "\n",
    "$P_{i,j}$ -- Preference for student $i$ on course $j$\n",
    "\n",
    "$S_i$ -- Seniority constant, e.g., higher for seniors\n",
    "\n",
    "$D_{i,j}$ -- Binary, 1 if course $i$ and $j$ are in the same department, i.e., if they meet the same requirement, e.g., highschool math\n",
    "\n",
    "$Ta_{i,j}$ -- Binary, 1 if teacher $i$ is teaching course $j$\n",
    "\n",
    "$Cap_j$ -- Capacity of course $j$\n",
    "\n",
    "$Min_j$ -- Minimum number of students needed for course $j$\n",
    "\n",
    "$Db_j$ -- Indicates if course $j$ is a double period (1 or 0)\n",
    "\n",
    "\n",
    "** Constraints: **\n",
    "\n",
    "$\\sum_{j} x_{i,j} =6 \\quad \\forall i \\in S$ -- Says students can be assigned to six courses (full course load).\n",
    "\n",
    "$ x_{i,j} \\leq P_{i,j} \\; \\forall i \\in S, j \\in C$ -- Says students not assigned to courses they didn't preference. \n",
    "\n",
    "\n",
    "$x_{i,j} =\\sum_{t} u_{i,j,t} \\; \\forall i \\in S, j \\in C$ -- Used to ensure $u$ takes correct value of $x$ and $c$\n",
    "\n",
    "$c_{j,t} \\geq u_{i,j,t} \\; \\forall i \\in S, j \\in C, t \\in T$ -- This, in conjunction with the above are sufficient to say that no student is enrolled in more than one course per period. \n",
    "\n",
    "$ \\text{lower bound}_{i,j} \\leq \\sum_{i \\in C} D_{i,j}x_{k,i} \\leq \\text{upper bound}_{i,j} \\; \\forall k \\in S, j \\in C$ -- Says tha students take within a certain number of courses in the department, where the department is defined by the course $j$. ** new, but still likely unworkable department constraint--not in code **\n",
    "\n",
    "$\\sum_{t \\in T} c_{j,t} = 1 \\quad \\forall j \\in C$ -- Says that each course taught only once\n",
    "\n",
    "$\\sum_{i \\in S} x_{i,j} \\leq Cap_j \\quad \\forall j \\in C$ -- Course capacity constraint\n",
    "\n",
    "$\\sum_{j \\in C} c_{j,t} Ta_{k,j} \\leq 1  \\quad \\forall k \\in I, \\forall t \\in T$ -- Teacher constraint (a teacher can teach at most one course per period), where $Ta_{k,j}$ is a parameter, not a variable\n",
    "\n",
    "*Double Period Constraints*---In terms of courses, we only add constraints if the parameter value $Db_j=1$, note, this *is* linear, as the parameter is not a variable: \n",
    "$c_{j,t} \\leq c_{j+1, t+1} \\; \\forall j:Db_j =1$ -- cannot schedule the first half without also doing the second  \n",
    "$c_{j,8} = 0, c_{j,4} = 0 \\; \\forall j:Db_j = 1$ -- cannot schedule the first half in the pre-lunch of last periods.  \n",
    "$x_{i,j+1} \\geq x_{i,j} \\; \\forall i \\in S, j:Db_j = 1$ -- students must be enrolled in both parts of double. \n",
    "\n",
    "\n",
    "$ \\sum_{s \\in R} r_{j,s,t} = c_{j,t} $ -- if a course is offered, it is given exactly one room\n",
    "    \n",
    "$\\sum_{j \\in C} r_{j,s,t} \\leq 1 $ for $s \\in R$ and $t \\in T$ -- Each room can have at most one class in it at a time (we should make the gym two different rooms).\n",
    "\n",
    "TODO: Formulate room constraint for departnemnts, i.e., at most 3 science courses per period.\n",
    "\n",
    "** Objective: **\n",
    "\n",
    "$ \\text{max }\\sum_{i \\in S} \\sum_{j \\in C} x_{i,j} P_{i,j} $ -- Assuming preferences take a higher value if they are a student's preferred choice, this will give a higher weight to higher assignments (at this point, I am leaving out the seniority multiplier)."
   ]
  },
  {
   "cell_type": "code",
   "execution_count": null,
   "metadata": {
    "collapsed": true
   },
   "outputs": [],
   "source": [
    "from pyscipopt import Model, quicksum\n",
    "import numpy as np\n",
    "import pandas as pd\n",
    "from os import system"
   ]
  },
  {
   "cell_type": "code",
   "execution_count": null,
   "metadata": {
    "collapsed": true
   },
   "outputs": [],
   "source": [
    "# read in data\n",
    "prefs = pd.read_csv(\"Resources/FlatChoicesBinary.csv\")\n",
    "courses = pd.read_csv(\"Resources/FlatCourseSize.csv\")\n",
    "#prox = pd.read_csv(\"Resources/Proximity.csv\")\n",
    "prox = pd.read_csv(\"Resources/Proximity_1_Diag.csv\")\n",
    "\n",
    "# clean it up\n",
    "prefs.rename(columns={\"Unnamed: 0\": \"Student\"}, inplace=True)\n",
    "courses.rename(columns={\"0\":\"Class\"}, inplace=True)\n",
    "courses.drop(\"Unnamed: 0\", axis=1, inplace=True)"
   ]
  },
  {
   "cell_type": "code",
   "execution_count": null,
   "metadata": {
    "collapsed": true
   },
   "outputs": [],
   "source": [
    "# Extract sets\n",
    "S = prefs[\"Student\"].tolist() # list of all students (once we get ID make dictionary)\n",
    "\n",
    "Cd = {} # Course dictionary\n",
    "for i in courses.index:\n",
    "    Cd[i] = courses[\"Class\"].iloc[i]\n",
    "C = range(len(Cd))\n",
    "    \n",
    "T = [1,2,3,4,7,8] # Periods\n",
    "\n",
    "## STILL NEED INSTRUCTORS"
   ]
  },
  {
   "cell_type": "code",
   "execution_count": null,
   "metadata": {
    "collapsed": true
   },
   "outputs": [],
   "source": [
    "# Extract Preferences\n",
    "P = prefs.drop(\"Student\", axis=1).as_matrix()\n",
    "P = np.ones([len(S),len(C)]) # all 1's as test (student will take any course)"
   ]
  },
  {
   "cell_type": "code",
   "execution_count": null,
   "metadata": {
    "collapsed": true
   },
   "outputs": [],
   "source": [
    "# Double periods\n",
    "Db = courses[\"Double\"].fillna(0).astype(int)"
   ]
  },
  {
   "cell_type": "markdown",
   "metadata": {},
   "source": [
    "# We need to add a constraint:\n",
    "Student cannot enroll in the second half of the double period if they are not in the first. I think we currently just have it the other way, i.e. I see some students int eh second half but not the first (while we just prevented them from only having the first). "
   ]
  },
  {
   "cell_type": "code",
   "execution_count": null,
   "metadata": {
    "collapsed": true
   },
   "outputs": [],
   "source": [
    "# Proximity Matrix\n",
    "D = prox.drop(\"0\", axis=1).as_matrix()"
   ]
  },
  {
   "cell_type": "code",
   "execution_count": null,
   "metadata": {
    "collapsed": true
   },
   "outputs": [],
   "source": [
    "# Course Sizes (min and max)\n",
    "MIN = courses[\"Min\"]\n",
    "MAX = courses[\"Max\"]\n",
    "\n",
    "# To check feasibility:\n",
    "MIN = [0]*len(C)\n",
    "MAX = [100]*len(C)"
   ]
  },
  {
   "cell_type": "code",
   "execution_count": null,
   "metadata": {
    "collapsed": true
   },
   "outputs": [],
   "source": [
    "# Need instructor data"
   ]
  },
  {
   "cell_type": "code",
   "execution_count": null,
   "metadata": {
    "collapsed": true
   },
   "outputs": [],
   "source": [
    "# Setup model\n",
    "m = Model(\"PhaseTwo\")"
   ]
  },
  {
   "cell_type": "code",
   "execution_count": null,
   "metadata": {
    "collapsed": true
   },
   "outputs": [],
   "source": [
    "# Trackers--to verify what SCIP says\n",
    "num_vars = 0\n",
    "num_cons = 0"
   ]
  },
  {
   "cell_type": "code",
   "execution_count": null,
   "metadata": {
    "collapsed": true
   },
   "outputs": [],
   "source": [
    "# Add Student Variables (X)\n",
    "X = {}\n",
    "for i in S:\n",
    "    for j in range(len(C)):\n",
    "        name = \"Student \" + str(i) + \" in course \" + str(j)\n",
    "        X[i,j] = m.addVar(name, vtype='B')\n",
    "        num_vars += 1"
   ]
  },
  {
   "cell_type": "code",
   "execution_count": null,
   "metadata": {
    "collapsed": true
   },
   "outputs": [],
   "source": [
    "# Add Course Variable\n",
    "Course = {} # Variable dictionary\n",
    "for j in range(len(C)):\n",
    "    for t in T:\n",
    "        name = \"Course \" + str(j) + \" in period \" + str(t)\n",
    "        Course[j,t] = m.addVar(name, vtype='B')\n",
    "        num_vars += 1"
   ]
  },
  {
   "cell_type": "code",
   "execution_count": null,
   "metadata": {
    "collapsed": true
   },
   "outputs": [],
   "source": [
    "# Create the u variable\n",
    "U = {}\n",
    "for i in S:\n",
    "    for j in range(len(C)):\n",
    "        for t in T:\n",
    "            name = \"min \" + str(i) + \", \" + str(j) + \", \" + str(t)\n",
    "            U[i,j,t] = m.addVar(name, vtype='B')\n",
    "            num_vars += 1"
   ]
  },
  {
   "cell_type": "code",
   "execution_count": null,
   "metadata": {
    "collapsed": true
   },
   "outputs": [],
   "source": [
    "# Force student in one course per period\n",
    "for i in S:\n",
    "    for t in T:\n",
    "        m.addCons(quicksum(U[i,j,t] for j in C) == 1) # one course per period\n",
    "        num_cons += 1"
   ]
  },
  {
   "cell_type": "markdown",
   "metadata": {},
   "source": [
    "It should be either the constraint above, or the one below, but we shouldn't need both. That being said, neither work. "
   ]
  },
  {
   "cell_type": "code",
   "execution_count": null,
   "metadata": {
    "collapsed": true
   },
   "outputs": [],
   "source": [
    "# Add Student assignment constraint (must have two classes)\n",
    "## WE CAN ELIMINATE THIS, IF WE FORCE A STUDENT IN ONE COURSE PER PERIOD\n",
    "# for i in S:\n",
    "#         m.addCons(quicksum(X[i,j] for j in C) == 6) # one per period\n",
    "#         num_cons += 1"
   ]
  },
  {
   "cell_type": "code",
   "execution_count": null,
   "metadata": {
    "collapsed": true
   },
   "outputs": [],
   "source": [
    "# Students only given courses they preferenced\n",
    "for i in S:\n",
    "    for j in C:\n",
    "        #m.addCons((1 - X[i,j]) + P[i][j] >= 1)\n",
    "        m.addCons(X[i,j] <= P[i][j])\n",
    "        num_cons += 1"
   ]
  },
  {
   "cell_type": "code",
   "execution_count": null,
   "metadata": {
    "collapsed": true
   },
   "outputs": [],
   "source": [
    "# \"AND\" Constraint--no more than one course per period for a student\n",
    "for i in S:\n",
    "    for j in C:\n",
    "        m.addCons(X[i,j] == quicksum(U[i,j,t] for t in T))\n",
    "        num_cons += 1\n",
    "        for t in T:\n",
    "            m.addCons(Course[j,t] >= U[i,j,t])\n",
    "            num_cons += 1"
   ]
  },
  {
   "cell_type": "code",
   "execution_count": null,
   "metadata": {
    "collapsed": true
   },
   "outputs": [],
   "source": [
    "# for i in S:\n",
    "#     for j in C:\n",
    "#         for t in T:\n",
    "#             m.addCons(U[i,j,t] >= X[i,j] + Course[j,t] - 1)\n",
    "#             m.addCons(U[i,j,t] <= X[i,j])\n",
    "#             m.addCons(U[i,j,t] <= Course[j,t])\n",
    "#             num_cons += 3"
   ]
  },
  {
   "cell_type": "code",
   "execution_count": null,
   "metadata": {
    "collapsed": true
   },
   "outputs": [],
   "source": [
    "# Add capacity and minimum constraint\n",
    "for j in range(len(C)):\n",
    "    #m.addCons(quicksum(X[i,j] for i in S) <= MAX[j])\n",
    "    m.addCons(quicksum(X[i,j] for i in S) <= 100)\n",
    "    #m.addCons(quicksum(X[i,j] for i in S) >= 0)\n",
    "    num_cons += 2"
   ]
  },
  {
   "cell_type": "markdown",
   "metadata": {},
   "source": [
    "## Possible Proximity Fix"
   ]
  },
  {
   "cell_type": "markdown",
   "metadata": {},
   "source": [
    "The following outlines a possible fix for the proximity constraints:\n",
    "\n",
    "Firstly, we need to define proximity matricies **for each subject**. These will be a list of *every* course, and the entry for that course will have a 1 if it is in that subject/counts for the requirement. \n",
    "\n",
    "Next, we need minimum and maximums for eachs student, by subject. So we want a minimum list for each subject, with an entry for each student corresponding to either the minimum of maximum number of courses in that subject for the student. \n",
    "\n",
    "As far as the encoding. We only want to include the constraint for minimum if it is $>0$ for that student. Is there any similar shortcut for maximums?"
   ]
  },
  {
   "cell_type": "code",
   "execution_count": null,
   "metadata": {
    "collapsed": true
   },
   "outputs": [],
   "source": [
    "## These are place holders to demonstrate\n",
    "\n",
    "Subjects = [\"english\", \"math\", \"history\"] # and whatever else we have\n",
    "\n",
    "# place holders\n",
    "D_english = []\n",
    "D_math = []\n",
    "D_history = []\n",
    "\n",
    "# proximity dictionary\n",
    "prox_dict = {\"english\":D_english, \"math\":D_math, \"history\":D_history}\n",
    "\n",
    "# min and max by subject\n",
    "min_sub_dict = {\"english\":min_english, \"math\":min_math, \"history\":min_history} \n",
    "max_sub_dict = {\"english\":max_english, \"math\":max_math, \"history\":max_history} \n",
    "# in the above, the min_subject arrays are indexed by stduents"
   ]
  },
  {
   "cell_type": "code",
   "execution_count": null,
   "metadata": {
    "collapsed": true
   },
   "outputs": [],
   "source": [
    "# proximity by subject\n",
    "for subject in Subjects\n",
    "    for i in S:\n",
    "        if min_sub_dict[subject][i] > 0:\n",
    "            m.addCons(quicksum(prox_dict[subject][j]*X[i,j] for j in range(len(C))) >= min_sub_dict[subject][i])\n",
    "        # do we always need a max?\n",
    "        m.addCons(quicksum(prox_dict[subject][j]*X[i,j] for j in range(len(C))) <= max_sub_dict[subject][i])"
   ]
  },
  {
   "cell_type": "code",
   "execution_count": null,
   "metadata": {
    "collapsed": true
   },
   "outputs": [],
   "source": [
    "## REQUIRES TEACHER DATA\n",
    "# Teacher Constraint\n",
    "# for k in I:\n",
    "#     for t in T:\n",
    "#         m.addCons(quicksum(Course[j,t]*Ta[k][j] for j in C) <= 1)\n",
    "#         num_cons += 1"
   ]
  },
  {
   "cell_type": "code",
   "execution_count": null,
   "metadata": {
    "collapsed": true
   },
   "outputs": [],
   "source": [
    "# Course Taught only once Constraint\n",
    "for j in range(len(C)):\n",
    "    m.addCons(quicksum(Course[j,t] for t in T) == 1)\n",
    "    num_cons += 1"
   ]
  },
  {
   "cell_type": "code",
   "execution_count": null,
   "metadata": {
    "collapsed": true
   },
   "outputs": [],
   "source": [
    "# # THIS WAS THE OLD, PRE-FRANS WAY\n",
    "# # Double Period--Consecutive Constraint\n",
    "# for j in range(len(C))[:-1]:\n",
    "#     for t in T[:-1]: # need the :-1 to ensure don't go over bounds below\n",
    "#         if t != 4 and t != 8:\n",
    "#             m.addCons(2 - Db[j] - Course[j,t] + Course[j+1, t+1] >= 1)\n",
    "#             num_cons += 1"
   ]
  },
  {
   "cell_type": "code",
   "execution_count": null,
   "metadata": {
    "collapsed": true
   },
   "outputs": [],
   "source": [
    "# Double period--consecutive constraints\n",
    "for j in range(len(C)):\n",
    "    if Db[j] == 1: # if double period\n",
    "        for t in T:\n",
    "            if t != 4 and t != 8:\n",
    "                m.addCons(Course[j,t] == Course[j+1, t+1]) # change to == from >= \n",
    "                num_cons += 1"
   ]
  },
  {
   "cell_type": "markdown",
   "metadata": {},
   "source": [
    "## Second Period\n",
    "Justina is going to add a flag for the second period, basically flip the above constraint for that period. \n",
    "\n",
    "### Note, I changed the above to == "
   ]
  },
  {
   "cell_type": "code",
   "execution_count": null,
   "metadata": {
    "collapsed": true
   },
   "outputs": [],
   "source": [
    "# Double Period--not 4th or 8th\n",
    "for j in range(len(C)):\n",
    "    if Db[j] == 1:\n",
    "        m.addCons(Course[j,4] == 0)\n",
    "        m.addCons(Course[j,8] == 0)\n",
    "        num_cons += 2"
   ]
  },
  {
   "cell_type": "code",
   "execution_count": null,
   "metadata": {
    "collapsed": true
   },
   "outputs": [],
   "source": [
    "# Double Period--Student in both\n",
    "for i in S:\n",
    "    for j in range(len(C)):\n",
    "        if Db[j] == 1:\n",
    "            m.addCons(X[i,j+1] == X[i,j]) # this was >= but == is better?\n",
    "            num_cons += 1"
   ]
  },
  {
   "cell_type": "code",
   "execution_count": null,
   "metadata": {
    "collapsed": true
   },
   "outputs": [],
   "source": [
    "## NEED ROOM DATA\n",
    "# If course taught, gets one room\n",
    "# for j in range(len(C)):\n",
    "#     for t in T:\n",
    "#         m.addCons(quicksum(r[j,s,t] for s in R) == Course[j,t])"
   ]
  },
  {
   "cell_type": "code",
   "execution_count": null,
   "metadata": {
    "collapsed": true
   },
   "outputs": [],
   "source": [
    "## NEED ROOM DATA\n",
    "# Room Constraint--Each room gets at most one course\n",
    "# for s in R:\n",
    "#     for t in T:\n",
    "#         m.addCons(quicksum(r[j,s,t] for j in C) <= 1)"
   ]
  },
  {
   "cell_type": "code",
   "execution_count": null,
   "metadata": {
    "collapsed": true
   },
   "outputs": [],
   "source": [
    "## TEMPORARY CONSTAINT\n",
    "## NO MORE THAN 8 CLASSES PER PERIOD\n",
    "# for t in T:\n",
    "#     m.addCons(quicksum(Course[j,t] for j in C) <= 20)"
   ]
  },
  {
   "cell_type": "code",
   "execution_count": null,
   "metadata": {
    "collapsed": true
   },
   "outputs": [],
   "source": [
    "# Set objective\n",
    "#m.setObjective(quicksum(X[i,j]*P[i][j] for i in S for j in C), \"maximize\")\n",
    "m.setObjective(X[1,1]*0, \"maximize\") # just find a feasible solution"
   ]
  },
  {
   "cell_type": "code",
   "execution_count": null,
   "metadata": {
    "collapsed": true
   },
   "outputs": [],
   "source": [
    "print(str(num_vars), \"Variables\")\n",
    "print(str(num_cons), \"Constraints\")"
   ]
  },
  {
   "cell_type": "code",
   "execution_count": null,
   "metadata": {
    "collapsed": true
   },
   "outputs": [],
   "source": [
    "# Solve model\n",
    "m.optimize() # NOTE: solver info printed to terminal"
   ]
  },
  {
   "cell_type": "code",
   "execution_count": null,
   "metadata": {
    "collapsed": true
   },
   "outputs": [],
   "source": [
    "# Print Information on Solve\n",
    "m.printStatistics() # NOTE: this will only print to terminal (note notebook)"
   ]
  },
  {
   "cell_type": "code",
   "execution_count": null,
   "metadata": {
    "collapsed": true
   },
   "outputs": [],
   "source": [
    "m.printBestSol() # prints the soltuion to terminal"
   ]
  },
  {
   "cell_type": "code",
   "execution_count": null,
   "metadata": {
    "collapsed": true
   },
   "outputs": [],
   "source": [
    "if m.getStatus() == \"optimal\":\n",
    "    print(\"We found an optimal solution!\")\n",
    "else:\n",
    "    print(\"The problem is\", m.getStatus())\n",
    "\n",
    "# determine which courses are offered in which period\n",
    "offered = {}\n",
    "for t in T:\n",
    "    class_list = []\n",
    "    for j in range(len(C)):\n",
    "        if m.getVal(Course[j,t]) == 1:\n",
    "            class_list.append(Cd[j])\n",
    "    offered[t] = class_list\n",
    "\n",
    "# How many courses per period is each student assigned\n",
    "for t in T:\n",
    "    max_courses = 0\n",
    "    min_courses = 1\n",
    "    for i in S:\n",
    "        num_courses = 0\n",
    "        for j in C:\n",
    "            if m.getVal(X[i,j]) == 1 and m.getVal(Course[j,t]) ==1:\n",
    "                num_courses += 1\n",
    "        if num_courses > max_courses:\n",
    "            max_courses = num_courses\n",
    "        elif num_courses < min_courses:\n",
    "            min_courses = num_courses\n",
    "    print(\"In period\", t, \"max courses for any student is\", max_courses, \"and min courses is\", min_courses)"
   ]
  },
  {
   "cell_type": "code",
   "execution_count": null,
   "metadata": {
    "collapsed": true
   },
   "outputs": [],
   "source": [
    "offered # lists periods, and the courses offered in each"
   ]
  },
  {
   "cell_type": "markdown",
   "metadata": {},
   "source": [
    "## Current issues:\n",
    "- Missing data on:\n",
    "    - Teachers\n",
    "    - Course Proximity (departments)\n",
    "    - Updates to accomodate:\n",
    "        - Double period courses\n",
    "        - Multiple instances of same course\n",
    "        - \"Other\" in every peoriod\n",
    "- Proximity constraint may be over complicated (the double sum involving $D$)\n",
    "    "
   ]
  },
  {
   "cell_type": "markdown",
   "metadata": {
    "collapsed": true
   },
   "source": [
    "# TODO\n",
    "- Room constraints for departments, i.e., no more than 3 science courses per period. \n",
    "- Code all Room and Double period constraints\n",
    "- Enhance output of model to handle large-scale data"
   ]
  },
  {
   "cell_type": "markdown",
   "metadata": {},
   "source": [
    "The following block of code is meant to help better understand SCIP. It instantiates a Model instance, then parses through each of its public methods and fields, looking for, and printing, their docstrings."
   ]
  },
  {
   "cell_type": "code",
   "execution_count": null,
   "metadata": {
    "collapsed": true,
    "scrolled": false
   },
   "outputs": [],
   "source": [
    "# Figure out wtf SCIP is doing\n",
    "\n",
    "# initialize a Model instance\n",
    "mod = Model(\"what?\")\n",
    "\n",
    "# get methods for the model\n",
    "methods = dir(mod)\n",
    "i = 0\n",
    "for x in methods:\n",
    "    if x[0]==\"_\":\n",
    "        i = methods.index(x)\n",
    "methods = methods[i+1:] # only want the public methods\n",
    "\n",
    "# print out each method and its info\n",
    "for m in methods:\n",
    "    print(m + \":\")\n",
    "    print(getattr(mod, m).__doc__)\n",
    "    print(\"\\n\")"
   ]
  },
  {
   "cell_type": "code",
   "execution_count": null,
   "metadata": {
    "collapsed": true
   },
   "outputs": [],
   "source": [
    "import pyscipopt as scip"
   ]
  },
  {
   "cell_type": "code",
   "execution_count": null,
   "metadata": {
    "collapsed": true
   },
   "outputs": [],
   "source": [
    "dir(scip)"
   ]
  },
  {
   "cell_type": "code",
   "execution_count": null,
   "metadata": {
    "collapsed": true
   },
   "outputs": [],
   "source": []
  }
 ],
 "metadata": {
  "kernelspec": {
   "display_name": "Python [conda env:py36]",
   "language": "python",
   "name": "conda-env-py36-py"
  },
  "language_info": {
   "codemirror_mode": {
    "name": "ipython",
    "version": 3
   },
   "file_extension": ".py",
   "mimetype": "text/x-python",
   "name": "python",
   "nbconvert_exporter": "python",
   "pygments_lexer": "ipython3",
   "version": "3.6.4"
  }
 },
 "nbformat": 4,
 "nbformat_minor": 2
}
