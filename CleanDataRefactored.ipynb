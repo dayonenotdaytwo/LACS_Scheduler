{
 "cells": [
  {
   "cell_type": "code",
   "execution_count": 1,
   "metadata": {
    "collapsed": true
   },
   "outputs": [],
   "source": [
    "import numpy as np\n",
    "import csv\n",
    "import pandas as pd\n",
    "import matplotlib.pyplot as plt"
   ]
  },
  {
   "cell_type": "markdown",
   "metadata": {},
   "source": [
    "### Master Course Info\n",
    "#### Double periods, Multiple Course Instances, Min, Max, HS/MS Category, Required Grades, Room Type\n",
    "\n",
    "This file is constructed by the school"
   ]
  },
  {
   "cell_type": "code",
   "execution_count": 2,
   "metadata": {
    "collapsed": true
   },
   "outputs": [],
   "source": [
    "course_info = pd.read_excel('resources/Refactored_Files/Input1_Refactored.xlsx', delimiter=',')"
   ]
  },
  {
   "cell_type": "markdown",
   "metadata": {},
   "source": [
    "#### Teacher Info\n",
    "\n",
    "Using the first input file from the school, we constuct a file template for the school to input teacher/course matches \n",
    "This output file is \"Teacher Template\""
   ]
  },
  {
   "cell_type": "code",
   "execution_count": 3,
   "metadata": {
    "collapsed": true
   },
   "outputs": [],
   "source": [
    "courses = pd.DataFrame(course_info['Course Name'], columns = ['Course Name', 'Teacher Name'])\n",
    "\n",
    "# add multiple instances of courses to teacher doc\n",
    "add = pd.DataFrame() \n",
    "\n",
    "# iterate over course with multiple instances\n",
    "for index, row in course_info.loc[course_info['Number of Instances'] >= 1].iterrows():\n",
    "    instances = np.arange(row['Number of Instances']) + 1\n",
    "    for i in instances[1:]: # add a course for every additional instance\n",
    "        c = row['Course Name'] + ' V'+ str(int(i))\n",
    "        updated_row = row.copy()\n",
    "        updated_row['Course Name'] = c\n",
    "        add = add.append(updated_row, ignore_index=True)\n",
    "\n",
    "courses = pd.concat([pd.DataFrame(add['Course Name'], columns = ['Course Name']), courses], axis=0).sort_values(by=['Course Name'])\n",
    "courses.reset_index(drop=True).to_csv('resources/Teacher_Template.csv')"
   ]
  },
  {
   "cell_type": "markdown",
   "metadata": {},
   "source": [
    "### Construct Input Files for LP Solver\n",
    "#### Course Room Requirements, (Max, Min, MS Category, HS Category, Double, Teacher Info) \n",
    "\n",
    "Using the info from the school, construct input files that are readable by our LP program"
   ]
  },
  {
   "cell_type": "code",
   "execution_count": 6,
   "metadata": {},
   "outputs": [],
   "source": [
    "all_info = pd.concat([course_info, add], axis=0).sort_values(by=['Course Name']).reset_index(drop=True)\n",
    "\n",
    "# add in double periods \n",
    "add_double = pd.DataFrame() \n",
    "double = all_info.copy()\n",
    "double.dropna(subset=['Double Period'])\n",
    "for index, row in all_info.loc[all_info['Double Period'] == 'Yes'].iterrows():\n",
    "    c = row['Course Name'] + ' II'\n",
    "    updated_row = row.copy()\n",
    "    updated_row['Course Name'] = c\n",
    "    add_double = add_double.append(updated_row, ignore_index=True)    \n",
    "add_double\n",
    "all_info = pd.concat([all_info, add_double], axis=0).sort_values(by=['Course Name'])\n",
    "\n",
    "# convert \"yes\" to 1\n",
    "all_info['Double Period'] = all_info['Double Period'].map({'Yes': 1})\n",
    "\n",
    "all_info.reset_index(drop=True).to_csv('resources/Refactored_Files/LP_Input.csv')\n",
    "# all_info"
   ]
  },
  {
   "cell_type": "code",
   "execution_count": null,
   "metadata": {
    "collapsed": true
   },
   "outputs": [],
   "source": []
  }
 ],
 "metadata": {
  "kernelspec": {
   "display_name": "Python [conda env:py36]",
   "language": "python",
   "name": "conda-env-py36-py"
  },
  "language_info": {
   "codemirror_mode": {
    "name": "ipython",
    "version": 3
   },
   "file_extension": ".py",
   "mimetype": "text/x-python",
   "name": "python",
   "nbconvert_exporter": "python",
   "pygments_lexer": "ipython3",
   "version": "3.6.4"
  }
 },
 "nbformat": 4,
 "nbformat_minor": 2
}
