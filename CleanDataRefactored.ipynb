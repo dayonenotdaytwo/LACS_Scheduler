{
 "cells": [
  {
   "cell_type": "code",
   "execution_count": 1,
   "metadata": {
    "collapsed": true
   },
   "outputs": [],
   "source": [
    "import numpy as np\n",
    "import csv\n",
    "import pandas as pd\n",
    "import matplotlib.pyplot as plt"
   ]
  },
  {
   "cell_type": "code",
   "execution_count": 2,
   "metadata": {
    "collapsed": true
   },
   "outputs": [],
   "source": [
    "file_location = 'Resources/18_19'"
   ]
  },
  {
   "cell_type": "markdown",
   "metadata": {},
   "source": [
    "### Master Course Info\n",
    "#### Double periods, Multiple Course Instances, Min, Max, HS/MS Category, Required Grades, Room Type\n",
    "\n",
    "This file is constructed by the school"
   ]
  },
  {
   "cell_type": "code",
   "execution_count": 3,
   "metadata": {
    "collapsed": true
   },
   "outputs": [],
   "source": [
    "course_info = pd.read_excel(file_location + '/Input1_Refactored.xlsx', delimiter=',')"
   ]
  },
  {
   "cell_type": "markdown",
   "metadata": {},
   "source": [
    "#### Teacher Info\n",
    "\n",
    "Using the first input file from the school, we constuct a file template for the school to input teacher/course matches \n",
    "This output file is \"Teacher Template\""
   ]
  },
  {
   "cell_type": "code",
   "execution_count": 4,
   "metadata": {
    "collapsed": true
   },
   "outputs": [],
   "source": [
    "courses = pd.DataFrame(course_info['Course Name'], columns = ['Course Name', 'Teacher Name'])\n",
    "\n",
    "# add multiple instances of courses to teacher doc\n",
    "add = pd.DataFrame() \n",
    "\n",
    "# iterate over course with multiple instances\n",
    "for index, row in course_info.loc[course_info['Number of Instances'] >= 1].iterrows():\n",
    "    instances = np.arange(row['Number of Instances']) + 1\n",
    "    for i in instances[1:]: # add a course for every additional instance\n",
    "        c = row['Course Name'] + ' V'+ str(int(i))\n",
    "        updated_row = row.copy()\n",
    "        updated_row['Course Name'] = c\n",
    "        add = add.append(updated_row, ignore_index=True)\n",
    "\n",
    "courses = pd.concat([pd.DataFrame(add['Course Name'], columns = ['Course Name']), courses], axis=0).sort_values(by=['Course Name'])\n",
    "courses.reset_index(drop=True).to_csv(file_location + '/Teacher_Template.csv', index=False)"
   ]
  },
  {
   "cell_type": "markdown",
   "metadata": {},
   "source": [
    "### Construct Input Files for LP Solver\n",
    "#### Course Room Requirements, (Max, Min, MS Category, HS Category, Double, Teacher Info) \n",
    "\n",
    "Using the info from the school, construct input files that are readable by our LP program"
   ]
  },
  {
   "cell_type": "code",
   "execution_count": 5,
   "metadata": {
    "collapsed": true
   },
   "outputs": [],
   "source": [
    "all_info = pd.concat([course_info, add], axis=0).sort_values(by=['Course Name']).reset_index(drop=True)\n",
    "\n",
    "# add in double periods \n",
    "add_double = pd.DataFrame() \n",
    "double = all_info.copy()\n",
    "double.dropna(subset=['Double Period'])\n",
    "for index, row in all_info.loc[all_info['Double Period'] == 'Yes'].iterrows():\n",
    "    c = row['Course Name'] + ' II'\n",
    "    updated_row = row.copy()\n",
    "    updated_row['Course Name'] = c\n",
    "    updated_row['Double Period'] = 0\n",
    "    add_double = add_double.append(updated_row, ignore_index=True)    \n",
    "add_double\n",
    "all_info = pd.concat([all_info, add_double], axis=0).sort_values(by=['Course Name'])\n",
    "\n",
    "# convert \"yes\" to 1, keep 0\n",
    "all_info['Double Period'] = all_info['Double Period'].map({'Yes': 1, 0:0})\n",
    "all_info.reset_index(drop=True)\n",
    "all_info.to_csv(file_location + '/LP_Input.csv', index=False)"
   ]
  },
  {
   "cell_type": "markdown",
   "metadata": {
    "collapsed": true
   },
   "source": [
    "#### Proximity Matrix\n",
    "\n",
    "From the input file above, construct the proximity matrix"
   ]
  },
  {
   "cell_type": "code",
   "execution_count": 6,
   "metadata": {
    "collapsed": true
   },
   "outputs": [],
   "source": [
    "def dept_proximity(file_location, file_name):\n",
    "    # columns are department, rows are course names\n",
    "    info = pd.read_csv(file_location + file_name, delimiter=',')\n",
    "\n",
    "    depts = info[[\"Course Name\", \"MS Category\", \"HS Category\"]]\n",
    "    depts = depts.fillna(0)\n",
    "\n",
    "    # iterate over depts\n",
    "    msd = set(depts[\"MS Category\"])\n",
    "    msd.remove(0)\n",
    "\n",
    "    hsd = set(depts[\"HS Category\"])\n",
    "    hsd.remove(0)\n",
    "\n",
    "    cols = msd.union(hsd)\n",
    "    single = [subject for subject in cols if '&' not in subject]\n",
    "    double = [subject for subject in cols if '&' in subject]\n",
    "\n",
    "    sim = pd.DataFrame(index=depts['Course Name'], columns=single)\n",
    "\n",
    "    # 2nd period of double courses\n",
    "    second = np.array(info.loc[info['Double Period'] == 0]['Course Name'])\n",
    "\n",
    "    for d in cols:  \n",
    "        dept_courses_MS = depts[\"Course Name\"].loc[depts[\"MS Category\"] == d]\n",
    "        dept_courses_HS = depts[\"Course Name\"].loc[depts[\"HS Category\"] == d]\n",
    "        dept_courses = dept_courses_MS.append(dept_courses_HS, ignore_index=True)\n",
    "        for course in dept_courses:\n",
    "\n",
    "            # set all 2nd part in double period to 0\n",
    "            if course in second:\n",
    "                if '&' in d:\n",
    "                    d1 = d.split(\" \")[0]\n",
    "                    d2 = d.split(\" \")[2]\n",
    "\n",
    "                    sim.loc[course, d1]=0\n",
    "                    sim.loc[course, d2]=0\n",
    "\n",
    "                else:\n",
    "                    sim.loc[course, d] = 0\n",
    "\n",
    "            elif d in single: \n",
    "                sim.loc[course, d]=1\n",
    "\n",
    "            else: #d in double\n",
    "                # get two depts\n",
    "                d1 = d.split(\" \")[0]\n",
    "                d2 = d.split(\" \")[2]\n",
    "\n",
    "                sim.loc[course, d1]=1\n",
    "                sim.loc[course, d2]=1\n",
    "\n",
    "\n",
    "    sim = sim.fillna(0)            \n",
    "    sim.to_csv(file_location + '/Proximity.csv')\n",
    "\n",
    "    \n",
    "dept_proximity(file_location, '/LP_Input.csv')"
   ]
  },
  {
   "cell_type": "code",
   "execution_count": null,
   "metadata": {
    "collapsed": true
   },
   "outputs": [],
   "source": []
  }
 ],
 "metadata": {
  "kernelspec": {
   "display_name": "Python 2",
   "language": "python",
   "name": "python2"
  },
  "language_info": {
   "codemirror_mode": {
    "name": "ipython",
    "version": 2
   },
   "file_extension": ".py",
   "mimetype": "text/x-python",
   "name": "python",
   "nbconvert_exporter": "python",
   "pygments_lexer": "ipython2",
   "version": "2.7.13"
  }
 },
 "nbformat": 4,
 "nbformat_minor": 2
}
