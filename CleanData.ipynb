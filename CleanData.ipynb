{
 "cells": [
  {
   "cell_type": "code",
   "execution_count": 2,
   "metadata": {
    "collapsed": true
   },
   "outputs": [],
   "source": [
    "import numpy as np\n",
    "import csv\n",
    "import pandas as pd"
   ]
  },
  {
   "cell_type": "markdown",
   "metadata": {},
   "source": [
    "### Load Data"
   ]
  },
  {
   "cell_type": "code",
   "execution_count": 3,
   "metadata": {
    "collapsed": true
   },
   "outputs": [],
   "source": [
    "data = pd.read_excel('resources/fall2017data.xlsx', delimiter=',')\n",
    "data = data.fillna(0)\n",
    "data\n",
    "clean_data = data"
   ]
  },
  {
   "cell_type": "markdown",
   "metadata": {},
   "source": [
    "### Data Processing\n",
    "#### Eliminate Incomplete Entries: May have to figure out a better solution later"
   ]
  },
  {
   "cell_type": "code",
   "execution_count": 4,
   "metadata": {},
   "outputs": [
    {
     "name": "stdout",
     "output_type": "stream",
     "text": [
      "(246, 24)\n"
     ]
    }
   ],
   "source": [
    "for choice in ['First', 'Second', 'Third']:\n",
    "    for i in [1, 2, 3, 4, 7, 8]:\n",
    "        clean_data = clean_data.iloc[np.where(clean_data['Period ' + str(i) + ' (' + choice + ' Choice)'] != 0)]\n",
    "print clean_data.shape\n",
    "# clean_data"
   ]
  },
  {
   "cell_type": "markdown",
   "metadata": {},
   "source": [
    "#### (TODO) Check that all courses requested are in the correct period"
   ]
  },
  {
   "cell_type": "markdown",
   "metadata": {},
   "source": [
    "#### Make preferences table"
   ]
  },
  {
   "cell_type": "code",
   "execution_count": 5,
   "metadata": {},
   "outputs": [
    {
     "data": {
      "text/plain": [
       "True"
      ]
     },
     "execution_count": 5,
     "metadata": {},
     "output_type": "execute_result"
    }
   ],
   "source": [
    "# make sure each entry is unique\n",
    "len(clean_data['Student Name']) == len(set(clean_data['Student Name']))\n",
    "# student_ids = np.core.defchararray.add('S', np.char.mod('%d', np.arange(len(clean_data['Student Name']))))"
   ]
  },
  {
   "cell_type": "code",
   "execution_count": 6,
   "metadata": {
    "collapsed": true
   },
   "outputs": [],
   "source": [
    "def all_classes(clean_data):\n",
    "    # returns a list of all the class names in a period\n",
    "    result = []\n",
    "    for period in [1, 2, 3, 4, 7, 8]:\n",
    "        classes = clean_data.filter(like='Period ' + str(period))\n",
    "        classes = pd.get_dummies(classes)\n",
    "        result.extend(classes.columns)\n",
    "        for choice in ['First', 'Second', 'Third']:\n",
    "            s = 'Period ' + str(period) + ' (' + choice + ' Choice)'\n",
    "            s2 = 'P' + str(period)\n",
    "            result = [c.replace(s, s2) for c in result]\n",
    "    return result\n",
    "\n",
    "def preferences(clean_data):\n",
    "    full_classes = all_classes(clean_data)\n",
    "    for choice in ['First', 'Second', 'Third']:\n",
    "        pref = clean_data.filter(like = choice + ' Choice')\n",
    "        binary = pd.get_dummies(pref)\n",
    "        cols = binary.columns\n",
    "        # replace column names\n",
    "        num_per = 7\n",
    "        for i in [1, 2, 3, 4, 7, 8]:\n",
    "            # add classes for each period that were not chosen\n",
    "            s = 'Period ' + str(i) + ' (' + choice + ' Choice)'\n",
    "            s2 = 'P' + str(i)\n",
    "            cols = [c.replace(s, s2) for c in cols]\n",
    "        empty = list(set(full_classes) - set(cols))\n",
    "        binary.columns = cols\n",
    "        for e in empty:\n",
    "            binary[e] = np.zeros(len(clean_data))\n",
    "        binary.to_csv('resources/' + choice + 'ChoiceBinary.csv')\n",
    "\n",
    "preferences(clean_data)"
   ]
  },
  {
   "cell_type": "code",
   "execution_count": 7,
   "metadata": {},
   "outputs": [
    {
     "name": "stdout",
     "output_type": "stream",
     "text": [
      "92\n",
      "92\n",
      "92\n"
     ]
    }
   ],
   "source": [
    "first = pd.read_csv('resources/FirstChoiceBinary.csv', delimiter=',')\n",
    "second = pd.read_csv('resources/SecondChoiceBinary.csv', delimiter=',')\n",
    "third = pd.read_csv('resources/ThirdChoiceBinary.csv', delimiter=',')\n",
    "\n",
    "print len(first.columns)\n",
    "print len(second.columns)\n",
    "print len(third.columns)"
   ]
  },
  {
   "cell_type": "code",
   "execution_count": 9,
   "metadata": {
    "collapsed": true
   },
   "outputs": [],
   "source": [
    "def course_caps(clean_data, class_size):\n",
    "    n = 7\n",
    "    period_courses = []\n",
    "    for i in range(n):\n",
    "        classes_in_period = clean_data.filter(like='Period ' + str(i + 1))\n",
    "        classes_in_period = list(set(classes_in_period.values.flatten()))\n",
    "        \n",
    "        if 0 in classes_in_period:  # remove the NaNs we cast earlier\n",
    "            classes_in_period.remove(0)\n",
    "        \n",
    "        courses = np.core.defchararray.add(np.repeat(\"P\" + str(i + 1), len(classes_in_period)) , np.array(classes_in_period))\n",
    "        period_courses.extend(courses)\n",
    "\n",
    "    period_courses = pd.DataFrame(period_courses)\n",
    "\n",
    "    period_courses['Size'] = np.repeat(class_size, len(period_courses))\n",
    "    period_courses.to_csv('resources/CourseSize.csv')\n",
    "\n",
    "course_caps(clean_data, 25)"
   ]
  },
  {
   "cell_type": "code",
   "execution_count": null,
   "metadata": {
    "collapsed": true
   },
   "outputs": [],
   "source": []
  }
 ],
 "metadata": {
  "kernelspec": {
   "display_name": "Python [conda root]",
   "language": "python",
   "name": "conda-root-py"
  },
  "language_info": {
   "codemirror_mode": {
    "name": "ipython",
    "version": 2
   },
   "file_extension": ".py",
   "mimetype": "text/x-python",
   "name": "python",
   "nbconvert_exporter": "python",
   "pygments_lexer": "ipython2",
   "version": "2.7.13"
  }
 },
 "nbformat": 4,
 "nbformat_minor": 2
}
