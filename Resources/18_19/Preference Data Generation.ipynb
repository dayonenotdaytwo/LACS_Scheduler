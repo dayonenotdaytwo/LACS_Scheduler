{
 "cells": [
  {
   "cell_type": "code",
   "execution_count": 1,
   "metadata": {
    "collapsed": true
   },
   "outputs": [],
   "source": [
    "import numpy as np\n",
    "import pandas as pd"
   ]
  },
  {
   "cell_type": "code",
   "execution_count": 5,
   "metadata": {
    "collapsed": true
   },
   "outputs": [],
   "source": [
    "# import course data from LP_Input.csv\n",
    "# the index should be the list of courses + the V2 courses.\n",
    "course_list = pd.DataFrame.from_csv(\"LP_Input.csv\")\n",
    "\n",
    "course_list = list(course_list.index)\n",
    "course_list.append(\"missing\")\n",
    "\n",
    "hs_response = pd.DataFrame.from_csv(\"School form - High School form responses.csv\")\n",
    "ms_response = pd.DataFrame.from_csv(\"School form - Middle School form responses.csv\")\n",
    "hs_response = hs_response.fillna('missing')\n",
    "ms_response = ms_response.fillna('missing')\n",
    "hs_response = hs_response.drop( 'IIC Mathematics []', axis = 1)\n",
    "\n",
    "change_dict = {'N/A': 'place holder', np.nan:'place holder',\n",
    "             \"HS English TBA\": \"Non-Western Writers\",\n",
    "             'Intermediate Algebra and Geometry': \"Discovering Algebra\",\n",
    "             'Beginning Algebra and Geometry': \"Discovering Geometry\",\n",
    "             'Advanced/In-Depth French': \"Advanced French\",\n",
    "             'Social Studies (BE)': \"Governance and Dissent\",\n",
    "             'MS PE':\"MS PE \"}\n",
    "\n",
    "for val in change_dict:\n",
    "    hs_response.replace(val, change_dict[val], inplace=True)\n",
    "    ms_response.replace(val, change_dict[val], inplace=True)\n"
   ]
  },
  {
   "cell_type": "code",
   "execution_count": 7,
   "metadata": {
    "collapsed": true
   },
   "outputs": [],
   "source": [
    "hs_data = hs_response.iloc[:, 5:-10]\n",
    "ms_data = ms_response.iloc[:, 5:-10]"
   ]
  },
  {
   "cell_type": "code",
   "execution_count": 8,
   "metadata": {
    "collapsed": true
   },
   "outputs": [],
   "source": [
    "# extract preference levels from the column names\n",
    "\n",
    "temp_list = hs_response.columns[5:-10]\n",
    "temp_list2 = ms_response.columns[5:-10]\n",
    "\n",
    "# extracted choice numbers from the column names \n",
    "hs_choices = []\n",
    "ms_choices = []\n",
    "\n",
    "for item in temp_list:\n",
    "    hs_choices.append(int(item[-2]))\n",
    "    \n",
    "for item in temp_list2:\n",
    "    ms_choices.append(int(item[-2]))"
   ]
  },
  {
   "cell_type": "code",
   "execution_count": 9,
   "metadata": {
    "collapsed": true
   },
   "outputs": [],
   "source": [
    "result = pd.DataFrame(0,columns = course_list, index = range(hs_data.shape[0]+ms_data.shape[0]))"
   ]
  },
  {
   "cell_type": "code",
   "execution_count": 10,
   "metadata": {
    "collapsed": true
   },
   "outputs": [],
   "source": [
    "# helper function which returns the corresponding indices in course_list for each row of responses\n",
    "def course_index(input_array):\n",
    "    indices = []\n",
    "    for item in input_array:\n",
    "        indices.append(course_list.index(item))\n",
    "    return np.array(indices)"
   ]
  },
  {
   "cell_type": "code",
   "execution_count": 11,
   "metadata": {},
   "outputs": [],
   "source": [
    "for i in range(hs_data.shape[0]):\n",
    "    # assign hs_choices values to the corresponding indices in the result data\n",
    "    result.iloc[i,course_index(hs_data.iloc[i,:])] = hs_choices\n",
    "\n",
    "    \n",
    "ms_start_index = hs_data.shape[0]\n",
    "for i in range(ms_data.shape[0]):\n",
    "    # assign middle school choices. Row index is num_rows of hs_data + i\n",
    "    # (so MS rows would be after HS rows in result)\n",
    "    result.iloc[(ms_start_index + i),course_index(ms_data.iloc[i,:])] = ms_choices"
   ]
  },
  {
   "cell_type": "code",
   "execution_count": 15,
   "metadata": {},
   "outputs": [
    {
     "data": {
      "text/plain": [
       "missing                       3\n",
       "Non-Western Writers           1\n",
       "I Know Some Things            2\n",
       "Civil Rights Literature       3\n",
       "missing                       3\n",
       "missing                       3\n",
       "missing                       3\n",
       "Pre-Calculus                  1\n",
       "Probability and Statistics    2\n",
       "Computer Science              3\n",
       "Portfolio Art                 1\n",
       "Portfolio Photo               2\n",
       "missing                       3\n",
       "Economics                     1\n",
       "Asia Studies                  2\n",
       "Global Research               3\n",
       "Chemistry                     1\n",
       "Animal Bio                    2\n",
       "Physics                       3\n",
       "HS Health                     1\n",
       "HS PE                         2\n",
       "MS/HS PE                      3\n",
       "Name: 3, dtype: int64"
      ]
     },
     "execution_count": 15,
     "metadata": {},
     "output_type": "execute_result"
    }
   ],
   "source": [
    "result.iloc[3,course_index(hs_data.iloc[3,:])]"
   ]
  },
  {
   "cell_type": "code",
   "execution_count": 84,
   "metadata": {
    "collapsed": true
   },
   "outputs": [],
   "source": [
    "result.to_csv(\"processed_preference_data.csv\",index_label=None)"
   ]
  }
 ],
 "metadata": {
  "kernelspec": {
   "display_name": "Python 3",
   "language": "python",
   "name": "python3"
  },
  "language_info": {
   "codemirror_mode": {
    "name": "ipython",
    "version": 3
   },
   "file_extension": ".py",
   "mimetype": "text/x-python",
   "name": "python",
   "nbconvert_exporter": "python",
   "pygments_lexer": "ipython3",
   "version": "3.6.2"
  }
 },
 "nbformat": 4,
 "nbformat_minor": 2
}
