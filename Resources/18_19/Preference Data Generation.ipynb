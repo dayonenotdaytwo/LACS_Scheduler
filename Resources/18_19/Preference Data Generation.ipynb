{
 "cells": [
  {
   "cell_type": "code",
   "execution_count": 1,
   "metadata": {
    "collapsed": true
   },
   "outputs": [],
   "source": [
    "import numpy as np\n",
    "import pandas as pd"
   ]
  },
  {
   "cell_type": "code",
   "execution_count": 39,
   "metadata": {
    "collapsed": true
   },
   "outputs": [],
   "source": [
    "# import course data from LP_Input.csv\n",
    "# the index should be the list of courses + the V2 courses.\n",
    "course_list = pd.DataFrame.from_csv(\"LP_Input.csv\")\n",
    "course_list = list(course_list.index)\n",
    "hs_response = pd.DataFrame.from_csv(\"School form - High School form responses.csv\")\n",
    "ms_response = pd.DataFrame.from_csv(\"School form - Middle School form responses.csv\")"
   ]
  },
  {
   "cell_type": "code",
   "execution_count": 30,
   "metadata": {
    "collapsed": true
   },
   "outputs": [],
   "source": [
    "hs_data = hs_response.iloc[:, 2:-2]\n",
    "ms_data = ms_response.iloc[:, 2:-2]"
   ]
  },
  {
   "cell_type": "code",
   "execution_count": 23,
   "metadata": {
    "collapsed": true
   },
   "outputs": [],
   "source": [
    "# extract preference levels from the column names\n",
    "\n",
    "temp_list = hs_response.columns[2:-2]\n",
    "temp_list2 = ms_response.columns[2:-2]\n",
    "\n",
    "# extracted choice numbers from the column names \n",
    "hs_choices = []\n",
    "ms_choices = []\n",
    "\n",
    "for item in temp_list:\n",
    "    hs_choices.append(int(item[-2]))\n",
    "    \n",
    "for item in temp_list2:\n",
    "    ms_choices.append(int(item[-2]))"
   ]
  },
  {
   "cell_type": "code",
   "execution_count": 57,
   "metadata": {},
   "outputs": [],
   "source": [
    "result = pd.DataFrame(0,columns = course_list, index = range(hs_data.shape[0]+ms_data.shape[0]))"
   ]
  },
  {
   "cell_type": "code",
   "execution_count": 76,
   "metadata": {
    "collapsed": true
   },
   "outputs": [],
   "source": [
    "# helper function which returns the corresponding indices in course_list for each row of responses\n",
    "def course_index(input_array):\n",
    "    indices = []\n",
    "    for item in input_array:\n",
    "        indices.append(course_list.index(item))\n",
    "    return np.array(indices)"
   ]
  },
  {
   "cell_type": "code",
   "execution_count": 74,
   "metadata": {},
   "outputs": [],
   "source": [
    "for i in range(hs_data.shape[0]):\n",
    "    # assign hs_choices values to the corresponding indices in the result data\n",
    "    result.iloc[i,course_index(hs_data.iloc[i,:])] = hs_choices\n",
    "\n",
    "    \n",
    "ms_start_index = hs_data.shape[0]\n",
    "for i in range(ms_data.shape[0]):\n",
    "    # assign middle school choices. Row index is num_rows of hs_data + i\n",
    "    # (so MS rows would be after HS rows in result)\n",
    "    result.iloc[(ms_start_index + i),course_index(ms_data.iloc[i,:])] = ms_choices"
   ]
  },
  {
   "cell_type": "code",
   "execution_count": 83,
   "metadata": {},
   "outputs": [
    {
     "data": {
      "text/html": [
       "<div>\n",
       "<style>\n",
       "    .dataframe thead tr:only-child th {\n",
       "        text-align: right;\n",
       "    }\n",
       "\n",
       "    .dataframe thead th {\n",
       "        text-align: left;\n",
       "    }\n",
       "\n",
       "    .dataframe tbody tr th {\n",
       "        vertical-align: top;\n",
       "    }\n",
       "</style>\n",
       "<table border=\"1\" class=\"dataframe\">\n",
       "  <thead>\n",
       "    <tr style=\"text-align: right;\">\n",
       "      <th></th>\n",
       "      <th>6th Grade Art</th>\n",
       "      <th>7th-8th Grade Art</th>\n",
       "      <th>8th Grade Science</th>\n",
       "      <th>Adaptive PE</th>\n",
       "      <th>Advanced Algebra and Trigonometry</th>\n",
       "      <th>Advanced Algebra and Trigonometry V2</th>\n",
       "      <th>Advanced Spanish</th>\n",
       "      <th>Advanced/In-Depth French</th>\n",
       "      <th>African Studies</th>\n",
       "      <th>African Studies II</th>\n",
       "      <th>...</th>\n",
       "      <th>Spanish A V2</th>\n",
       "      <th>Spanish B</th>\n",
       "      <th>Spanish B V2</th>\n",
       "      <th>Street Band</th>\n",
       "      <th>Studio Art</th>\n",
       "      <th>The Renaissance</th>\n",
       "      <th>US History and Lit: The 20th Century</th>\n",
       "      <th>US History and Lit: The 20th Century II</th>\n",
       "      <th>Utopia/Dystopia</th>\n",
       "      <th>Video Production</th>\n",
       "    </tr>\n",
       "  </thead>\n",
       "  <tbody>\n",
       "    <tr>\n",
       "      <th>0</th>\n",
       "      <td>0</td>\n",
       "      <td>0</td>\n",
       "      <td>0</td>\n",
       "      <td>1</td>\n",
       "      <td>3</td>\n",
       "      <td>0</td>\n",
       "      <td>0</td>\n",
       "      <td>2</td>\n",
       "      <td>0</td>\n",
       "      <td>0</td>\n",
       "      <td>...</td>\n",
       "      <td>0</td>\n",
       "      <td>0</td>\n",
       "      <td>0</td>\n",
       "      <td>1</td>\n",
       "      <td>3</td>\n",
       "      <td>3</td>\n",
       "      <td>0</td>\n",
       "      <td>0</td>\n",
       "      <td>0</td>\n",
       "      <td>0</td>\n",
       "    </tr>\n",
       "    <tr>\n",
       "      <th>1</th>\n",
       "      <td>1</td>\n",
       "      <td>2</td>\n",
       "      <td>2</td>\n",
       "      <td>1</td>\n",
       "      <td>0</td>\n",
       "      <td>0</td>\n",
       "      <td>0</td>\n",
       "      <td>0</td>\n",
       "      <td>0</td>\n",
       "      <td>0</td>\n",
       "      <td>...</td>\n",
       "      <td>0</td>\n",
       "      <td>0</td>\n",
       "      <td>0</td>\n",
       "      <td>2</td>\n",
       "      <td>0</td>\n",
       "      <td>0</td>\n",
       "      <td>0</td>\n",
       "      <td>0</td>\n",
       "      <td>0</td>\n",
       "      <td>0</td>\n",
       "    </tr>\n",
       "  </tbody>\n",
       "</table>\n",
       "<p>2 rows × 100 columns</p>\n",
       "</div>"
      ],
      "text/plain": [
       "   6th Grade Art  7th-8th Grade Art  8th Grade Science  Adaptive PE  \\\n",
       "0              0                  0                  0            1   \n",
       "1              1                  2                  2            1   \n",
       "\n",
       "   Advanced Algebra and Trigonometry  Advanced Algebra and Trigonometry V2  \\\n",
       "0                                  3                                     0   \n",
       "1                                  0                                     0   \n",
       "\n",
       "   Advanced Spanish  Advanced/In-Depth French  African Studies  \\\n",
       "0                 0                         2                0   \n",
       "1                 0                         0                0   \n",
       "\n",
       "   African Studies II        ...         Spanish A V2  Spanish B  \\\n",
       "0                   0        ...                    0          0   \n",
       "1                   0        ...                    0          0   \n",
       "\n",
       "   Spanish B V2  Street Band  Studio Art  The Renaissance  \\\n",
       "0             0            1           3                3   \n",
       "1             0            2           0                0   \n",
       "\n",
       "   US History and Lit: The 20th Century  \\\n",
       "0                                     0   \n",
       "1                                     0   \n",
       "\n",
       "   US History and Lit: The 20th Century II  Utopia/Dystopia  Video Production  \n",
       "0                                        0                0                 0  \n",
       "1                                        0                0                 0  \n",
       "\n",
       "[2 rows x 100 columns]"
      ]
     },
     "execution_count": 83,
     "metadata": {},
     "output_type": "execute_result"
    }
   ],
   "source": [
    "result"
   ]
  },
  {
   "cell_type": "code",
   "execution_count": 84,
   "metadata": {
    "collapsed": true
   },
   "outputs": [],
   "source": [
    "result.to_csv(\"processed_preference_data.csv\",index_label=None)"
   ]
  }
 ],
 "metadata": {
  "kernelspec": {
   "display_name": "Python 3",
   "language": "python",
   "name": "python3"
  },
  "language_info": {
   "codemirror_mode": {
    "name": "ipython",
    "version": 3
   },
   "file_extension": ".py",
   "mimetype": "text/x-python",
   "name": "python",
   "nbconvert_exporter": "python",
   "pygments_lexer": "ipython3",
   "version": "3.6.2"
  }
 },
 "nbformat": 4,
 "nbformat_minor": 2
}
