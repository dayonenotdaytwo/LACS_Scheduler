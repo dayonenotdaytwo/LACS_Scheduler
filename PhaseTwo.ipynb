{
 "cells": [
  {
   "cell_type": "markdown",
   "metadata": {},
   "source": [
    "# Phase II Model Test\n",
    "First attempt at a Phase II model, one which creases the master schedule and assigns students to courses simultaneously."
   ]
  },
  {
   "cell_type": "markdown",
   "metadata": {},
   "source": [
    "$S$ -- Set of all students\n",
    "\n",
    "$C$ -- Set of all courses\n",
    "\n",
    "$T$ -- Set of all periods {1,2,3,4,7,8}\n",
    "\n",
    "$I$ -- Set of all instructors\n",
    "\n",
    "**Variables:**\n",
    "\n",
    "$x_{i,j,t}$ for  $i \\in S, j \\in C, t \\in T$ -- Binary, 1 if student $i$ assigned to course $j$ in period $t$\n",
    "\n",
    "$c_{j,t}$ for $j \\in C, t \\in T$ -- Binary, 1 if course $j$ to be offered in period $t$\n",
    "\n",
    "$t_{k,j,t}$ for $k \\in I, j \\in C, t \\in T$ -- Binary, 1 if teacher $k$ teaching course $j$ in period $t$\n",
    "\n",
    "** Parameters:**\n",
    "\n",
    "$P_{i,j}$ -- Preference for student $i$ on course $j$\n",
    "\n",
    "$S_i$ -- Seniority constant, e.g., higher for seniors\n",
    "\n",
    "$D_{i,j}$ -- Binary, 1 if course $i$ and $j$ are in the same department, i.e., if they meet the same requirement, e.g., highschool math\n",
    "\n",
    "$Ta_{i,j}$ -- Binary, 1 if teacher $i$ is teaching course $j$\n",
    "\n",
    "$Cap_j$ -- Capacity of course $j$\n",
    "\n",
    "\n",
    "** Constraints: **\n",
    "\n",
    "$\\sum_{j} x_{i,j,t} =1 \\quad \\forall i \\in S, t \\in T$ -- Says students can be assigned to exactly one course per period.\n",
    "\n",
    "$\\sum_{t \\neq T} \\sum_{i \\in C} \\sum_{j \\neq i \\in C} D_{i,j} x_{k,i,t} = 0 \\quad \\forall k \\in S, T \\in T$ -- Says that students are not assigned to more than 1 class in each department (could always change to more nuanced number of courses per department--how???)\n",
    "\n",
    "$\\sum_{t \\in T} c_{j,t} = 1 \\quad \\forall j \\in C$ -- Says that each course taught only once\n",
    "\n",
    "$\\sum_{i \\in S} x_{i,j,t} \\leq Cap_j \\quad \\forall j \\in C, t \\in T$ -- Course capacity constraint\n",
    "\n",
    "$\\sum_{j \\in C} c_{j,t} Ta_{k,j} \\leq 1  \\quad \\forall k \\in I, \\forall t \\in T$ -- Teacher constraint (a teacher can teach at most one course per period), where $Ta_{k,j}$ is a parameter, not a variable\n",
    "\n",
    "** Objective: **\n",
    "\n",
    "$ \\text{max }\\sum_{i \\in S} \\sum_{j \\in C} x_{i,j} P_{i,j} $ -- Assuming preferences take a higher value if they are a student's preferred choice, this will give a higher weight to higher assignments (at this point, I am leaving out the seniority multiplier)."
   ]
  },
  {
   "cell_type": "code",
   "execution_count": 15,
   "metadata": {},
   "outputs": [],
   "source": [
    "from pyscipopt import Model, quicksum\n",
    "import numpy as np"
   ]
  },
  {
   "cell_type": "code",
   "execution_count": 16,
   "metadata": {
    "collapsed": true
   },
   "outputs": [],
   "source": [
    "# set up some fake data\n",
    "## Sets\n",
    "S = [0,1,2,3,4,5] # 6 students\n",
    "C = [0,1,2,3] # 4 courses\n",
    "T = [0,1] # 2 periods\n",
    "I = [0,1] # 2 instructors\n",
    "\n",
    "## Preferences\n",
    "#     0    1    2    3  -- Courses\n",
    "P = [[1,   0,   1,   0], # student 0\n",
    "     [0,   1,   1,   0], # student 1\n",
    "     [0,   1,   0,   1], # student 2\n",
    "     [1,   0,   0,   1], # student 3\n",
    "     [1,   0,   1,   0], # student 4\n",
    "     [0,   1,   1,   0]] # student 5\n",
    "\n",
    "## Capacity\n",
    "Cap = [3, 3, 3, 3]\n",
    "\n",
    "## Course Proximity\n",
    "#     0    1    2    3  -- Courses\n",
    "D = [[0,   0,   0,   0], # 0 \n",
    "     [0,   0,   1,   0], # 1\n",
    "     [0,   1,   0,   1], # 2\n",
    "     [1,   0,   0,   0]]\n",
    "\n",
    "## Teacher Assignments\n",
    "#     0    1    2    3  -- Courses\n",
    "Ta = [[1,   0,   1,  0],  # Teacher 1\n",
    "     [0,   1,   0,  1]]  # Teacher 2"
   ]
  },
  {
   "cell_type": "code",
   "execution_count": 17,
   "metadata": {},
   "outputs": [],
   "source": [
    "# Setup model\n",
    "m = Model(\"test\")"
   ]
  },
  {
   "cell_type": "markdown",
   "metadata": {},
   "source": [
    "## Note, in the below I do not have a period index on students, I couldn't figure out how to work it"
   ]
  },
  {
   "cell_type": "code",
   "execution_count": 18,
   "metadata": {},
   "outputs": [],
   "source": [
    "# Add Student Variables\n",
    "X = {} # Variable dictionary\n",
    "for i in S:\n",
    "    for j in C:\n",
    "            name = \"Student \" + str(i) + \", in course \" + str(j)\n",
    "            X[i,j] = m.addVar(name, vtype = 'B')"
   ]
  },
  {
   "cell_type": "code",
   "execution_count": 19,
   "metadata": {},
   "outputs": [],
   "source": [
    "# Add Course Variable\n",
    "Course = {} # Variable dictionary\n",
    "for j in C:\n",
    "    for t in T:\n",
    "        name = \"Course \" + str(j) + \" in period \" + str(t)\n",
    "        Course[j,t] = m.addVar(name, vtype='B')"
   ]
  },
  {
   "cell_type": "code",
   "execution_count": 20,
   "metadata": {
    "collapsed": true
   },
   "outputs": [],
   "source": [
    "# Add Student assignment constraint\n",
    "for i in S:\n",
    "        m.addCons(quicksum(X[i,j] for j in C) == 1)"
   ]
  },
  {
   "cell_type": "code",
   "execution_count": 21,
   "metadata": {
    "collapsed": true
   },
   "outputs": [],
   "source": [
    "# Add capacity constraint\n",
    "for j in C:\n",
    "    m.addCons(quicksum(X[i,j] for i in S) <= Cap[j])"
   ]
  },
  {
   "cell_type": "code",
   "execution_count": 22,
   "metadata": {},
   "outputs": [],
   "source": [
    "# Add course proximity constraint (without quicksum)\n",
    "for k in S:\n",
    "    expr = 0 # reset expression (should not have impact)\n",
    "    for i in C:\n",
    "        small_set = list(set(C) - set([int(i)])) # C - {i} list of courses without course i\n",
    "        for j in small_set:\n",
    "            expr = expr + D[i][j]*X[k,i]  \n",
    "    m.addCons(expr == 0)"
   ]
  },
  {
   "cell_type": "code",
   "execution_count": 24,
   "metadata": {},
   "outputs": [],
   "source": [
    "# Teacher Constraint\n",
    "for k in I:\n",
    "    for t in T:\n",
    "        m.addCons(quicksum(Course[j,t]*Ta[k][j] for j in C) <= 1)"
   ]
  },
  {
   "cell_type": "code",
   "execution_count": 25,
   "metadata": {
    "collapsed": true
   },
   "outputs": [],
   "source": [
    "# Course Taught only once Constraint\n",
    "for j in C:\n",
    "    m.addCons(quicksum(Course[j,t] for t in T) == 1)"
   ]
  },
  {
   "cell_type": "code",
   "execution_count": 30,
   "metadata": {},
   "outputs": [],
   "source": [
    "# Set objective\n",
    "m.setObjective(quicksum(X[i,j]*P[i][j] for i in S for j in C), \"maximize\")"
   ]
  },
  {
   "cell_type": "code",
   "execution_count": 31,
   "metadata": {
    "collapsed": true
   },
   "outputs": [],
   "source": [
    "# Solve model\n",
    "m.optimize()"
   ]
  },
  {
   "cell_type": "code",
   "execution_count": 45,
   "metadata": {},
   "outputs": [
    {
     "name": "stdout",
     "output_type": "stream",
     "text": [
      "Student 0, in course 0\tyes\n",
      "Student 0, in course 1\tno\n",
      "Student 0, in course 2\tno\n",
      "Student 0, in course 3\tno\n",
      "Student 1, in course 0\tyes\n",
      "Student 1, in course 1\tno\n",
      "Student 1, in course 2\tno\n",
      "Student 1, in course 3\tno\n",
      "Student 2, in course 0\tyes\n",
      "Student 2, in course 1\tno\n",
      "Student 2, in course 2\tno\n",
      "Student 2, in course 3\tno\n",
      "Student 3, in course 0\tyes\n",
      "Student 3, in course 1\tno\n",
      "Student 3, in course 2\tno\n",
      "Student 3, in course 3\tno\n",
      "Student 4, in course 0\tyes\n",
      "Student 4, in course 1\tno\n",
      "Student 4, in course 2\tno\n",
      "Student 4, in course 3\tno\n",
      "Student 5, in course 0\tyes\n",
      "Student 5, in course 1\tno\n",
      "Student 5, in course 2\tno\n",
      "Student 5, in course 3\tno\n",
      "\n",
      "\n",
      "\n",
      "Course 0 to be taught in period  0\n",
      "Course 1 to be taught in period  0\n",
      "Course 2 to be taught in period  0\n",
      "Course 3 to be taught in period  0\n"
     ]
    }
   ],
   "source": [
    "# Look at output\n",
    "for i in S:\n",
    "    for j in C:\n",
    "        s = str(X[i,j])\n",
    "        if m.getVal(X[i,j]) == 1:\n",
    "            print(s + \"\\tyes\")\n",
    "        else:\n",
    "            print(s + \"\\tno\")\n",
    "            \n",
    "print(\"\\n\\n\")\n",
    "for j in C:\n",
    "    for t in T:\n",
    "        s = str(Course[j,t])\n",
    "        if m.getVal(Course[j,t]) == 1:\n",
    "            print(\"Course \" + str(j) + \" to be taught in period \", str(t))"
   ]
  },
  {
   "cell_type": "code",
   "execution_count": null,
   "metadata": {
    "collapsed": true
   },
   "outputs": [],
   "source": []
  }
 ],
 "metadata": {
  "kernelspec": {
   "display_name": "Python 3",
   "language": "python",
   "name": "python3"
  },
  "language_info": {
   "codemirror_mode": {
    "name": "ipython",
    "version": 3
   },
   "file_extension": ".py",
   "mimetype": "text/x-python",
   "name": "python",
   "nbconvert_exporter": "python",
   "pygments_lexer": "ipython3",
   "version": "3.6.3"
  }
 },
 "nbformat": 4,
 "nbformat_minor": 2
}
