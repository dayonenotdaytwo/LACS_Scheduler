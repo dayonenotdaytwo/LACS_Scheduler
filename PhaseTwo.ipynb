{
 "cells": [
  {
   "cell_type": "markdown",
   "metadata": {},
   "source": [
    "# Phase II Model Test\n",
    "First attempt at a Phase II model, one which creases the master schedule and assigns students to courses simultaneously."
   ]
  },
  {
   "cell_type": "markdown",
   "metadata": {},
   "source": [
    "$S$ -- Set of all students\n",
    "\n",
    "$C$ -- Set of all courses\n",
    "\n",
    "$T$ -- Set of all periods {1,2,3,4,7,8}\n",
    "\n",
    "$I$ -- Set of all instructors\n",
    "\n",
    "**Variables:**\n",
    "\n",
    "$x_{i,j}$ for  $i \\in S, j \\in C$ -- Binary, 1 if student $i$ assigned to course $j$ \n",
    "\n",
    "$c_{j,t}$ for $j \\in C, t \\in T$ -- Binary, 1 if course $j$ to be offered in period $t$\n",
    "\n",
    "** Parameters:**\n",
    "\n",
    "$P_{i,j}$ -- Preference for student $i$ on course $j$\n",
    "\n",
    "$S_i$ -- Seniority constant, e.g., higher for seniors\n",
    "\n",
    "$D_{i,j}$ -- Binary, 1 if course $i$ and $j$ are in the same department, i.e., if they meet the same requirement, e.g., highschool math\n",
    "\n",
    "$Ta_{i,j}$ -- Binary, 1 if teacher $i$ is teaching course $j$\n",
    "\n",
    "$Cap_j$ -- Capacity of course $j$\n",
    "\n",
    "\n",
    "** Constraints: **\n",
    "\n",
    "$\\sum_{j} x_{i,j} =1 \\quad \\forall i \\in S$ -- Says students can be assigned to exactly one course per period.\n",
    "\n",
    "$\\sum_{i \\in C} \\sum_{j \\neq i \\in C} D_{i,j} x_{k,i} = 0 \\quad \\forall k \\in S$ -- Says that students are not assigned to more than 1 class in each department (could always change to more nuanced number of courses per department--how???)\n",
    "\n",
    "$\\sum_{t \\in T} c_{j,t} = 1 \\quad \\forall j \\in C$ -- Says that each course taught only once\n",
    "\n",
    "$\\sum_{i \\in S} x_{i,j,t} \\leq Cap_j \\quad \\forall j \\in C, t \\in T$ -- Course capacity constraint\n",
    "\n",
    "$\\sum_{j \\in C} c_{j,t} Ta_{k,j} \\leq 1  \\quad \\forall k \\in I, \\forall t \\in T$ -- Teacher constraint (a teacher can teach at most one course per period), where $Ta_{k,j}$ is a parameter, not a variable\n",
    "\n",
    "** Objective: **\n",
    "\n",
    "$ \\text{max }\\sum_{i \\in S} \\sum_{j \\in C} x_{i,j} P_{i,j} $ -- Assuming preferences take a higher value if they are a student's preferred choice, this will give a higher weight to higher assignments (at this point, I am leaving out the seniority multiplier)."
   ]
  },
  {
   "cell_type": "code",
   "execution_count": 60,
   "metadata": {},
   "outputs": [],
   "source": [
    "from pyscipopt import Model, quicksum\n",
    "import numpy as np"
   ]
  },
  {
   "cell_type": "code",
   "execution_count": 449,
   "metadata": {},
   "outputs": [],
   "source": [
    "# set up some fake data\n",
    "## Sets\n",
    "S = [0,1,2,3,4,5] # 6 students\n",
    "C = [0,1,2,3] # 4 courses\n",
    "T = [0,1] # 2 periods\n",
    "I = [0,1] # 2 instructors\n",
    "\n",
    "## Preferences\n",
    "#     0    1    2    3  -- Courses\n",
    "P = [[1,   0,   1,   1], # student 0\n",
    "     [0,   1,   1,   1], # student 1\n",
    "     [1,   1,   0,   1], # student 2\n",
    "     [1,   1,   0,   1], # student 3\n",
    "     [1,   1,   1,   0], # student 4\n",
    "     [0,   1,   1,   1]] # student 5\n",
    "\n",
    "#     0    1    2    3  -- Courses\n",
    "P = [[1,   1,   1,   1], # student 0\n",
    "     [1,   1,   1,   1], # student 1\n",
    "     [1,   1,   1,   1], # student 2\n",
    "     [1,   1,   1,   1], # student 3\n",
    "     [1,   1,   1,   1], # student 4\n",
    "     [1,   1,   1,   1]] # student 5\n",
    "\n",
    "## Capacity\n",
    "#Cap = [5, 5, 5, 5]\n",
    "Cap = [4]*4\n",
    "\n",
    "## Course Proximity\n",
    "# Lets say course 0 and 2 are the same department,\n",
    "# and 1 and 3 are same\n",
    "#     0    1    2    3  -- Courses\n",
    "D = [[0,   0,   1,   0], # 0 \n",
    "     [0,   0,   0,   1], # 1\n",
    "     [1,   0,   0,   0], # 2\n",
    "     [0,   1,   0,   0]] # 3\n",
    "\n",
    "D = [[0,   1,   0,   0], # 0 \n",
    "     [1,   0,   0,   0], # 1\n",
    "     [0,   0,   0,   0], # 2\n",
    "     [0,   0,   0,   0]] # 3\n",
    "\n",
    "# Check that it is symetric\n",
    "if not np.array_equal(np.transpose(D), D):\n",
    "    raise ValueError(\"D matrix is not symetric\")\n",
    "\n",
    "## Teacher Assignments\n",
    "#     0    1    2    3  -- Courses\n",
    "Ta = [[1,   0,   1,  0],  # Teacher 1\n",
    "     [0,   1,   0,  1]]  # Teacher 2"
   ]
  },
  {
   "cell_type": "code",
   "execution_count": 450,
   "metadata": {},
   "outputs": [],
   "source": [
    "# Setup model\n",
    "m = Model(\"test\")"
   ]
  },
  {
   "cell_type": "code",
   "execution_count": 451,
   "metadata": {},
   "outputs": [],
   "source": [
    "# Add Student Variables\n",
    "X = {} # Variable dictionary\n",
    "for i in S:\n",
    "    for j in C:\n",
    "            name = \"Student \" + str(i) + \", in course \" + str(j)\n",
    "            X[i,j] = m.addVar(name, vtype = 'B')"
   ]
  },
  {
   "cell_type": "code",
   "execution_count": 452,
   "metadata": {},
   "outputs": [],
   "source": [
    "# Add Course Variable\n",
    "Course = {} # Variable dictionary\n",
    "for j in C:\n",
    "    for t in T:\n",
    "        name = \"Course \" + str(j) + \" in period \" + str(t)\n",
    "        Course[j,t] = m.addVar(name, vtype='B')"
   ]
  },
  {
   "cell_type": "code",
   "execution_count": 453,
   "metadata": {
    "collapsed": true
   },
   "outputs": [],
   "source": [
    "# Add Student assignment constraint\n",
    "for i in S:\n",
    "        m.addCons(quicksum(X[i,j] for j in C) == 2)"
   ]
  },
  {
   "cell_type": "code",
   "execution_count": 454,
   "metadata": {
    "collapsed": true
   },
   "outputs": [],
   "source": [
    "# Add capacity constraint\n",
    "for j in C:\n",
    "    m.addCons(quicksum(X[i,j] for i in S) <= Cap[j])"
   ]
  },
  {
   "cell_type": "code",
   "execution_count": 455,
   "metadata": {},
   "outputs": [],
   "source": [
    "# Add course proximity constraint (without quicksum)\n",
    "if not np.array_equal(D, np.zeros(np.array(D).shape)):\n",
    "    for k in S:\n",
    "        expr = 0 # reset expression (should not have impact)\n",
    "        for i in C:\n",
    "            small_set = list(set(C) - set([int(i)])) # C - {i} list of courses without course i\n",
    "            for j in small_set:\n",
    "                expr = expr + D[i][j]*X[k,i]  \n",
    "        m.addCons(expr == 1)"
   ]
  },
  {
   "cell_type": "code",
   "execution_count": 456,
   "metadata": {},
   "outputs": [],
   "source": [
    "# Teacher Constraint\n",
    "for k in I:\n",
    "    for t in T:\n",
    "        m.addCons(quicksum(Course[j,t]*Ta[k][j] for j in C) == 1)"
   ]
  },
  {
   "cell_type": "code",
   "execution_count": 457,
   "metadata": {
    "collapsed": true
   },
   "outputs": [],
   "source": [
    "# Course Taught only once Constraint\n",
    "for j in C:\n",
    "    m.addCons(quicksum(Course[j,t] for t in T) == 1)"
   ]
  },
  {
   "cell_type": "code",
   "execution_count": 458,
   "metadata": {},
   "outputs": [],
   "source": [
    "# Set objective\n",
    "m.setObjective(quicksum(X[i,j]*P[i][j] for i in S for j in C), \"maximize\")"
   ]
  },
  {
   "cell_type": "code",
   "execution_count": 459,
   "metadata": {
    "collapsed": true
   },
   "outputs": [],
   "source": [
    "# Solve model\n",
    "m.optimize()"
   ]
  },
  {
   "cell_type": "code",
   "execution_count": 460,
   "metadata": {},
   "outputs": [
    {
     "name": "stdout",
     "output_type": "stream",
     "text": [
      "Student 0, in course 0\tyes\n",
      "Student 0, in course 1\tno\n",
      "Student 0, in course 2\tno\n",
      "Student 0, in course 3\tyes\n",
      "\n",
      "\n",
      "Student 1, in course 0\tyes\n",
      "Student 1, in course 1\tno\n",
      "Student 1, in course 2\tyes\n",
      "Student 1, in course 3\tno\n",
      "\n",
      "\n",
      "Student 2, in course 0\tno\n",
      "Student 2, in course 1\tyes\n",
      "Student 2, in course 2\tyes\n",
      "Student 2, in course 3\tno\n",
      "\n",
      "\n",
      "Student 3, in course 0\tno\n",
      "Student 3, in course 1\tyes\n",
      "Student 3, in course 2\tno\n",
      "Student 3, in course 3\tyes\n",
      "\n",
      "\n",
      "Student 4, in course 0\tyes\n",
      "Student 4, in course 1\tno\n",
      "Student 4, in course 2\tyes\n",
      "Student 4, in course 3\tno\n",
      "\n",
      "\n",
      "Student 5, in course 0\tyes\n",
      "Student 5, in course 1\tno\n",
      "Student 5, in course 2\tyes\n",
      "Student 5, in course 3\tno\n",
      "\n",
      "\n",
      "\n",
      "\n",
      "Course 0 to be taught in period  1\n",
      "Course 1 to be taught in period  1\n",
      "Course 2 to be taught in period  0\n",
      "Course 3 to be taught in period  0\n",
      "\n",
      "\n",
      "Course 0 has 4 seats filled of a possible 4\n",
      "Course 1 has 2 seats filled of a possible 4\n",
      "Course 2 has 4 seats filled of a possible 4\n",
      "Course 3 has 2 seats filled of a possible 4\n"
     ]
    }
   ],
   "source": [
    "# Look at output\n",
    "if m.getStatus() == \"optimal\":\n",
    "    # Display which courses each student is assigned to\n",
    "    for i in S:\n",
    "        for j in C:\n",
    "            s = str(X[i,j])\n",
    "            if m.getVal(X[i,j]) == 1:\n",
    "                print(s + \"\\tyes\")\n",
    "            else:\n",
    "                print(s + \"\\tno\")\n",
    "                #pass\n",
    "        print(\"\\n\")\n",
    "\n",
    "    # Display which periods courses are assigned to\n",
    "    print(\"\\n\")\n",
    "    for j in C:\n",
    "        for t in T:\n",
    "            s = str(Course[j,t])\n",
    "            if m.getVal(Course[j,t]) == 1:\n",
    "                print(\"Course \" + str(j) + \" to be taught in period \", str(t))\n",
    "                \n",
    "    # Display the enrollment totals for each course\n",
    "    print(\"\\n\")\n",
    "    for j in C:\n",
    "        size = 0\n",
    "        for i in S:\n",
    "            if m.getVal(X[i,j]) == 1:\n",
    "                size += 1\n",
    "        print(\"Course\", j, \"has\", size, \"seats filled of a possible\", Cap[j])\n",
    "\n",
    "else:\n",
    "    print(\"The model is\", m.getStatus())"
   ]
  },
  {
   "cell_type": "markdown",
   "metadata": {},
   "source": [
    "## Current issues:\n",
    "- if I make the number of courses required for each student == 2 the courses are all taugh in the same period\n",
    "- if I make the number of courses required for each student <= 2 it looks okay\n",
    "- ** Therefore, the teacher constraint must be wrong **\n",
    "    - made a small patch, in this issue made the teacher constraint == 1 (so they have to teach a course, it was <= 0 before), and required each student to take 2 courses, seems okay?\n",
    "- Course Caps are being exceeded\n",
    "    - I think the caps aren't the problem, but the proximity constraint (if I keep the small caps, but do not include the proximity constraint, then the problem has a solution)\n",
    "    - ** The proximity constraints is THE problem **\n",
    "    - I added an if statment to including that constraint, only if they are not all zeros\n",
    "- It would be interesting to think about an \"eveness\" constraint, so classes have moderated sizes\""
   ]
  },
  {
   "cell_type": "code",
   "execution_count": null,
   "metadata": {
    "collapsed": true
   },
   "outputs": [],
   "source": []
  }
 ],
 "metadata": {
  "kernelspec": {
   "display_name": "Python 3",
   "language": "python",
   "name": "python3"
  },
  "language_info": {
   "codemirror_mode": {
    "name": "ipython",
    "version": 3
   },
   "file_extension": ".py",
   "mimetype": "text/x-python",
   "name": "python",
   "nbconvert_exporter": "python",
   "pygments_lexer": "ipython3",
   "version": "3.6.3"
  }
 },
 "nbformat": 4,
 "nbformat_minor": 2
}
