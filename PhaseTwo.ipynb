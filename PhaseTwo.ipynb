{
 "cells": [
  {
   "cell_type": "markdown",
   "metadata": {},
   "source": [
    "# Phase II Model Test\n",
    "First attempt at a Phase II model, one which creases the master schedule and assigns students to courses simultaneously."
   ]
  },
  {
   "cell_type": "markdown",
   "metadata": {},
   "source": [
    "$S$ -- Set of all students\n",
    "\n",
    "$C$ -- Set of all courses\n",
    "\n",
    "$T$ -- Set of all periods {1,2,3,4,7,8}\n",
    "\n",
    "$I$ -- Set of all instructors\n",
    "\n",
    "**Variables:**\n",
    "\n",
    "$x_{i,j,t}$ for  $i \\in S, j \\in C, t \\in T$ -- Binary, 1 if student $i$ assigned to course $j$ in period $t$\n",
    "\n",
    "$c_{j,t}$ for $j \\in C, t \\in T$ -- Binary, 1 if course $j$ to be offered in period $t$\n",
    "\n",
    "$t_{k,j,t}$ for $k \\in I, j \\in C, t \\in T$ -- Binary, 1 if teacher $k$ teaching course $j$ in period $t$\n",
    "\n",
    "** Parameters:**\n",
    "\n",
    "$P_{i,j}$ -- Preference for student $i$ on course $j$\n",
    "\n",
    "$S_i$ -- Seniority constant, e.g., higher for seniors\n",
    "\n",
    "$D_{i,j}$ -- Binary, 1 if course $i$ and $j$ are in the same department, i.e., if they meet the same requirement, e.g., highschool math\n",
    "\n",
    "$T_{i,j}$ -- Binary, 1 if teacher $i$ is teaching course $j$\n",
    "\n",
    "$Cap_j$ -- Capacity of course $j$\n",
    "\n",
    "\n",
    "** Constraints: **\n",
    "\n",
    "$\\sum_{j} x_{i,j,t} =1 \\quad \\forall i \\in S, t \\in T$ -- Says students can be assigned to exactly one course per period.\n",
    "\n",
    "$\\sum_{t \\neq T} \\sum_{i \\in C} \\sum_{j \\neq i \\in C} D_{i,j} x_{k,i,t} = 0 \\quad \\forall k \\in S, T \\in T$ -- Says that students are not assigned to more than 1 class in each department (could always change to more nuanced number of courses per department--how???)\n",
    "\n",
    "$\\sum_{t \\in T} c_{j,t} = 1 \\quad \\forall j \\in C$ -- Says that each course taught only once\n",
    "\n",
    "$\\sum_{i \\in S} x_{i,j,t} \\leq Cap_j \\quad \\forall j \\in C, t \\in T$ -- Course capacity constraint"
   ]
  },
  {
   "cell_type": "code",
   "execution_count": 2,
   "metadata": {},
   "outputs": [],
   "source": [
    "from pyscipopt import Model, quicksum\n",
    "import numpy as np"
   ]
  },
  {
   "cell_type": "code",
   "execution_count": 23,
   "metadata": {
    "collapsed": true
   },
   "outputs": [],
   "source": [
    "# set up some fake data\n",
    "## Sets\n",
    "S = [0,1,2,3,4,5] # 6 students\n",
    "C = [0,1,2,3] # 4 courses\n",
    "T = [0,1] # two periods\n",
    "\n",
    "## Preferences\n",
    "#     0    1    2    3  -- Courses\n",
    "P = [[1,   0,   1,   0], # student 0\n",
    "     [0,   1,   1,   0], # student 1\n",
    "     [0,   1,   0,   1], # student 2\n",
    "     [1,   0,   0,   1], # student 3\n",
    "     [1,   0,   1,   0], # student 4\n",
    "     [0,   1,   1,   0]] # student 5\n",
    "\n",
    "## Capacity\n",
    "Cap = [3, 3, 3, 3]\n",
    "\n",
    "## Course Proximity\n",
    "#     0    1    2    3  -- Courses\n",
    "D = [[0,   0,   0,   0], # 0 \n",
    "     [0,   0,   1,   0], # 1\n",
    "     [0,   1,   0,   1], # 2\n",
    "     [1,   0,   0,   0]]"
   ]
  },
  {
   "cell_type": "code",
   "execution_count": 19,
   "metadata": {},
   "outputs": [],
   "source": [
    "# Setup model\n",
    "m = Model(\"test\")"
   ]
  },
  {
   "cell_type": "markdown",
   "metadata": {},
   "source": [
    "## Note, in the below I do not have a period index on students, I couldn't figure out how to work it"
   ]
  },
  {
   "cell_type": "code",
   "execution_count": 20,
   "metadata": {},
   "outputs": [],
   "source": [
    "# Add Student Variables\n",
    "X = {} # Variable dictionary\n",
    "for i in S:\n",
    "    for j in C:\n",
    "            name = \"Student \" + str(i) + \", in course \" + str(j)\n",
    "            X[i,j] = m.addVar(name, vtype = 'B')"
   ]
  },
  {
   "cell_type": "code",
   "execution_count": 21,
   "metadata": {
    "collapsed": true
   },
   "outputs": [],
   "source": [
    "# Add Student assignment constraint\n",
    "for i in S:\n",
    "        m.addCons(quicksum(X[i,j] for j in C) == 1)"
   ]
  },
  {
   "cell_type": "code",
   "execution_count": 22,
   "metadata": {
    "collapsed": true
   },
   "outputs": [],
   "source": [
    "# Add capacity constraint\n",
    "for j in C:\n",
    "    m.addCons(quicksum(X[i,j] for i in S) <= Cap[j])"
   ]
  },
  {
   "cell_type": "code",
   "execution_count": 36,
   "metadata": {},
   "outputs": [
    {
     "ename": "TypeError",
     "evalue": "list indices must be integers or slices, not tuple",
     "output_type": "error",
     "traceback": [
      "\u001b[0;31m---------------------------------------------------------------------------\u001b[0m",
      "\u001b[0;31mTypeError\u001b[0m                                 Traceback (most recent call last)",
      "\u001b[0;32m<ipython-input-36-6e4d98bd4dbc>\u001b[0m in \u001b[0;36m<module>\u001b[0;34m()\u001b[0m\n\u001b[1;32m      1\u001b[0m \u001b[0;31m# Add course proximity constraint\u001b[0m\u001b[0;34m\u001b[0m\u001b[0;34m\u001b[0m\u001b[0m\n\u001b[1;32m      2\u001b[0m \u001b[0;32mfor\u001b[0m \u001b[0mk\u001b[0m \u001b[0;32min\u001b[0m \u001b[0mS\u001b[0m\u001b[0;34m:\u001b[0m\u001b[0;34m\u001b[0m\u001b[0m\n\u001b[0;32m----> 3\u001b[0;31m     \u001b[0mm\u001b[0m\u001b[0;34m.\u001b[0m\u001b[0maddCons\u001b[0m\u001b[0;34m(\u001b[0m\u001b[0mquicksum\u001b[0m\u001b[0;34m(\u001b[0m\u001b[0mD\u001b[0m\u001b[0;34m[\u001b[0m\u001b[0mi\u001b[0m\u001b[0;34m,\u001b[0m\u001b[0mj\u001b[0m\u001b[0;34m]\u001b[0m\u001b[0;34m*\u001b[0m\u001b[0mX\u001b[0m\u001b[0;34m[\u001b[0m\u001b[0mk\u001b[0m\u001b[0;34m,\u001b[0m\u001b[0mi\u001b[0m\u001b[0;34m]\u001b[0m \u001b[0;32mfor\u001b[0m \u001b[0mj\u001b[0m \u001b[0;32min\u001b[0m \u001b[0mlist\u001b[0m\u001b[0;34m(\u001b[0m \u001b[0mset\u001b[0m\u001b[0;34m(\u001b[0m\u001b[0mC\u001b[0m\u001b[0;34m)\u001b[0m \u001b[0;34m-\u001b[0m \u001b[0mset\u001b[0m\u001b[0;34m(\u001b[0m\u001b[0;34m[\u001b[0m\u001b[0mi\u001b[0m\u001b[0;34m]\u001b[0m\u001b[0;34m)\u001b[0m\u001b[0;34m)\u001b[0m \u001b[0;32mfor\u001b[0m \u001b[0mi\u001b[0m \u001b[0;32min\u001b[0m \u001b[0mC\u001b[0m\u001b[0;34m)\u001b[0m\u001b[0;34m)\u001b[0m\u001b[0;34m\u001b[0m\u001b[0m\n\u001b[0m",
      "\u001b[0;32msrc/pyscipopt/expr.pxi\u001b[0m in \u001b[0;36mpyscipopt.scip.quicksum\u001b[0;34m()\u001b[0m\n",
      "\u001b[0;32m<ipython-input-36-6e4d98bd4dbc>\u001b[0m in \u001b[0;36m<genexpr>\u001b[0;34m(.0)\u001b[0m\n\u001b[1;32m      1\u001b[0m \u001b[0;31m# Add course proximity constraint\u001b[0m\u001b[0;34m\u001b[0m\u001b[0;34m\u001b[0m\u001b[0m\n\u001b[1;32m      2\u001b[0m \u001b[0;32mfor\u001b[0m \u001b[0mk\u001b[0m \u001b[0;32min\u001b[0m \u001b[0mS\u001b[0m\u001b[0;34m:\u001b[0m\u001b[0;34m\u001b[0m\u001b[0m\n\u001b[0;32m----> 3\u001b[0;31m     \u001b[0mm\u001b[0m\u001b[0;34m.\u001b[0m\u001b[0maddCons\u001b[0m\u001b[0;34m(\u001b[0m\u001b[0mquicksum\u001b[0m\u001b[0;34m(\u001b[0m\u001b[0mD\u001b[0m\u001b[0;34m[\u001b[0m\u001b[0mi\u001b[0m\u001b[0;34m,\u001b[0m\u001b[0mj\u001b[0m\u001b[0;34m]\u001b[0m\u001b[0;34m*\u001b[0m\u001b[0mX\u001b[0m\u001b[0;34m[\u001b[0m\u001b[0mk\u001b[0m\u001b[0;34m,\u001b[0m\u001b[0mi\u001b[0m\u001b[0;34m]\u001b[0m \u001b[0;32mfor\u001b[0m \u001b[0mj\u001b[0m \u001b[0;32min\u001b[0m \u001b[0mlist\u001b[0m\u001b[0;34m(\u001b[0m \u001b[0mset\u001b[0m\u001b[0;34m(\u001b[0m\u001b[0mC\u001b[0m\u001b[0;34m)\u001b[0m \u001b[0;34m-\u001b[0m \u001b[0mset\u001b[0m\u001b[0;34m(\u001b[0m\u001b[0;34m[\u001b[0m\u001b[0mi\u001b[0m\u001b[0;34m]\u001b[0m\u001b[0;34m)\u001b[0m\u001b[0;34m)\u001b[0m \u001b[0;32mfor\u001b[0m \u001b[0mi\u001b[0m \u001b[0;32min\u001b[0m \u001b[0mC\u001b[0m\u001b[0;34m)\u001b[0m\u001b[0;34m)\u001b[0m\u001b[0;34m\u001b[0m\u001b[0m\n\u001b[0m",
      "\u001b[0;31mTypeError\u001b[0m: list indices must be integers or slices, not tuple"
     ]
    }
   ],
   "source": [
    "# Add course proximity constraint\n",
    "for k in S:\n",
    "    m.addCons(quicksum(D[i,j]*X[k,i] for j in list( set(C) - set([i])) for i in C))"
   ]
  },
  {
   "cell_type": "code",
   "execution_count": 79,
   "metadata": {},
   "outputs": [],
   "source": [
    "# Add course proximity constraint (without quicksum)\n",
    "for k in S:\n",
    "    expr = 0 # reset expression (should not have impact)\n",
    "    for i in C:\n",
    "        small_set = list(set(C) - set([int(i)])) # C - {i} list of courses without course i\n",
    "        for j in small_set:\n",
    "            expr = expr + D[i][j]*X[k,i]\n",
    "    m.addCons(expr == 0)"
   ]
  },
  {
   "cell_type": "code",
   "execution_count": 59,
   "metadata": {},
   "outputs": [
    {
     "data": {
      "text/plain": [
       "1"
      ]
     },
     "execution_count": 59,
     "metadata": {},
     "output_type": "execute_result"
    }
   ],
   "source": [
    "D[1][2]"
   ]
  },
  {
   "cell_type": "code",
   "execution_count": 69,
   "metadata": {},
   "outputs": [],
   "source": [
    "expr = X[1,2] + X[2,3]"
   ]
  },
  {
   "cell_type": "code",
   "execution_count": 40,
   "metadata": {},
   "outputs": [],
   "source": [
    "expr = expr + X[2,2]"
   ]
  },
  {
   "cell_type": "code",
   "execution_count": 42,
   "metadata": {},
   "outputs": [],
   "source": [
    "expr = expr - X[1,1]"
   ]
  },
  {
   "cell_type": "code",
   "execution_count": 51,
   "metadata": {},
   "outputs": [],
   "source": [
    "expr"
   ]
  },
  {
   "cell_type": "code",
   "execution_count": 49,
   "metadata": {},
   "outputs": [],
   "source": [
    "expr = None"
   ]
  },
  {
   "cell_type": "code",
   "execution_count": 34,
   "metadata": {},
   "outputs": [
    {
     "data": {
      "text/plain": [
       "[1, 2, 3]"
      ]
     },
     "execution_count": 34,
     "metadata": {},
     "output_type": "execute_result"
    }
   ],
   "source": [
    "list(set(C) - set([i]))"
   ]
  },
  {
   "cell_type": "code",
   "execution_count": 66,
   "metadata": {
    "collapsed": true
   },
   "outputs": [],
   "source": [
    "import pyscipopt"
   ]
  },
  {
   "cell_type": "code",
   "execution_count": 67,
   "metadata": {},
   "outputs": [
    {
     "ename": "AttributeError",
     "evalue": "module 'pyscipopt' has no attribute 'LinExpr'",
     "output_type": "error",
     "traceback": [
      "\u001b[0;31m---------------------------------------------------------------------------\u001b[0m",
      "\u001b[0;31mAttributeError\u001b[0m                            Traceback (most recent call last)",
      "\u001b[0;32m<ipython-input-67-fcf3a0435f17>\u001b[0m in \u001b[0;36m<module>\u001b[0;34m()\u001b[0m\n\u001b[0;32m----> 1\u001b[0;31m \u001b[0mpyscipopt\u001b[0m\u001b[0;34m.\u001b[0m\u001b[0mLinExpr\u001b[0m\u001b[0;34m(\u001b[0m\u001b[0;34m)\u001b[0m\u001b[0;34m\u001b[0m\u001b[0m\n\u001b[0m",
      "\u001b[0;31mAttributeError\u001b[0m: module 'pyscipopt' has no attribute 'LinExpr'"
     ]
    }
   ],
   "source": [
    "pyscipopt.LinExpr()"
   ]
  },
  {
   "cell_type": "code",
   "execution_count": 70,
   "metadata": {},
   "outputs": [
    {
     "data": {
      "text/plain": [
       "Expr({Term(Student 1, in course 2): 1.0, Term(Student 2, in course 3): 1.0})"
      ]
     },
     "execution_count": 70,
     "metadata": {},
     "output_type": "execute_result"
    }
   ],
   "source": [
    "expr"
   ]
  },
  {
   "cell_type": "code",
   "execution_count": 73,
   "metadata": {},
   "outputs": [
    {
     "ename": "SyntaxError",
     "evalue": "invalid syntax (<ipython-input-73-f67df4745e89>, line 1)",
     "output_type": "error",
     "traceback": [
      "\u001b[0;36m  File \u001b[0;32m\"<ipython-input-73-f67df4745e89>\"\u001b[0;36m, line \u001b[0;32m1\u001b[0m\n\u001b[0;31m    new pyscipopt.Expr()\u001b[0m\n\u001b[0m                ^\u001b[0m\n\u001b[0;31mSyntaxError\u001b[0m\u001b[0;31m:\u001b[0m invalid syntax\n"
     ]
    }
   ],
   "source": [
    "new pyscipopt.Expr()"
   ]
  },
  {
   "cell_type": "code",
   "execution_count": 76,
   "metadata": {
    "collapsed": true
   },
   "outputs": [],
   "source": [
    "expr = 0"
   ]
  },
  {
   "cell_type": "code",
   "execution_count": 77,
   "metadata": {
    "collapsed": true
   },
   "outputs": [],
   "source": [
    "expr = expr + X[1,1]"
   ]
  },
  {
   "cell_type": "code",
   "execution_count": 78,
   "metadata": {},
   "outputs": [
    {
     "data": {
      "text/plain": [
       "Expr({Term(Student 1, in course 1): 1.0, Term(): 0.0})"
      ]
     },
     "execution_count": 78,
     "metadata": {},
     "output_type": "execute_result"
    }
   ],
   "source": [
    "expr"
   ]
  },
  {
   "cell_type": "code",
   "execution_count": null,
   "metadata": {
    "collapsed": true
   },
   "outputs": [],
   "source": []
  }
 ],
 "metadata": {
  "kernelspec": {
   "display_name": "Python 3",
   "language": "python",
   "name": "python3"
  },
  "language_info": {
   "codemirror_mode": {
    "name": "ipython",
    "version": 3
   },
   "file_extension": ".py",
   "mimetype": "text/x-python",
   "name": "python",
   "nbconvert_exporter": "python",
   "pygments_lexer": "ipython3",
   "version": "3.6.3"
  }
 },
 "nbformat": 4,
 "nbformat_minor": 2
}
