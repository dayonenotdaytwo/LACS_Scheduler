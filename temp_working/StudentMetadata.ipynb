{
 "cells": [
  {
   "cell_type": "code",
   "execution_count": 1,
   "metadata": {
    "collapsed": true
   },
   "outputs": [],
   "source": [
    "import numpy as np\n",
    "import pandas as pd"
   ]
  },
  {
   "cell_type": "code",
   "execution_count": 92,
   "metadata": {
    "collapsed": true
   },
   "outputs": [],
   "source": [
    "class Student:\n",
    "    def __init__(self, email, first_name, last_name, s_id, grade ):\n",
    "        self.email = email    # instance variable unique to each instance\n",
    "        self.first_name = first_name \n",
    "        self.last_name = last_name \n",
    "        self.s_id = s_id \n",
    "        self.grade = grade "
   ]
  },
  {
   "cell_type": "code",
   "execution_count": 93,
   "metadata": {
    "collapsed": true
   },
   "outputs": [],
   "source": [
    "def metadata(HSF, MSF):\n",
    "    # returns a dictionary of Student objects\n",
    "    # Student keys correspond to str(row) from the processed preferences data\n",
    "    \n",
    "    # load data\n",
    "    hs_response = pd.read_csv(HSF)\n",
    "    ms_response = pd.read_csv(MSF)\n",
    "    \n",
    "    # get metadata cols\n",
    "    hs_data = hs_response.iloc[:, :6]\n",
    "    ms_data = ms_response.iloc[:, :6]\n",
    "\n",
    "    # create dictionary to store Students\n",
    "    students = {}\n",
    "\n",
    "    for i, row in hs_data.iterrows():\n",
    "        students[str(i)] = Student(row[1], row[2], row[3], row[4], row[5])\n",
    "\n",
    "    ms_start_index = hs_data.shape[0]\n",
    "    for i, row in ms_data.iterrows():\n",
    "        students[str(i + ms_start_index)] = Student(row[1], row[2], row[3], row[4], row[5])\n",
    "        \n",
    "    return students\n",
    "\n",
    "students = metadata(\"HSF_5_4.csv\", \"MSF_5_4.csv\")"
   ]
  },
  {
   "cell_type": "code",
   "execution_count": 4,
   "metadata": {},
   "outputs": [
    {
     "name": "stdout",
     "output_type": "stream",
     "text": [
      "glen.cullings@icsd.k12.ny.us\n",
      "Cullings\n",
      "Glen\n",
      "11.0\n",
      "70005122\n"
     ]
    }
   ],
   "source": [
    "student = students[str(12)]\n",
    "\n",
    "print(student.email)\n",
    "print(student.first_name)\n",
    "print(student.last_name)\n",
    "print(student.grade)\n",
    "print(student.s_id)"
   ]
  },
  {
   "cell_type": "code",
   "execution_count": 5,
   "metadata": {
    "collapsed": true
   },
   "outputs": [],
   "source": [
    "def num_courses(LP_Input, HSF, MSF):\n",
    "    # returns a dictionary with num classes by dept for each student\n",
    "    \n",
    "    # load data\n",
    "    hs_response = pd.read_csv(HSF)\n",
    "    ms_response = pd.read_csv(MSF)\n",
    "    LP_Input =  pd.read_csv(LP_Input)\n",
    "    \n",
    "    # get list of depts\n",
    "    hs_depts= set(LP_Input[\"HS Category\"])\n",
    "    ms_depts= set(LP_Input[\"MS Category\"])\n",
    "\n",
    "    hs_depts = [d for d in hs_depts if str(d) != 'nan']\n",
    "    ms_depts = [d for d in ms_depts if str(d) != 'nan']\n",
    "\n",
    "    temp = []\n",
    "    for d in hs_depts:\n",
    "        if '&' in d: # cross listed categories\n",
    "            d1 = d.split('&')[0].strip()\n",
    "            d2 = d.split('&')[1].strip()\n",
    "            temp.extend([d1, d2])\n",
    "        else: temp.append(d)\n",
    "    hs_depts = sorted(list(set(temp)))\n",
    "\n",
    "\n",
    "    temp = []\n",
    "    for d in ms_depts:\n",
    "        if '&' in d: # cross listed categories\n",
    "            d1 = d.split('&')[0].strip()\n",
    "            d2 = d.split('&')[1].strip()\n",
    "            temp.extend([d1, d2])\n",
    "        else: temp.append(d)\n",
    "    ms_depts = sorted(list(set(temp)))\n",
    "\n",
    "    # get cols where num course responses are\n",
    "    hs_data = hs_response.iloc[:, 28:36]\n",
    "    ms_data = ms_response.iloc[:, 31:42]\n",
    "    \n",
    "    # generate dictionaries for MS and HS depts\n",
    "    num_ms = ms_data.shape[0]     # ms offset\n",
    "    hs_num_courses = {} \n",
    "    for d in hs_depts: \n",
    "        col = hs_data.filter(like='[' + str(d)).columns\n",
    "        if(len(col) > 0):\n",
    "            n = hs_data[col[0]].append(pd.Series(np.zeros(num_ms))).reset_index(drop=True)\n",
    "            hs_num_courses[d] = n\n",
    "\n",
    "    num_hs = hs_data.shape[0]    # hs offset    \n",
    "    ms_num_courses = {}\n",
    "    for d in ms_depts: \n",
    "        col = ms_data.filter(like='[' + str(d)).columns\n",
    "        if(len(col) > 0):\n",
    "            n = pd.Series(np.zeros(num_hs)).append(ms_data[col[0]]).reset_index(drop=True)\n",
    "            ms_num_courses[d] = n\n",
    "    \n",
    "    # combine dictionaries\n",
    "    num_courses_dict = ms_num_courses.copy()\n",
    "    num_courses_dict.update(hs_num_courses)\n",
    "    \n",
    "    return num_courses_dict"
   ]
  },
  {
   "cell_type": "code",
   "execution_count": null,
   "metadata": {},
   "outputs": [],
   "source": [
    "num_courses(\"LP_Input.csv\", \"HSF_5_4.csv\", \"MSF_5_4.csv\")"
   ]
  },
  {
   "cell_type": "code",
   "execution_count": null,
   "metadata": {},
   "outputs": [],
   "source": [
    "# impute 6th grade dummies: look at what courses they take\n",
    "old_6th = pd.read_excel('6thGradeChoices.xlsx', header = None)\n",
    "sorted(old_6th[0].unique())"
   ]
  },
  {
   "cell_type": "code",
   "execution_count": 102,
   "metadata": {},
   "outputs": [],
   "source": [
    "def sim6(num_6th, HSF, MSF, processed_pref_data):\n",
    "    # simulate 6th graders with a first choice pref over all courses that they could take\n",
    "    \n",
    "    num_6th = 40\n",
    "    choices =  ['Inquiry and Tools', 'People and Literature', \n",
    "                '6th Grade Art', 'Computer Literacy', 'MS Science (Debbie Cowell)',\n",
    "                'MS Science (Natty Simpson)', 'Roots Music', 'Street Band', \n",
    "                'Fiber Tech','MS PE', 'MS/HS PE', 'Spanish A', \"Spanish B\"]\n",
    "\n",
    "    pref_data = pd.read_csv(processed_pref_data, index_col = 0)\n",
    "    start_idx_6th = len(pref_data)\n",
    "    course_list = pref_data.columns\n",
    "\n",
    "    ix = np.isin(list(course_list), choices)\n",
    "    prefs = ix.astype(int)\n",
    "\n",
    "    sixth_graders = np.tile(prefs, num_6th).reshape((num_6th,len(course_list))) # sim 6th graders as np array\n",
    "    sixth_graders_df = pd.DataFrame(sixth_graders , columns=course_list) # sim 6th graders as df\n",
    "\n",
    "    pref_data = pref_data.append(sixth_graders_df, ignore_index = True)\n",
    "    pref_data.to_csv(\"processed_preference_data_with6.csv\")\n",
    "    \n",
    "    # add 6th graders to student dictionary\n",
    "    students = metadata(HSF, MSF)\n",
    "\n",
    "    for s in np.arange(start_idx_6th, start_idx_6th + num_6th): \n",
    "        # email, first_name, last_name, s_id, grade\n",
    "        students[str(s)] = Student('DummyEmail'+str(s), 'DummyFName'+str(s), 'DummyLName'+str(s), 'DummyID'+str(s), '6')\n",
    "    \n",
    "    return students"
   ]
  },
  {
   "cell_type": "code",
   "execution_count": 103,
   "metadata": {},
   "outputs": [
    {
     "data": {
      "text/plain": [
       "'DummyEmail202'"
      ]
     },
     "execution_count": 103,
     "metadata": {},
     "output_type": "execute_result"
    }
   ],
   "source": [
    "sim6_students = sim6(40, \"HSF_5_4.csv\", \"MSF_5_4.csv\", \"processed_preference_data.csv\")\n",
    "sim6_students['202'].email"
   ]
  },
  {
   "cell_type": "code",
   "execution_count": null,
   "metadata": {
    "collapsed": true
   },
   "outputs": [],
   "source": [
    "sim6_students"
   ]
  }
 ],
 "metadata": {
  "kernelspec": {
   "display_name": "Python [conda env:py36]",
   "language": "python",
   "name": "conda-env-py36-py"
  },
  "language_info": {
   "codemirror_mode": {
    "name": "ipython",
    "version": 3
   },
   "file_extension": ".py",
   "mimetype": "text/x-python",
   "name": "python",
   "nbconvert_exporter": "python",
   "pygments_lexer": "ipython3",
   "version": "3.6.4"
  }
 },
 "nbformat": 4,
 "nbformat_minor": 2
}
