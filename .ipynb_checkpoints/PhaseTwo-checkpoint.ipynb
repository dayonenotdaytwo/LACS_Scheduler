{
 "cells": [
  {
   "cell_type": "markdown",
   "metadata": {},
   "source": [
    "# Phase II Model Test\n",
    "First attempt at a Phase II model, one which creases the master schedule and assigns students to courses simultaneously."
   ]
  },
  {
   "cell_type": "markdown",
   "metadata": {},
   "source": [
    "$S$ -- Set of all students\n",
    "\n",
    "$C$ -- Set of all courses\n",
    "\n",
    "$T$ -- Set of all periods {1,2,3,4,7,8} *smaller in this test model*\n",
    "\n",
    "$I$ -- Set of all instructors\n",
    "\n",
    "**Variables:**\n",
    "\n",
    "$x_{i,j}$ for  $i \\in S, j \\in C$ -- Binary, 1 if student $i$ assigned to course $j$ \n",
    "\n",
    "$c_{j,t}$ for $j \\in C, t \\in T$ -- Binary, 1 if course $j$ to be offered in period $t$\n",
    "\n",
    "** Parameters:**\n",
    "\n",
    "$P_{i,j}$ -- Preference for student $i$ on course $j$\n",
    "\n",
    "$S_i$ -- Seniority constant, e.g., higher for seniors\n",
    "\n",
    "$D_{i,j}$ -- Binary, 1 if course $i$ and $j$ are in the same department, i.e., if they meet the same requirement, e.g., highschool math\n",
    "\n",
    "$Ta_{i,j}$ -- Binary, 1 if teacher $i$ is teaching course $j$\n",
    "\n",
    "$Cap_j$ -- Capacity of course $j$\n",
    "\n",
    "$Min_j$ -- Minimum number of students needed for course $j$\n",
    "\n",
    "\n",
    "** Constraints: **\n",
    "\n",
    "$\\sum_{j} x_{i,j} =2 \\quad \\forall i \\in S$ -- Says students can be assigned to two courses (full course load).\n",
    "\n",
    "$\\sum_{j} x_{i,j}c_{j,t} \\quad \\forall i \\in S, t \\in T$ -- Students assigned to at most one course per period (now this in conjunction with the previous constraint ensures it is exactly one per period).\n",
    "\n",
    "$\\sum_{i \\in C} \\sum_{j \\neq i \\in C} D_{i,j} x_{k,i} = 0 \\quad \\forall k \\in S$ -- Says that students are not assigned to more than 1 class in each department (could always change to more nuanced number of courses per department)\n",
    "\n",
    "** New way of above constraint: **  \n",
    "$\\sum_{j \\neq i \\in C} D_{i,j} x_{k,i} = 0 \\quad \\forall k \\in S, \\forall i \\in C$\n",
    "\n",
    "$\\sum_{t \\in T} c_{j,t} = 1 \\quad \\forall j \\in C$ -- Says that each course taught only once\n",
    "\n",
    "$\\sum_{i \\in S} x_{i,j} \\leq Cap_j \\quad \\forall j \\in C$ -- Course capacity constraint\n",
    "\n",
    "$\\sum_{j \\in C} c_{j,t} Ta_{k,j} \\leq 1  \\quad \\forall k \\in I, \\forall t \\in T$ -- Teacher constraint (a teacher can teach at most one course per period), where $Ta_{k,j}$ is a parameter, not a variable\n",
    "\n",
    "** Objective: **\n",
    "\n",
    "$ \\text{max }\\sum_{i \\in S} \\sum_{j \\in C} x_{i,j} P_{i,j} $ -- Assuming preferences take a higher value if they are a student's preferred choice, this will give a higher weight to higher assignments (at this point, I am leaving out the seniority multiplier)."
   ]
  },
  {
   "cell_type": "code",
   "execution_count": 1,
   "metadata": {
    "collapsed": true
   },
   "outputs": [],
   "source": [
    "from pyscipopt import Model, quicksum\n",
    "import numpy as np"
   ]
  },
  {
   "cell_type": "code",
   "execution_count": 126,
   "metadata": {
    "collapsed": true
   },
   "outputs": [],
   "source": [
    "# set up some fake data\n",
    "## Sets\n",
    "S = [0,1,2,3,4,5] # 6 students\n",
    "C = [0,1,2,3] # 4 courses\n",
    "T = [0,1] # 2 periods\n",
    "I = [0,1] # 2 instructors\n",
    "\n",
    "## Preferences\n",
    "#     0    1    2    3  -- Courses\n",
    "P = [[1,   0,   2,   1], # student 0\n",
    "     [0,   2,   1,   1], # student 1\n",
    "     [1,   2,   0,   1], # student 2\n",
    "     [1,   1,   0,   2], # student 3\n",
    "     [1,   1,   1,   0], # student 4\n",
    "     [0,   2,   1,   1]] # student 5\n",
    "\n",
    "#     0    1    2    3  -- Courses\n",
    "# P = [[1,   1,   1,   1], # student 0\n",
    "#      [1,   1,   1,   1], # student 1\n",
    "#      [1,   1,   1,   1], # student 2\n",
    "#      [1,   1,   1,   1], # student 3\n",
    "#      [1,   1,   1,   1], # student 4\n",
    "#      [1,   1,   1,   1]] # student 5\n",
    "\n",
    "## Capacity\n",
    "#Cap = [5, 5, 5, 5]\n",
    "Cap = [4]*4\n",
    "Min = [2]*4\n",
    "\n",
    "## Course Proximity\n",
    "# Lets say courses 0 and 1 are in the same department, and a student must have \n",
    "# at most one of these courses (or exactly one if the constraint is == 1)\n",
    "#     0    1    2    3  -- Courses\n",
    "D_1= [[0,   1,   0,   0], # 0 \n",
    "     [1,   0,   0,   0], # 1\n",
    "     [0,   0,   0,   0], # 2\n",
    "     [0,   0,   0,   0]] # 3\n",
    "\n",
    "D_2= [[0,   0,   0,   1], # 0 \n",
    "     [0,   0,   0,   0], # 1\n",
    "     [0,   0,   0,   0], # 2\n",
    "     [1,   0,   0,   0]] # 3\n",
    "\n",
    "# Check that it is symetric\n",
    "if not np.array_equal(np.transpose(D), D):\n",
    "    raise ValueError(\"D matrix is not symetric\")\n",
    "\n",
    "## Teacher Assignments\n",
    "#     0    1    2    3  -- Courses\n",
    "Ta = [[1,   0,   1,  0],  # Teacher 1\n",
    "      [0,   1,   0,  1]]  # Teacher 2\n",
    "\n",
    "#     0    1    2    3  -- Courses\n",
    "Ta = [[1,   1,   0,  0],  # Teacher 1\n",
    "      [0,   0,   1,  1]]  # Teacher 2"
   ]
  },
  {
   "cell_type": "code",
   "execution_count": 127,
   "metadata": {
    "collapsed": true
   },
   "outputs": [],
   "source": [
    "# Setup model\n",
    "m = Model(\"test\")"
   ]
  },
  {
   "cell_type": "code",
   "execution_count": 128,
   "metadata": {
    "collapsed": true
   },
   "outputs": [],
   "source": [
    "# Add Student Variables\n",
    "X = {} # Variable dictionary\n",
    "for i in S:\n",
    "    for j in C:\n",
    "            name = \"Student \" + str(i) + \", in course \" + str(j)\n",
    "            X[i,j] = m.addVar(name, vtype = 'B')"
   ]
  },
  {
   "cell_type": "code",
   "execution_count": 129,
   "metadata": {
    "collapsed": true
   },
   "outputs": [],
   "source": [
    "# Add Course Variable\n",
    "Course = {} # Variable dictionary\n",
    "for j in C:\n",
    "    for t in T:\n",
    "        name = \"Course \" + str(j) + \" in period \" + str(t)\n",
    "        Course[j,t] = m.addVar(name, vtype='B')"
   ]
  },
  {
   "cell_type": "code",
   "execution_count": 130,
   "metadata": {
    "collapsed": true
   },
   "outputs": [],
   "source": [
    "# Add Student assignment constraint (must have two classes)\n",
    "for i in S:\n",
    "        m.addCons(quicksum(X[i,j] for j in C) == 2)"
   ]
  },
  {
   "cell_type": "code",
   "execution_count": 131,
   "metadata": {
    "collapsed": true
   },
   "outputs": [],
   "source": [
    "# Add student period constraint\n",
    "for i in S:\n",
    "    for t in T:\n",
    "        m.addCons(quicksum(X[i,j]*Course[j,t] for j in C) <= 1)"
   ]
  },
  {
   "cell_type": "code",
   "execution_count": 132,
   "metadata": {
    "collapsed": true
   },
   "outputs": [],
   "source": [
    "# Add capacity and minimum constraint\n",
    "for j in C:\n",
    "    m.addCons(quicksum(X[i,j] for i in S) <= Cap[j])\n",
    "    m.addCons(quicksum(X[i,j] for i in S) >= Min[j])"
   ]
  },
  {
   "cell_type": "code",
   "execution_count": 133,
   "metadata": {
    "collapsed": true
   },
   "outputs": [],
   "source": [
    "# Add course proximity constraint (without quicksum)\n",
    "if not np.array_equal(D_1, np.zeros(np.array(D_1).shape)):\n",
    "    for k in S:\n",
    "        expr = 0 # reset expression (should not have impact)\n",
    "        for i in C:\n",
    "            small_set = list(set(C) - set([int(i)])) # C - {i} list of courses without course i\n",
    "            for j in small_set:\n",
    "                expr = expr + D_1[i][j]*X[k,i]  \n",
    "        m.addCons(expr == 1) # could swap this to >= or = if they must take \"at least\" one course\n",
    "        \n",
    "if not np.array_equal(D_2, np.zeros(np.array(D_1).shape)):\n",
    "    for k in S:\n",
    "        expr = 0 # reset expression (should not have impact)\n",
    "        for i in C:\n",
    "            small_set = list(set(C) - set([int(i)])) # C - {i} list of courses without course i\n",
    "            for j in small_set:\n",
    "                expr = expr + D_2[i][j]*X[k,i]  \n",
    "        m.addCons(expr == 1)"
   ]
  },
  {
   "cell_type": "markdown",
   "metadata": {},
   "source": [
    "The current thought is that we may do one of these *proximity matricies* for each area of study, so they can say I need to take at least 1 math course, or I want to take at most 2 english courses. Hence, the two $D$ matricies above, just as a test."
   ]
  },
  {
   "cell_type": "code",
   "execution_count": 134,
   "metadata": {
    "collapsed": true
   },
   "outputs": [],
   "source": [
    "# Teacher Constraint\n",
    "for k in I:\n",
    "    for t in T:\n",
    "        m.addCons(quicksum(Course[j,t]*Ta[k][j] for j in C) == 1)"
   ]
  },
  {
   "cell_type": "code",
   "execution_count": 135,
   "metadata": {
    "collapsed": true
   },
   "outputs": [],
   "source": [
    "# Course Taught only once Constraint\n",
    "for j in C:\n",
    "    m.addCons(quicksum(Course[j,t] for t in T) == 1)"
   ]
  },
  {
   "cell_type": "code",
   "execution_count": 136,
   "metadata": {
    "collapsed": true
   },
   "outputs": [],
   "source": [
    "# Set objective\n",
    "m.setObjective(quicksum(X[i,j]*P[i][j] for i in S for j in C), \"maximize\")"
   ]
  },
  {
   "cell_type": "code",
   "execution_count": 137,
   "metadata": {
    "collapsed": true
   },
   "outputs": [],
   "source": [
    "# Solve model\n",
    "m.optimize()"
   ]
  },
  {
   "cell_type": "code",
   "execution_count": 138,
   "metadata": {},
   "outputs": [
    {
     "name": "stdout",
     "output_type": "stream",
     "text": [
      "Student 0, in course 0:\tyes\n",
      "Student 0, in course 1:\tno\n",
      "Student 0, in course 2:\tyes\n",
      "Student 0, in course 3:\tno\n",
      "\n",
      "\n",
      "Student 1, in course 0:\tno\n",
      "Student 1, in course 1:\tyes\n",
      "Student 1, in course 2:\tno\n",
      "Student 1, in course 3:\tyes\n",
      "\n",
      "\n",
      "Student 2, in course 0:\tno\n",
      "Student 2, in course 1:\tyes\n",
      "Student 2, in course 2:\tno\n",
      "Student 2, in course 3:\tyes\n",
      "\n",
      "\n",
      "Student 3, in course 0:\tno\n",
      "Student 3, in course 1:\tyes\n",
      "Student 3, in course 2:\tno\n",
      "Student 3, in course 3:\tyes\n",
      "\n",
      "\n",
      "Student 4, in course 0:\tyes\n",
      "Student 4, in course 1:\tno\n",
      "Student 4, in course 2:\tyes\n",
      "Student 4, in course 3:\tno\n",
      "\n",
      "\n",
      "Student 5, in course 0:\tno\n",
      "Student 5, in course 1:\tyes\n",
      "Student 5, in course 2:\tno\n",
      "Student 5, in course 3:\tyes\n",
      "\n",
      "\n",
      "Course 0 to be taught in period 1\n",
      "Course 1 to be taught in period 0\n",
      "Course 2 to be taught in period 0\n",
      "Course 3 to be taught in period 1\n",
      "\n",
      "Capacities:\n",
      "Course 0: 2/4\n",
      "Course 1: 4/4\n",
      "Course 2: 2/4\n",
      "Course 3: 4/4\n",
      "\n",
      "Periods\n",
      "Course 0 taught in period 1\n",
      "Course 1 taught in period 0\n",
      "Course 2 taught in period 0\n",
      "Course 3 taught in period 1\n"
     ]
    }
   ],
   "source": [
    "# Look at output\n",
    "if m.getStatus() == \"optimal\":\n",
    "    # Display which courses each student is assigned to\n",
    "    for i in S:\n",
    "        for j in C:\n",
    "            s = str(X[i,j])\n",
    "            if m.getVal(X[i,j]) == 1:\n",
    "                print(s + \":\\tyes\")\n",
    "            else:\n",
    "                print(s + \":\\tno\")\n",
    "                #pass\n",
    "        print(\"\\n\")\n",
    "\n",
    "    # Display which periods courses are assigned to\n",
    "    for j in C:\n",
    "        for t in T:\n",
    "            s = str(Course[j,t])\n",
    "            if m.getVal(Course[j,t]) == 1:\n",
    "                print(\"Course \" + str(j) + \" to be taught in period\", str(t))\n",
    "                \n",
    "    # Display the enrollment totals for each course\n",
    "    print(\"\\nCapacities:\")\n",
    "    for j in C:\n",
    "        size = 0\n",
    "        for i in S:\n",
    "            if m.getVal(X[i,j]) == 1:\n",
    "                size += 1\n",
    "        #print(\"Course\", j, \"has\", size, \"seats filled of a possible\", Cap[j])\n",
    "        print(\"Course\", str(j)+\":\", str(size) + \"/\" + str(Cap[j]))\n",
    "        \n",
    "    # Display the period in which the course is taught:\n",
    "    print(\"\\nPeriods\")\n",
    "    for j in C:\n",
    "        for t in T:\n",
    "            if m.getVal(Course[j,t])==1:\n",
    "                print(\"Course\", j, \"taught in period\", t)\n",
    "\n",
    "else:\n",
    "    print(\"The model is\", m.getStatus())"
   ]
  },
  {
   "cell_type": "markdown",
   "metadata": {},
   "source": [
    "## Current issues:\n",
    "- if I make the number of courses required for each student == 2 the courses are all taugh in the same period\n",
    "- if I make the number of courses required for each student <= 2 it looks okay\n",
    "- ** Therefore, the teacher constraint must be wrong **\n",
    "    - made a small patch, in this issue made the teacher constraint == 1 (so they have to teach a course, it was <= 0 before), and required each student to take 2 courses, seems okay?\n",
    "    - It was *okay*, just wasn't checking to make sure solution I was looking at was optimal\n",
    "- Course Caps are being exceeded\n",
    "    - I think the caps aren't the problem, but the proximity constraint (if I keep the small caps, but do not include the proximity constraint, then the problem has a solution)\n",
    "    - ** The proximity constraints is THE problem **\n",
    "    - I added an if statment to including that constraint, only if they are not all zeros\n",
    "    - This is *okay* it wasn't the constraint as much as it was the data I was feeding in that was too restricitive, making the problem infeasible\n",
    "- It would be interesting to think about an \"eveness\" constraint, so classes have moderated sizes\"\n",
    "- If I make the proximity constraint <=1 then students are getting assigned to 2 courses in the same period\n",
    "    - need new constraint to prohibit this\n",
    "    - **Done**\n",
    "- Regarding proximity, I think it might make sense, be easiest to have a proximity matrix *for each subject*, and, as a result, have a constraint for each subject as well"
   ]
  },
  {
   "cell_type": "markdown",
   "metadata": {
    "collapsed": true
   },
   "source": [
    "# TODO\n",
    "- Double period constraints\n",
    "- Dealing with room constriants, making sure no more than 3 science per period etc."
   ]
  },
  {
   "cell_type": "markdown",
   "metadata": {},
   "source": [
    "# Double Period Addition\n",
    "$Db_j$ -- Indicates if course $j$ is a double period (1 or 0)  \n",
    "$M$ -- Arbirarily large constant, used for *big M* trick  \n",
    "\n",
    "\n",
    "\n",
    "**Second Idea** if course $j$ is a double period course then we add another course in the $j+1$ slot to be its second half. E.g. if Algebra is two periods, in slot $j$ we put Algebra_part1, and in $j+1$ we put Algebra_part2. Then we have to ensure that they are one period following the other (which becomes more challenging ensure that they are not in the lunch period thing), and make sure students enrolled in one are enrolled in the other:\n",
    "\n",
    "$M(2 - Db_j - c_{j,t}) + c_{j+1, t+1} \\geq 1 \\; \\forall j, t$ -- Says that if a course is a double period course, and it is taugh in period $t$ then $j+1$ (its second half) must be taught in period $t+1$. If it is not a double period, or not taught in $t$ then the big $M$ makes the constraint trivial.\n",
    "\n",
    "$M(2 - Db_j - x_{i,j}) + x_{i,j+1} \\geq 1 \\; \\forall i,j$ -- Says that if a course is a double period, and a student is enrolled in the first half, then they must also be enrolled in the second half. \n",
    "\n",
    "\n",
    "#### Old ideas that I don't think work\n",
    "$M(1 - Db_j) + \\sum_{t \\in T} c_{j, t} + c_{j, t+1} \\geq 2$ -- We see that if the course is *not* a double period then $1-Db_j = 1$ so the big $M$ will force the statement to be true and no constraint is imposed. If the course is a double period then $M(1-Db_j) = 0$ and we are left to rely on $\\sum_{t \\in T} c_{j, t} + c_{j, t+1}$. This sums... this does not work???\n",
    "\n",
    "** Important with this idea: ** Adjust the current constraint that each course taught only once, and to the right hand side add $Db_j$ so it becomes $1 + Db_j$\n",
    "\n",
    "if Db_j ==1:\n",
    "    make sure students are assigned this course in this period, and in the next\n",
    "    make sure room assigned this period and the next\n",
    "    \n",
    "$M(Db_j) + \\sum_{t \\in T} c_{j, t} + c_{j, t+1} \\geq 2$"
   ]
  },
  {
   "cell_type": "markdown",
   "metadata": {},
   "source": [
    "# Room Constraint Addition\n",
    "\n",
    "$R$ -- set of all rooms  \n",
    "$r_{j,s,t}$ for $j \\in C$, $s \\in R$ and $t \\in T$ -- binary, describes if course $j$ to be held in room $s$ durring period $t$.\n",
    "\n",
    "We must ensure that (in order of complexity, and therefore how we should address them):\n",
    "    1. No more than one course is held in a room at any given time\n",
    "    2. Double period courses are held in the same room\n",
    "    3. The room type limits are met, and assigned correctly (e.g., science to lab room)\n",
    "    \n",
    "$1-c_{j,t} + \\sum_{s \\in R}r_{j,s,t} = 1$ for $j \\in C$ and $t \\in T$ -- Says that if course $j$ is offered in period $t$ then course $j$ must be assigned to *at least* one room durring that period. *OR* we could se this to a parameter, to how many instances of this course are taught.\n",
    "\n",
    "** Drop this one: **$\\sum_{s \\in R}r_{j,s,t} \\leq 1$ for $j \\in C$ and $t \\in T$ -- For a given course in a given period, it must be assigned at most one room (could be 0 if this course is not offered). \n",
    "\n",
    "The above two constraints should ensure that if a course is offered in period $t$ then it is assigned *exactly* one room. This step is required to essentially tie $c_{j,t}$ to $r_{j,s,t}$.\n",
    "    \n",
    "$\\sum_{j \\in C} r_{j,s,t} \\leq 1 $ for $s \\in R$ and $t \\in T$ -- Each room can have at most one class in it at a time (we should make the gym two different rooms).\n",
    "\n",
    "**Next to consider is double periods**  \n",
    "Need to ensure that if course $j$ is a double period and $r_{j,s,t} = 1$ then it must be the case that $r_{j,s,t+1} = 1$ as well. I think we can use a similar big $M$ trick to what we did in the Double period constraints about:  \n",
    "\n",
    "$2 - Db_j - r_{j,s,t} + r_{j,s,t+1} \\geq 1$ for all $j \\in C$, $s \\in R$ and $t \\in T$\n",
    "\n",
    "**Lastly, we must ensure room type limits**  \n",
    "The only ones I think we have to worry about here are Science courses and Gym courses, the rest, so long as we impose a cap on the number of courses allowed in a given period (the total number of rooms) should fall into place. \n",
    "\n",
    "I think we can use the proximity matricies somehow. . . "
   ]
  },
  {
   "cell_type": "code",
   "execution_count": null,
   "metadata": {
    "collapsed": true
   },
   "outputs": [],
   "source": []
  }
 ],
 "metadata": {
  "kernelspec": {
   "display_name": "Python 3",
   "language": "python",
   "name": "python3"
  },
  "language_info": {
   "codemirror_mode": {
    "name": "ipython",
    "version": 3
   },
   "file_extension": ".py",
   "mimetype": "text/x-python",
   "name": "python",
   "nbconvert_exporter": "python",
   "pygments_lexer": "ipython3",
   "version": "3.6.3"
  }
 },
 "nbformat": 4,
 "nbformat_minor": 2
}
